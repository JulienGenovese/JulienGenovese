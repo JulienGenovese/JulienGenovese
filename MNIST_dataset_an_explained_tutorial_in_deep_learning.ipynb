{
  "nbformat": 4,
  "nbformat_minor": 0,
  "metadata": {
    "colab": {
      "name": " MNIST dataset: an explained tutorial in deep learning.ipynb",
      "provenance": [],
      "collapsed_sections": [
        "w6Bho8hSqHHV",
        "Sck7REy4BBnB",
        "CTaWRnvCHabT",
        "qVWQudKAXdHj",
        "mvADV8jj2Mh3",
        "teV2ly6zk832",
        "rhR-hdL4w4dC"
      ],
      "authorship_tag": "ABX9TyNfln+ywi1qvuanQnAkKOK/",
      "include_colab_link": true
    },
    "kernelspec": {
      "name": "python3",
      "display_name": "Python 3"
    },
    "accelerator": "GPU"
  },
  "cells": [
    {
      "cell_type": "markdown",
      "metadata": {
        "id": "view-in-github",
        "colab_type": "text"
      },
      "source": [
        "<a href=\"https://colab.research.google.com/github/JulienGenovese/My_work/blob/master/MNIST_dataset_an_explained_tutorial_in_deep_learning.ipynb\" target=\"_parent\"><img src=\"https://colab.research.google.com/assets/colab-badge.svg\" alt=\"Open In Colab\"/></a>"
      ]
    },
    {
      "cell_type": "markdown",
      "metadata": {
        "id": "60KpkaCa_s_O"
      },
      "source": [
        "# **MNIST DATASET ANALSYS**"
      ]
    },
    {
      "cell_type": "markdown",
      "metadata": {
        "id": "6jKoCxV-AJmr"
      },
      "source": [
        "We will work on the **MNIST dataset**, one of the most important one in the AI litterature. This dataset is composed by images of numbers from 0 to 9. We will try to classify them.\n",
        "\n",
        "In this notebook we don't want to do a complete analysis on the methods that can be used on this problem. We only want to:\n",
        "\n",
        "1. describe some techniques;\n",
        "2. see the results;\n",
        "3. try to explain them;\n",
        "\n",
        "\n",
        "This work is divided in this way:\n",
        "- Introduction to the problem and exploratory data analysis\n",
        "- A machine learning approach with Logistic Regression and Random Forest\n",
        "- A deep learning approach using Fully Connected Neural Network\n",
        "- A data augmentation trial\n",
        "- What to do next?\n",
        "\n",
        "For further details contact juliengenovese@hotmail.it"
      ]
    },
    {
      "cell_type": "markdown",
      "metadata": {
        "id": "w6Bho8hSqHHV"
      },
      "source": [
        "# 1. **Introduction of the problem and exploratory data analysis**\n"
      ]
    },
    {
      "cell_type": "markdown",
      "metadata": {
        "id": "Iqw9DOyuAxpi"
      },
      "source": [
        "### 1.1 **Import the library**"
      ]
    },
    {
      "cell_type": "markdown",
      "metadata": {
        "id": "y1uNPHKp86BV"
      },
      "source": [
        "If we don't have the gpu-version of tensorflow installed let's start by that."
      ]
    },
    {
      "cell_type": "code",
      "metadata": {
        "id": "9y0yzLN-oF53",
        "outputId": "cfbc4a06-015d-4431-a65d-57edc9b6378a",
        "colab": {
          "base_uri": "https://localhost:8080/"
        }
      },
      "source": [
        "!pip install tensorflow-gpu"
      ],
      "execution_count": null,
      "outputs": [
        {
          "output_type": "stream",
          "text": [
            "Collecting tensorflow-gpu\n",
            "\u001b[?25l  Downloading https://files.pythonhosted.org/packages/18/99/ac32fd13d56e40d4c3e6150030132519997c0bb1f06f448d970e81b177e5/tensorflow_gpu-2.3.1-cp36-cp36m-manylinux2010_x86_64.whl (320.4MB)\n",
            "\u001b[K     |████████████████████████████████| 320.4MB 56kB/s \n",
            "\u001b[?25hRequirement already satisfied: wrapt>=1.11.1 in /usr/local/lib/python3.6/dist-packages (from tensorflow-gpu) (1.12.1)\n",
            "Requirement already satisfied: tensorflow-estimator<2.4.0,>=2.3.0 in /usr/local/lib/python3.6/dist-packages (from tensorflow-gpu) (2.3.0)\n",
            "Requirement already satisfied: wheel>=0.26 in /usr/local/lib/python3.6/dist-packages (from tensorflow-gpu) (0.35.1)\n",
            "Requirement already satisfied: google-pasta>=0.1.8 in /usr/local/lib/python3.6/dist-packages (from tensorflow-gpu) (0.2.0)\n",
            "Requirement already satisfied: gast==0.3.3 in /usr/local/lib/python3.6/dist-packages (from tensorflow-gpu) (0.3.3)\n",
            "Requirement already satisfied: numpy<1.19.0,>=1.16.0 in /usr/local/lib/python3.6/dist-packages (from tensorflow-gpu) (1.18.5)\n",
            "Requirement already satisfied: termcolor>=1.1.0 in /usr/local/lib/python3.6/dist-packages (from tensorflow-gpu) (1.1.0)\n",
            "Requirement already satisfied: grpcio>=1.8.6 in /usr/local/lib/python3.6/dist-packages (from tensorflow-gpu) (1.33.2)\n",
            "Requirement already satisfied: absl-py>=0.7.0 in /usr/local/lib/python3.6/dist-packages (from tensorflow-gpu) (0.10.0)\n",
            "Requirement already satisfied: six>=1.12.0 in /usr/local/lib/python3.6/dist-packages (from tensorflow-gpu) (1.15.0)\n",
            "Requirement already satisfied: protobuf>=3.9.2 in /usr/local/lib/python3.6/dist-packages (from tensorflow-gpu) (3.12.4)\n",
            "Requirement already satisfied: keras-preprocessing<1.2,>=1.1.1 in /usr/local/lib/python3.6/dist-packages (from tensorflow-gpu) (1.1.2)\n",
            "Requirement already satisfied: h5py<2.11.0,>=2.10.0 in /usr/local/lib/python3.6/dist-packages (from tensorflow-gpu) (2.10.0)\n",
            "Requirement already satisfied: astunparse==1.6.3 in /usr/local/lib/python3.6/dist-packages (from tensorflow-gpu) (1.6.3)\n",
            "Requirement already satisfied: opt-einsum>=2.3.2 in /usr/local/lib/python3.6/dist-packages (from tensorflow-gpu) (3.3.0)\n",
            "Requirement already satisfied: tensorboard<3,>=2.3.0 in /usr/local/lib/python3.6/dist-packages (from tensorflow-gpu) (2.3.0)\n",
            "Requirement already satisfied: setuptools in /usr/local/lib/python3.6/dist-packages (from protobuf>=3.9.2->tensorflow-gpu) (50.3.2)\n",
            "Requirement already satisfied: requests<3,>=2.21.0 in /usr/local/lib/python3.6/dist-packages (from tensorboard<3,>=2.3.0->tensorflow-gpu) (2.23.0)\n",
            "Requirement already satisfied: werkzeug>=0.11.15 in /usr/local/lib/python3.6/dist-packages (from tensorboard<3,>=2.3.0->tensorflow-gpu) (1.0.1)\n",
            "Requirement already satisfied: google-auth-oauthlib<0.5,>=0.4.1 in /usr/local/lib/python3.6/dist-packages (from tensorboard<3,>=2.3.0->tensorflow-gpu) (0.4.2)\n",
            "Requirement already satisfied: tensorboard-plugin-wit>=1.6.0 in /usr/local/lib/python3.6/dist-packages (from tensorboard<3,>=2.3.0->tensorflow-gpu) (1.7.0)\n",
            "Requirement already satisfied: google-auth<2,>=1.6.3 in /usr/local/lib/python3.6/dist-packages (from tensorboard<3,>=2.3.0->tensorflow-gpu) (1.17.2)\n",
            "Requirement already satisfied: markdown>=2.6.8 in /usr/local/lib/python3.6/dist-packages (from tensorboard<3,>=2.3.0->tensorflow-gpu) (3.3.3)\n",
            "Requirement already satisfied: idna<3,>=2.5 in /usr/local/lib/python3.6/dist-packages (from requests<3,>=2.21.0->tensorboard<3,>=2.3.0->tensorflow-gpu) (2.10)\n",
            "Requirement already satisfied: chardet<4,>=3.0.2 in /usr/local/lib/python3.6/dist-packages (from requests<3,>=2.21.0->tensorboard<3,>=2.3.0->tensorflow-gpu) (3.0.4)\n",
            "Requirement already satisfied: urllib3!=1.25.0,!=1.25.1,<1.26,>=1.21.1 in /usr/local/lib/python3.6/dist-packages (from requests<3,>=2.21.0->tensorboard<3,>=2.3.0->tensorflow-gpu) (1.24.3)\n",
            "Requirement already satisfied: certifi>=2017.4.17 in /usr/local/lib/python3.6/dist-packages (from requests<3,>=2.21.0->tensorboard<3,>=2.3.0->tensorflow-gpu) (2020.6.20)\n",
            "Requirement already satisfied: requests-oauthlib>=0.7.0 in /usr/local/lib/python3.6/dist-packages (from google-auth-oauthlib<0.5,>=0.4.1->tensorboard<3,>=2.3.0->tensorflow-gpu) (1.3.0)\n",
            "Requirement already satisfied: rsa<5,>=3.1.4; python_version >= \"3\" in /usr/local/lib/python3.6/dist-packages (from google-auth<2,>=1.6.3->tensorboard<3,>=2.3.0->tensorflow-gpu) (4.6)\n",
            "Requirement already satisfied: pyasn1-modules>=0.2.1 in /usr/local/lib/python3.6/dist-packages (from google-auth<2,>=1.6.3->tensorboard<3,>=2.3.0->tensorflow-gpu) (0.2.8)\n",
            "Requirement already satisfied: cachetools<5.0,>=2.0.0 in /usr/local/lib/python3.6/dist-packages (from google-auth<2,>=1.6.3->tensorboard<3,>=2.3.0->tensorflow-gpu) (4.1.1)\n",
            "Requirement already satisfied: importlib-metadata; python_version < \"3.8\" in /usr/local/lib/python3.6/dist-packages (from markdown>=2.6.8->tensorboard<3,>=2.3.0->tensorflow-gpu) (2.0.0)\n",
            "Requirement already satisfied: oauthlib>=3.0.0 in /usr/local/lib/python3.6/dist-packages (from requests-oauthlib>=0.7.0->google-auth-oauthlib<0.5,>=0.4.1->tensorboard<3,>=2.3.0->tensorflow-gpu) (3.1.0)\n",
            "Requirement already satisfied: pyasn1>=0.1.3 in /usr/local/lib/python3.6/dist-packages (from rsa<5,>=3.1.4; python_version >= \"3\"->google-auth<2,>=1.6.3->tensorboard<3,>=2.3.0->tensorflow-gpu) (0.4.8)\n",
            "Requirement already satisfied: zipp>=0.5 in /usr/local/lib/python3.6/dist-packages (from importlib-metadata; python_version < \"3.8\"->markdown>=2.6.8->tensorboard<3,>=2.3.0->tensorflow-gpu) (3.4.0)\n",
            "Installing collected packages: tensorflow-gpu\n",
            "Successfully installed tensorflow-gpu-2.3.1\n"
          ],
          "name": "stdout"
        }
      ]
    },
    {
      "cell_type": "markdown",
      "metadata": {
        "id": "eWMTOof7lBaI"
      },
      "source": [
        "Next import some of the libraries that we need later.\n"
      ]
    },
    {
      "cell_type": "code",
      "metadata": {
        "id": "d1NxeE4-j1GH"
      },
      "source": [
        "import tensorflow as tf\n",
        "from tensorflow import keras\n",
        "from keras.wrappers.scikit_learn import KerasClassifier\n",
        "\n",
        "import numpy as np\n",
        "import matplotlib.pyplot as plt\n",
        "from random import randrange\n",
        "import seaborn as sns\n",
        "\n",
        "from sklearn.metrics import confusion_matrix, accuracy_score\n",
        "from sklearn.model_selection import GridSearchCV, cross_val_score\n",
        "from sklearn import metrics\n"
      ],
      "execution_count": null,
      "outputs": []
    },
    {
      "cell_type": "markdown",
      "metadata": {
        "id": "MBwc8cIPAFzg"
      },
      "source": [
        "We want to see if the GPU is working. If we have a result with a number it's working, otherwise not."
      ]
    },
    {
      "cell_type": "code",
      "metadata": {
        "id": "NB9dW--A__fW",
        "outputId": "9e8d2ee6-7bae-4df1-935a-8b672236d376",
        "colab": {
          "base_uri": "https://localhost:8080/",
          "height": 34
        }
      },
      "source": [
        "tf.test.gpu_device_name()"
      ],
      "execution_count": null,
      "outputs": [
        {
          "output_type": "execute_result",
          "data": {
            "application/vnd.google.colaboratory.intrinsic+json": {
              "type": "string"
            },
            "text/plain": [
              "'/device:GPU:0'"
            ]
          },
          "metadata": {
            "tags": []
          },
          "execution_count": 3
        }
      ]
    },
    {
      "cell_type": "markdown",
      "metadata": {
        "id": "HawPah_09SmD"
      },
      "source": [
        "If we want some other details on the hardware that we are using we can use the following command:"
      ]
    },
    {
      "cell_type": "code",
      "metadata": {
        "id": "VmUtLv_vAKgF",
        "outputId": "a9e6eedc-533d-481d-c11a-9975d3a676b6",
        "colab": {
          "base_uri": "https://localhost:8080/"
        }
      },
      "source": [
        "from tensorflow.python.client import device_lib\n",
        "device_lib.list_local_devices()"
      ],
      "execution_count": null,
      "outputs": [
        {
          "output_type": "execute_result",
          "data": {
            "text/plain": [
              "[name: \"/device:CPU:0\"\n",
              " device_type: \"CPU\"\n",
              " memory_limit: 268435456\n",
              " locality {\n",
              " }\n",
              " incarnation: 5871664775136174683, name: \"/device:XLA_CPU:0\"\n",
              " device_type: \"XLA_CPU\"\n",
              " memory_limit: 17179869184\n",
              " locality {\n",
              " }\n",
              " incarnation: 4708820212473186952\n",
              " physical_device_desc: \"device: XLA_CPU device\", name: \"/device:XLA_GPU:0\"\n",
              " device_type: \"XLA_GPU\"\n",
              " memory_limit: 17179869184\n",
              " locality {\n",
              " }\n",
              " incarnation: 15952598171207898654\n",
              " physical_device_desc: \"device: XLA_GPU device\", name: \"/device:GPU:0\"\n",
              " device_type: \"GPU\"\n",
              " memory_limit: 15677807680\n",
              " locality {\n",
              "   bus_id: 1\n",
              "   links {\n",
              "   }\n",
              " }\n",
              " incarnation: 5077257661028542279\n",
              " physical_device_desc: \"device: 0, name: Tesla P100-PCIE-16GB, pci bus id: 0000:00:04.0, compute capability: 6.0\"]"
            ]
          },
          "metadata": {
            "tags": []
          },
          "execution_count": 4
        }
      ]
    },
    {
      "cell_type": "markdown",
      "metadata": {
        "id": "Sck7REy4BBnB"
      },
      "source": [
        "### 1.2 **Exploratory data analysis**"
      ]
    },
    {
      "cell_type": "markdown",
      "metadata": {
        "id": "YF5weeyflOHI"
      },
      "source": [
        "We import the MNIST dataset directly from Keras and we put the training set and test set into different ones. \n",
        "\n",
        "We have to say that the training set is not the best term to understand because it's better to call it the __learning set__. In fact we use it to learn the best model and this consist of a learning phase of different models using a part of it called __training set__ and a test phase on the remaining part called __dev set__ (or validation set). Finally, aften we chose the best model we use the __test set__ to have an idea of the real error without bias.\n",
        "\n",
        "We cannot use the error estimated in the dev set because we have chosen the best model on the dev set and maybe we have overfitten it. So we need an unbiased set."
      ]
    },
    {
      "cell_type": "code",
      "metadata": {
        "id": "gINARHjlkCab",
        "outputId": "41439ff9-4bbe-4809-a110-0ed1410f7175",
        "colab": {
          "base_uri": "https://localhost:8080/"
        }
      },
      "source": [
        "mnist = tf.keras.datasets.mnist\n",
        "(x_train, y_train), (x_test, y_test) = mnist.load_data()"
      ],
      "execution_count": null,
      "outputs": [
        {
          "output_type": "stream",
          "text": [
            "Downloading data from https://storage.googleapis.com/tensorflow/tf-keras-datasets/mnist.npz\n",
            "11493376/11490434 [==============================] - 0s 0us/step\n"
          ],
          "name": "stdout"
        }
      ]
    },
    {
      "cell_type": "markdown",
      "metadata": {
        "id": "iMcFN7qQoKre"
      },
      "source": [
        "Let's first do an exploratory data analysis to better understand our dataset.\n"
      ]
    },
    {
      "cell_type": "code",
      "metadata": {
        "id": "fAOi22Fpon65",
        "outputId": "43b89b0a-ef94-4698-f234-4782bb606499",
        "colab": {
          "base_uri": "https://localhost:8080/"
        }
      },
      "source": [
        "x_train.shape"
      ],
      "execution_count": null,
      "outputs": [
        {
          "output_type": "execute_result",
          "data": {
            "text/plain": [
              "(60000, 28, 28)"
            ]
          },
          "metadata": {
            "tags": []
          },
          "execution_count": 6
        }
      ]
    },
    {
      "cell_type": "markdown",
      "metadata": {
        "id": "K9siQBSUo0ot"
      },
      "source": [
        "We see that we are working with 60000 images in a grey scale of 28x28 pixels."
      ]
    },
    {
      "cell_type": "code",
      "metadata": {
        "id": "r8UzfONHpFd3",
        "outputId": "cada0737-3352-4955-ff84-a739960bf18c",
        "colab": {
          "base_uri": "https://localhost:8080/"
        }
      },
      "source": [
        "print(y_train.shape)\n",
        "print(np.unique(y_train))"
      ],
      "execution_count": null,
      "outputs": [
        {
          "output_type": "stream",
          "text": [
            "(60000,)\n",
            "[0 1 2 3 4 5 6 7 8 9]\n"
          ],
          "name": "stdout"
        }
      ]
    },
    {
      "cell_type": "markdown",
      "metadata": {
        "id": "4U12WvvKpakl"
      },
      "source": [
        "We see that we have 10 labels associated with 10 numbers.\n",
        "Let's plot now some random examples:"
      ]
    },
    {
      "cell_type": "code",
      "metadata": {
        "id": "oZTImqg_CaW1",
        "outputId": "02af4900-6147-4775-8bd6-1cac5bfb7421",
        "colab": {
          "base_uri": "https://localhost:8080/",
          "height": 588
        }
      },
      "source": [
        "plt.figure(figsize=(10,10))\n",
        "np.random.seed(1)\n",
        "for i in range(25):\n",
        "    rn = np.random.randint(x_train.shape[0])\n",
        "    plt.subplot(5,5,i +1 )\n",
        "    plt.xticks([])\n",
        "    plt.yticks([])\n",
        "    plt.grid(True)\n",
        "    plt.imshow(x_train[rn], cmap=plt.cm.binary)\n",
        "    plt.xlabel(y_train[rn])\n",
        "plt.show()"
      ],
      "execution_count": null,
      "outputs": [
        {
          "output_type": "display_data",
          "data": {
            "image/png": "[encoded data removed]",
            "text/plain": [
              "<Figure size 720x720 with 25 Axes>"
            ]
          },
          "metadata": {
            "tags": []
          }
        }
      ]
    },
    {
      "cell_type": "markdown",
      "metadata": {
        "id": "td595mxvw8YW"
      },
      "source": [
        "Another thing very important is to understand if the dataset is balanced."
      ]
    },
    {
      "cell_type": "code",
      "metadata": {
        "id": "zrHPFt4rpGrs",
        "outputId": "d9e7afe7-107e-4a47-caa4-be135fba762f",
        "colab": {
          "base_uri": "https://localhost:8080/",
          "height": 503
        }
      },
      "source": [
        "y_train \n",
        "y = np.bincount(y_train)\n",
        "ii = np.nonzero(y)[0]\n",
        "print(np.vstack((ii,y[ii]/len(y_train))).T)\n",
        "sns.countplot(y_train)"
      ],
      "execution_count": null,
      "outputs": [
        {
          "output_type": "stream",
          "text": [
            "[[0.         0.09871667]\n",
            " [1.         0.11236667]\n",
            " [2.         0.0993    ]\n",
            " [3.         0.10218333]\n",
            " [4.         0.09736667]\n",
            " [5.         0.09035   ]\n",
            " [6.         0.09863333]\n",
            " [7.         0.10441667]\n",
            " [8.         0.09751667]\n",
            " [9.         0.09915   ]]\n"
          ],
          "name": "stdout"
        },
        {
          "output_type": "stream",
          "text": [
            "/usr/local/lib/python3.6/dist-packages/seaborn/_decorators.py:43: FutureWarning: Pass the following variable as a keyword arg: x. From version 0.12, the only valid positional argument will be `data`, and passing other arguments without an explicit keyword will result in an error or misinterpretation.\n",
            "  FutureWarning\n"
          ],
          "name": "stderr"
        },
        {
          "output_type": "execute_result",
          "data": {
            "text/plain": [
              "<matplotlib.axes._subplots.AxesSubplot at 0x7f249d9e0198>"
            ]
          },
          "metadata": {
            "tags": []
          },
          "execution_count": 9
        },
        {
          "output_type": "display_data",
          "data": {
            "image/png": "[encoded data removed]",
            "text/plain": [
              "<Figure size 432x288 with 1 Axes>"
            ]
          },
          "metadata": {
            "tags": [],
            "needs_background": "light"
          }
        }
      ]
    },
    {
      "cell_type": "markdown",
      "metadata": {
        "id": "xqjLERivzp4j"
      },
      "source": [
        "As we can see it's completely balanced. We don't need [particular techniques ](https://machinelearningmastery.com/what-is-imbalanced-classification/) to deal with it. "
      ]
    },
    {
      "cell_type": "markdown",
      "metadata": {
        "id": "U_IhevzBx1yv"
      },
      "source": [
        "### 1.3 **Normalization of the data**\n"
      ]
    },
    {
      "cell_type": "markdown",
      "metadata": {
        "id": "fmq_M9rBBN06"
      },
      "source": [
        "In most of the machine and deep learning algorithms we need to normalize our data. \n",
        "\n",
        "In this case we will work with three algorithms:\n",
        "\n",
        "\n",
        "1.   Random Forest\n",
        "2.   Logistic regression\n",
        "3.   Fully connected neural network\n",
        "\n",
        "In the first case if we normalize or not it's the same. \n",
        "\n",
        "For the second and third one the normalization is important."
      ]
    },
    {
      "cell_type": "markdown",
      "metadata": {
        "id": "zqLe4LePKW63"
      },
      "source": [
        "But why we normalize in that case? A very interesting [article](https://towardsdatascience.com/why-data-should-be-normalized-before-training-a-neural-network-c626b7f66c7d) give a very good answer when we are working with a Neural Network. The normalization for logistic regression is quite a classical topic and can be found in a statistical learning book.\n",
        "\n",
        "The idea is the following that we are going to explain.\n",
        "\n",
        "We will use a particular explaination that we can generalize.\n",
        "\n",
        "Let's suppose we are working with a logistic classificator. As we know in a fully connected network we can think each layer as a combination of different logistic classifiers but differently to them we usually don't use the sigmoid for the non-linearity part. In any case the sigmoid will be useful to understand.\n",
        "\n",
        "To explain the reason of the normalization we remind that if $w_i$ is a weight of the netword we update the step $n$ using the gradient descent:\n",
        "$$\n",
        "w_i^n = w_i^{n-1} - \\alpha \\cdot \\frac{\\partial \\textit{L}}{\\partial w_i}\n",
        "$$\n",
        "and if we use the sigmoid as the non-linearity we have:\n",
        "$$\n",
        "\\frac{\\partial \\textit{L}}{\\partial w_i} = x_i \\cdot (a - y)\n",
        "$$\n",
        "where $a$ is the prediction a the $(n-1)$ th step and $y$ the label associated to $\\textbf{x} = (x_1, x_2, x_3, ...)$. So we see that $x_i$ control the amount of learning. If we have more information the learning will be bigger, slower otherwise. But in general it's not a good strategy to control the learning in this way so we have to normalize $x_i$. We cannot reduce $\\alpha$ because it's operate uniformly on each feature.\n",
        "\n",
        "The idea is similar changing the loss, because in all cases the derivative will be:\n",
        "$$\n",
        "\\frac{\\partial \\textit{L}}{\\partial w_i} = x_i \\cdot \\frac{\\partial \\textit{L}}{\\partial z_i} \n",
        "$$\n",
        "where $z = \\textbf{x}^T\\cdot \\textbf{w}$ with $\\textbf{w}$ the vector of weights.\\\\"
      ]
    },
    {
      "cell_type": "markdown",
      "metadata": {
        "id": "5ABf7Xk9WT_U"
      },
      "source": [
        "Talking about the effect of the normalization from the image resolution point of view we can see [here](https://aishack.in/tutorials/normalized-rgb/) an example.\n"
      ]
    },
    {
      "cell_type": "markdown",
      "metadata": {
        "id": "hiuivvq1U0Tb"
      },
      "source": [
        "Therefore we normalize our data by the maximum possible pixel value:\n"
      ]
    },
    {
      "cell_type": "code",
      "metadata": {
        "id": "PZELTzNGVI3y",
        "outputId": "48432c08-32a2-41c1-9a1e-0e3d55c88887",
        "colab": {
          "base_uri": "https://localhost:8080/"
        }
      },
      "source": [
        "x_train = x_train/255\n",
        "print(x_train.shape)\n",
        "x_test = x_test /255\n",
        "print(x_test.shape)"
      ],
      "execution_count": null,
      "outputs": [
        {
          "output_type": "stream",
          "text": [
            "(60000, 28, 28)\n",
            "(10000, 28, 28)\n"
          ],
          "name": "stdout"
        }
      ]
    },
    {
      "cell_type": "markdown",
      "metadata": {
        "id": "WWX9mGTlUlsz"
      },
      "source": [
        "# 2. **A machine learning approach with Logistic Regression and Random Forest**\n"
      ]
    },
    {
      "cell_type": "markdown",
      "metadata": {
        "id": "4qKDSjZwV4FW"
      },
      "source": [
        "Now we reshape the image to flatten it and take it as a row vector.\n",
        "\n",
        "We pass from $(60000, 28, 28)$ to $(60000, 28 \\times 28)$.\n",
        "\n",
        "This is a necessary step to input the image into a machine learning model.\n"
      ]
    },
    {
      "cell_type": "code",
      "metadata": {
        "id": "sILu5nPHWWCp",
        "outputId": "11f12e85-0be8-4914-aeb6-66394a21799b",
        "colab": {
          "base_uri": "https://localhost:8080/"
        }
      },
      "source": [
        "x_train_reshaped = x_train.reshape((x_train.shape[0], x_train.shape[1] * x_train.shape[2]))\n",
        "x_test_reshaped = x_test.reshape((x_test.shape[0], x_test.shape[1] * x_test.shape[2]))\n",
        "print(x_train_reshaped.shape)\n",
        "print(x_train_reshaped[0,500:520])"
      ],
      "execution_count": null,
      "outputs": [
        {
          "output_type": "stream",
          "text": [
            "(60000, 784)\n",
            "[0.         0.         0.         0.         0.         0.\n",
            " 0.         0.         0.         0.         0.         0.\n",
            " 0.         0.         0.         0.         0.         0.\n",
            " 0.18039216 0.50980392]\n"
          ],
          "name": "stdout"
        }
      ]
    },
    {
      "cell_type": "markdown",
      "metadata": {
        "id": "CTaWRnvCHabT"
      },
      "source": [
        "### 2.1 **Logistic Regression**"
      ]
    },
    {
      "cell_type": "markdown",
      "metadata": {
        "id": "nnP0inXuH0uR"
      },
      "source": [
        "We will not explain here the binary logistic classifier but we suggest the lecture of [this book](http://faculty.marshall.usc.edu/gareth-james/ISL/).\n",
        "\n",
        "In particular we will use the approach of One-vs-Rest for the multiclass classification.\n",
        "To better understand how to pass from the classical algorithm for binary classification to the multiclass we suggest [this](https://machinelearningmastery.com/one-vs-rest-and-one-vs-one-for-multi-class-classification/).\n"
      ]
    },
    {
      "cell_type": "code",
      "metadata": {
        "id": "fsvxQTuuKGZS"
      },
      "source": [
        "from sklearn.linear_model import LogisticRegression"
      ],
      "execution_count": null,
      "outputs": []
    },
    {
      "cell_type": "markdown",
      "metadata": {
        "id": "j4e7cVlZ2QXI"
      },
      "source": [
        "We start training our algorithm finding first the accuracy using a part of the dataset and using a cross-validation approach. In this way we have a solid idea of the test error and in the end we will use it to select the best model."
      ]
    },
    {
      "cell_type": "code",
      "metadata": {
        "id": "JpIQ8nIBIMAC",
        "outputId": "928bbc68-2c30-47e0-98a1-bada186473ec",
        "colab": {
          "base_uri": "https://localhost:8080/"
        }
      },
      "source": [
        "modelLogisticOVR = LogisticRegression(multi_class='ovr')\n",
        "cross_val_score(modelLogisticOVR, x_train_reshaped, y_train, cv = 3, n_jobs = -1, scoring = \"accuracy\")"
      ],
      "execution_count": null,
      "outputs": [
        {
          "output_type": "execute_result",
          "data": {
            "text/plain": [
              "array([0.91165, 0.91235, 0.91685])"
            ]
          },
          "metadata": {
            "tags": []
          },
          "execution_count": 21
        }
      ]
    },
    {
      "cell_type": "markdown",
      "metadata": {
        "id": "Srzy2XVD27YV"
      },
      "source": [
        "We see an accuracy aroung $91.2\\%$.\n",
        "\n",
        "Let's use now all the training set."
      ]
    },
    {
      "cell_type": "code",
      "metadata": {
        "id": "tRydKb2p2E3x"
      },
      "source": [
        "# fit model\n",
        "modelLogisticOVR.fit(x_train_reshaped, y_train)"
      ],
      "execution_count": null,
      "outputs": []
    },
    {
      "cell_type": "markdown",
      "metadata": {
        "id": "wqV_-UJGLJiE"
      },
      "source": [
        "Predict the result for the train set and analyze the results:\n"
      ]
    },
    {
      "cell_type": "code",
      "metadata": {
        "id": "7IF17ywKLORQ"
      },
      "source": [
        "y_pred = modelLogisticOVR.predict(x_train_reshaped)"
      ],
      "execution_count": null,
      "outputs": []
    },
    {
      "cell_type": "markdown",
      "metadata": {
        "id": "O8YEtNPzScIJ"
      },
      "source": [
        "To understand if it's a good result we can compare it with the random guessing that can be seen as a benchmark in a balanced classification problem. We have 10 classes so the random guessing classifier has a score of 1/10 = 0.1\n",
        "\n",
        "So comparing to result to our algorithm result (cross-validation result) we can see that the logistic regressor is learning something."
      ]
    },
    {
      "cell_type": "markdown",
      "metadata": {
        "id": "0zaXUcgVSRsZ"
      },
      "source": [
        "Let's see if some particular patters are present in the errors, plotting the misclassified images with the [confusion matrix](https://towardsdatascience.com/understanding-confusion-matrix-a9ad42dcfd62) and the confusion matrix normalized by row (therefore by the number of elements in each class)."
      ]
    },
    {
      "cell_type": "code",
      "metadata": {
        "id": "dZbm4h40RLqh",
        "outputId": "7b087d83-aff5-43ff-af90-616da1de5a94",
        "colab": {
          "base_uri": "https://localhost:8080/",
          "height": 588
        }
      },
      "source": [
        "incorrects = np.nonzero(y_pred != y_train)\n",
        "x_incorrect = x_train[incorrects]\n",
        "y_incorrect = y_pred[incorrects]\n",
        "plt.figure(figsize=(10,10))\n",
        "for i in range(25):\n",
        "    rn = np.random.randint(x_incorrect.shape[0])\n",
        "    plt.subplot(5,5,i +1 )\n",
        "    plt.xticks([])\n",
        "    plt.yticks([])\n",
        "    plt.grid(True)\n",
        "    plt.imshow(x_incorrect[rn], cmap=plt.cm.binary)\n",
        "    plt.xlabel(y_incorrect[rn])\n",
        "plt.show()"
      ],
      "execution_count": null,
      "outputs": [
        {
          "output_type": "display_data",
          "data": {
            "image/png": "[encoded data removed]",
            "text/plain": [
              "<Figure size 720x720 with 25 Axes>"
            ]
          },
          "metadata": {
            "tags": []
          }
        }
      ]
    },
    {
      "cell_type": "markdown",
      "metadata": {
        "id": "wDeWPZ8LUFP5"
      },
      "source": [
        "We can see that sometimes it's easy to see the error, because our algorithm is very related with the pixel position. "
      ]
    },
    {
      "cell_type": "code",
      "metadata": {
        "id": "lrWBaqZbSQtc",
        "outputId": "5afbc792-dc17-4a47-c1fb-cbbf46088fed",
        "colab": {
          "base_uri": "https://localhost:8080/",
          "height": 281
        }
      },
      "source": [
        "sns.heatmap(confusion_matrix(y_train, y_pred), \n",
        "                    annot=True, cbar=False, fmt='d')"
      ],
      "execution_count": null,
      "outputs": [
        {
          "output_type": "execute_result",
          "data": {
            "text/plain": [
              "<matplotlib.axes._subplots.AxesSubplot at 0x7fc4c60ccef0>"
            ]
          },
          "metadata": {
            "tags": []
          },
          "execution_count": 26
        },
        {
          "output_type": "display_data",
          "data": {
            "image/png": "[encoded data removed]",
            "text/plain": [
              "<Figure size 432x288 with 1 Axes>"
            ]
          },
          "metadata": {
            "tags": [],
            "needs_background": "light"
          }
        }
      ]
    },
    {
      "cell_type": "code",
      "metadata": {
        "id": "5r9uX9XN4h_w",
        "outputId": "fde8a3d6-55f7-42b6-c9e3-e4697c8d5b79",
        "colab": {
          "base_uri": "https://localhost:8080/",
          "height": 274
        }
      },
      "source": [
        "conf_mx = confusion_matrix(y_train, y_pred)\n",
        "row_sums = conf_mx.sum(axis = 1, keepdims = True)\n",
        "norm_conf_mx = conf_mx / row_sums\n",
        "np.fill_diagonal(norm_conf_mx, 0)\n",
        "plt.matshow(norm_conf_mx, cmap = plt.cm.gray)\n",
        "plt.show()"
      ],
      "execution_count": null,
      "outputs": [
        {
          "output_type": "display_data",
          "data": {
            "image/png": "[encoded data removed]",
            "text/plain": [
              "<Figure size 288x288 with 1 Axes>"
            ]
          },
          "metadata": {
            "tags": [],
            "needs_background": "light"
          }
        }
      ]
    },
    {
      "cell_type": "markdown",
      "metadata": {
        "id": "DzjW_QbT5gQZ"
      },
      "source": [
        "From this confusion matrix we can see that maybe it's harder to predict the 8, the 5, the 2 and the 9."
      ]
    },
    {
      "cell_type": "markdown",
      "metadata": {
        "id": "gPJs0k1FT06E"
      },
      "source": [
        "In any case we don't see a particular pattern in the error so the problem is probably due to underfitting, i.e. our algorithm is not capturing all the pattern in the image."
      ]
    },
    {
      "cell_type": "markdown",
      "metadata": {
        "id": "Yi4wfItcHgJ1"
      },
      "source": [
        "### 2.2 **Random Forest**"
      ]
    },
    {
      "cell_type": "markdown",
      "metadata": {
        "id": "XYISKB4pUScH"
      },
      "source": [
        "We will not explain here the random forest, so we suggest the lecture of [this book](http://faculty.marshall.usc.edu/gareth-james/ISL/).\n"
      ]
    },
    {
      "cell_type": "code",
      "metadata": {
        "id": "_Y4iFmSRXQPH"
      },
      "source": [
        "from sklearn.ensemble import RandomForestClassifier"
      ],
      "execution_count": null,
      "outputs": []
    },
    {
      "cell_type": "markdown",
      "metadata": {
        "id": "RqA0LRXBUoyz"
      },
      "source": [
        "In this case we need to do parameter tuning over some parameters. We can see a good guide on [this page](https://www.analyticsvidhya.com/blog/2020/03/beginners-guide-random-forest-hyperparameter-tuning/).\n",
        "\n",
        "In particular we will focus on the number of trees and the number of features we give to each tree."
      ]
    },
    {
      "cell_type": "code",
      "metadata": {
        "id": "a4XTPONHcvKP"
      },
      "source": [
        "param_grid = {\n",
        "    'max_features': ['max_features','log2', 'sqrt'],\n",
        "    'n_estimators': [100, 500, 1000]\n",
        "}\n",
        "rf = RandomForestClassifier()\n",
        "grid_search = GridSearchCV(estimator = rf, param_grid = param_grid, \n",
        "                          cv = 10, n_jobs = -1, verbose = 2)"
      ],
      "execution_count": null,
      "outputs": []
    },
    {
      "cell_type": "code",
      "metadata": {
        "id": "affi_ErIXT6t",
        "outputId": "22d0db5a-6516-4e91-8d8d-a5c652b2ec7c",
        "colab": {
          "base_uri": "https://localhost:8080/"
        }
      },
      "source": [
        "grid_search.fit(x_train_reshaped,y_train)"
      ],
      "execution_count": null,
      "outputs": [
        {
          "output_type": "stream",
          "text": [
            "Fitting 10 folds for each of 9 candidates, totalling 90 fits\n"
          ],
          "name": "stdout"
        },
        {
          "output_type": "stream",
          "text": [
            "[Parallel(n_jobs=-1)]: Using backend LokyBackend with 2 concurrent workers.\n",
            "[Parallel(n_jobs=-1)]: Done  37 tasks      | elapsed:  1.6min\n",
            "/usr/local/lib/python3.6/dist-packages/joblib/externals/loky/process_executor.py:691: UserWarning: A worker stopped while some jobs were given to the executor. This can be caused by a too short worker timeout or by a memory leak.\n",
            "  \"timeout or by a memory leak.\", UserWarning\n",
            "[Parallel(n_jobs=-1)]: Done  90 out of  90 | elapsed: 104.0min finished\n"
          ],
          "name": "stderr"
        },
        {
          "output_type": "execute_result",
          "data": {
            "text/plain": [
              "GridSearchCV(cv=10, error_score=nan,\n",
              "             estimator=RandomForestClassifier(bootstrap=True, ccp_alpha=0.0,\n",
              "                                              class_weight=None,\n",
              "                                              criterion='gini', max_depth=None,\n",
              "                                              max_features='auto',\n",
              "                                              max_leaf_nodes=None,\n",
              "                                              max_samples=None,\n",
              "                                              min_impurity_decrease=0.0,\n",
              "                                              min_impurity_split=None,\n",
              "                                              min_samples_leaf=1,\n",
              "                                              min_samples_split=2,\n",
              "                                              min_weight_fraction_leaf=0.0,\n",
              "                                              n_estimators=100, n_jobs=None,\n",
              "                                              oob_score=False,\n",
              "                                              random_state=None, verbose=0,\n",
              "                                              warm_start=False),\n",
              "             iid='deprecated', n_jobs=-1,\n",
              "             param_grid={'max_features': ['max_features', 'log2', 'sqrt'],\n",
              "                         'n_estimators': [100, 500, 1000]},\n",
              "             pre_dispatch='2*n_jobs', refit=True, return_train_score=False,\n",
              "             scoring=None, verbose=2)"
            ]
          },
          "metadata": {
            "tags": []
          },
          "execution_count": 15
        }
      ]
    },
    {
      "cell_type": "code",
      "metadata": {
        "id": "TrHKzpgZdXNB",
        "outputId": "1093f5f6-3fe2-4603-8d7b-c8f5c83e43d2",
        "colab": {
          "base_uri": "https://localhost:8080/"
        }
      },
      "source": [
        "grid_search.best_params_"
      ],
      "execution_count": null,
      "outputs": [
        {
          "output_type": "execute_result",
          "data": {
            "text/plain": [
              "{'max_features': 'sqrt', 'n_estimators': 1000}"
            ]
          },
          "metadata": {
            "tags": []
          },
          "execution_count": 16
        }
      ]
    },
    {
      "cell_type": "markdown",
      "metadata": {
        "id": "Q68vbNTtr2VL"
      },
      "source": [
        "The best features seem to be:\n",
        "\n",
        "```\n",
        "#{'max_features': 'sqrt', 'n_estimators': 1000}\n",
        "```\n",
        "\n"
      ]
    },
    {
      "cell_type": "markdown",
      "metadata": {
        "id": "IIrTfvH5XKjJ"
      },
      "source": [
        "Let's now train the best algorithm and analyze the cross-validation score.\n",
        "\n",
        "\n",
        "\n"
      ]
    },
    {
      "cell_type": "code",
      "metadata": {
        "id": "V7exqpUY6cVr"
      },
      "source": [
        "rfc = RandomForestClassifier(n_estimators=1000, max_features = \"sqrt\", n_jobs= -1)"
      ],
      "execution_count": null,
      "outputs": []
    },
    {
      "cell_type": "code",
      "metadata": {
        "id": "0d-tmEBl6QHN",
        "outputId": "5e9f04a9-e1d3-4e49-b780-d5568887f657",
        "colab": {
          "base_uri": "https://localhost:8080/"
        }
      },
      "source": [
        "cross_val_score(rfc, x_train_reshaped, y_train, cv = 3, n_jobs = -1, scoring = \"accuracy\")"
      ],
      "execution_count": null,
      "outputs": [
        {
          "output_type": "execute_result",
          "data": {
            "text/plain": [
              "array([0.9675 , 0.96485, 0.96865])"
            ]
          },
          "metadata": {
            "tags": []
          },
          "execution_count": 32
        }
      ]
    },
    {
      "cell_type": "markdown",
      "metadata": {
        "id": "LdPYFXWr8oeI"
      },
      "source": [
        "In that case we see a result around 96.5% of accuracy.\n",
        "\n",
        "Let's train on the whole dataset and analyze the results.\n"
      ]
    },
    {
      "cell_type": "code",
      "metadata": {
        "id": "2V_Y58rUs9-x",
        "outputId": "67f660e1-3daa-4f9d-8dce-7f3dc60d0843",
        "colab": {
          "base_uri": "https://localhost:8080/"
        }
      },
      "source": [
        "rfc.fit(x_train_reshaped, y_train)"
      ],
      "execution_count": null,
      "outputs": [
        {
          "output_type": "execute_result",
          "data": {
            "text/plain": [
              "RandomForestClassifier(bootstrap=True, ccp_alpha=0.0, class_weight=None,\n",
              "                       criterion='gini', max_depth=None, max_features='sqrt',\n",
              "                       max_leaf_nodes=None, max_samples=None,\n",
              "                       min_impurity_decrease=0.0, min_impurity_split=None,\n",
              "                       min_samples_leaf=1, min_samples_split=2,\n",
              "                       min_weight_fraction_leaf=0.0, n_estimators=1000,\n",
              "                       n_jobs=-1, oob_score=False, random_state=None, verbose=0,\n",
              "                       warm_start=False)"
            ]
          },
          "metadata": {
            "tags": []
          },
          "execution_count": 41
        }
      ]
    },
    {
      "cell_type": "code",
      "metadata": {
        "id": "DsZUdq3YYCPm"
      },
      "source": [
        "y_pred = rfc.predict(x_train_reshaped)"
      ],
      "execution_count": null,
      "outputs": []
    },
    {
      "cell_type": "code",
      "metadata": {
        "id": "PZRG3qOA-QAj",
        "outputId": "adc0743f-d886-49cc-8238-c31ee4311cf5",
        "colab": {
          "base_uri": "https://localhost:8080/"
        }
      },
      "source": [
        "incorrects = np.nonzero(y_pred != y_train)\n",
        "print(incorrects)"
      ],
      "execution_count": null,
      "outputs": [
        {
          "output_type": "stream",
          "text": [
            "(array([], dtype=int64),)\n",
            "[5 0 4 1 9]\n",
            "[5 0 4 1 9]\n"
          ],
          "name": "stdout"
        }
      ]
    },
    {
      "cell_type": "markdown",
      "metadata": {
        "id": "W-4DdnonhSAQ"
      },
      "source": [
        "Seeing the result we can also suspect an overfitting of the training set. "
      ]
    },
    {
      "cell_type": "markdown",
      "metadata": {
        "id": "7UOyA4Arif9S"
      },
      "source": [
        "# 3. **A deep learning approach using Fully Connected Neural Network**\n"
      ]
    },
    {
      "cell_type": "markdown",
      "metadata": {
        "id": "BCUWZrubimkO"
      },
      "source": [
        "Let's now pass to fully connected neural networks to see if our predictions can be improved. \n",
        "\n",
        "We will do different experiments:\n",
        "\n",
        "1. **Change the optimization method**: stochastic gradient descent and Adam.\n",
        "2. **Regularization**: we will try to use some regularization techniques like dropout and penalization methods.\n",
        "3. **Change the dimensions of the network**: change the number of layers and the number of neurons.\n",
        "4. **Hyper-parameter tuning**: we select the best parameters for the selected optimization method.\n",
        "5. **Change the batch size of the mini-batch size and epochs**: change the number of images that we give in input to the optimization algorithm for each upgrading and the number of epochs we use to train.\n",
        "\n",
        "We suggest [this lecture](https://machinelearningmastery.com/grid-search-hyperparameters-deep-learning-models-python-keras/) for a complete tutorial on hyper parameter tuning for deep learning."
      ]
    },
    {
      "cell_type": "markdown",
      "metadata": {
        "id": "iH6OLxxPn2Ov"
      },
      "source": [
        "### 3.1 **Change the optimization method**"
      ]
    },
    {
      "cell_type": "markdown",
      "metadata": {
        "id": "_B6fKb05kMXP"
      },
      "source": [
        "Let's start creating this very simple architecture:\n",
        "\n",
        "\n",
        "1.   __Flatten layer__: used only to flatten the input. We don't need parameters.\n",
        "2.   __One dense layer with relu activation__: used to learn some non-linearity.\n",
        "3.  __One dense layer with sigmoid activation__: used to predict the output with a \"probability\" idea.\n",
        "\n",
        "It's quite a classical structure but it's enough to do some experiments.\n",
        "\n",
        "We want to compare the __Stochastic Gradient Method__ with the __Adam__ one.\n",
        "\n"
      ]
    },
    {
      "cell_type": "code",
      "metadata": {
        "id": "KemiyE3oj5M8"
      },
      "source": [
        "modelSGD = tf.keras.Sequential([\n",
        "    tf.keras.layers.Flatten(input_shape=(28, 28)),\n",
        "    tf.keras.layers.Dense(128, activation= 'relu'),\n",
        "    tf.keras.layers.Dense(10, activation = 'sigmoid')\n",
        "])"
      ],
      "execution_count": null,
      "outputs": []
    },
    {
      "cell_type": "markdown",
      "metadata": {
        "id": "t9GLGH-1-6JO"
      },
      "source": [
        "The next step is to write the details for the optimization algorithm so we want to remind some details.\n",
        "\n",
        "First our goal is to optimize a loss for multiclass classification w.r.t. the weight matrices and bias.\n",
        "\n",
        "For this purpose we will use a __sparse categorical Croos Entropy loss__ that we define as:\n",
        "\\begin{align}\n",
        "J(W^{[1]}, b^{[1]}, ..., W^{[n]}, b^{[n]}) = \n",
        "& \\dfrac{1}{m}\\sum_{i = 0}^{m}\\mathcal{L}\\big(\\hat{y}_i(W^{[1]}, b^{[1]}, ..., W^{[n]}, b^{[n]}), y_i\\big)= \\\\ \n",
        "& \\dfrac{1}{m}\\sum_{i = 0}^{m}- \\big (\\sum_{i = 0}^{n^{[L]}}y^{(i)}_j log(\\hat{y}^{(i)}_j)   \\big)\n",
        "\\end{align}\n",
        "where $n^{[L]}$ is the number of classes and $m$ the number of images, $y^{(i)}_j $ is the real label associated to the image $i$ and $\\hat{y}^{(i)}_j$ the predicted one. \n",
        "\n",
        "As we know the goal is to find the parameters that minimize this loss function. \n",
        "We will use two different techniques to solve the optimization problem associated."
      ]
    },
    {
      "cell_type": "markdown",
      "metadata": {
        "id": "xAZTW6qJStEe"
      },
      "source": [
        "\n",
        "We will start with the __Stochastic Gradient Descent__ approach to see the oscillations of this method. \n",
        "\n",
        "But before let's remind the __gradient descent method__.\n",
        "\n",
        "If we have a function $J(\\textbf{w}, b)$ to minimize, the gradient descent method use this upgrade rule from step $n-1$ to $n$ :\n",
        "$$\n",
        "\\begin{cases}\n",
        "& \\textbf{w}^{n} = \\textbf{w}^{n-1} - \\alpha \\nabla_{\\textbf{w}}J(\\textbf{w}, b)|_{(\\textbf{w}^{n-1}, b)}\\\\\n",
        "& b^{n} = b^{n-1} - \\alpha \\dfrac{\\partial J(\\textbf{w}, b)}{\\partial b}|_{(\\textbf{w}^{n-1}, b)}\n",
        "\\end{cases}\n",
        "$$\n",
        "where $J(\\textbf{w}, b) = \\dfrac{1}{m}\\sum_{i = 0}^{m}\\mathcal{L}\\big(\\hat{y}_i(\\textbf{w}, b), y_i\\big)$ and $\\alpha$ is a constant.\n",
        "\n",
        "What we can do is to use all the images and do all the computations before upgrading our parameters (__classical gradient descent method__), or on the contrary use only one image (__stochastic gradient descent method__) or only one part of them (__mini-batch gradient descent method__).\n",
        "\n",
        "With the classical approach you have a garantees to the convergence towards a local minima, but you need a lot of iterations before to converge and maybe you have a lot of images. If you go far from this theoretical approach, as in the stochastic and mini-batch case, you have no garantee to converge and you can oscillate. Let's see it."
      ]
    },
    {
      "cell_type": "code",
      "metadata": {
        "id": "hTMhVKNHVrBo"
      },
      "source": [
        "modelSGD.compile(optimizer=keras.optimizers.SGD(learning_rate = 0.01, momentum = 0.0, nesterov = False),\n",
        "              loss=tf.keras.losses.SparseCategoricalCrossentropy(from_logits=True),\n",
        "              metrics=['accuracy'])"
      ],
      "execution_count": null,
      "outputs": []
    },
    {
      "cell_type": "markdown",
      "metadata": {
        "id": "GGhEBTBNKREo"
      },
      "source": [
        "Now we have to fit the model on the training set. We give the number of epochs that is the number of times we see the training set in the learning phase. We add a validation split to evaluate the underfitting and the overfitting. The number of epochs is not too big because as we will see we don't have big changes after 20."
      ]
    },
    {
      "cell_type": "code",
      "metadata": {
        "id": "8mtTkiT-VzeM",
        "outputId": "5596d13a-c9b0-4dba-a5e9-b75a1e4cb7b2",
        "colab": {
          "base_uri": "https://localhost:8080/",
          "height": 683
        }
      },
      "source": [
        "historySGD = modelSGD.fit(x_train, y_train, validation_split = 0.33, epochs = 20)"
      ],
      "execution_count": null,
      "outputs": [
        {
          "output_type": "stream",
          "text": [
            "Epoch 1/20\n",
            "1257/1257 [==============================] - 3s 3ms/step - loss: 1.5443 - accuracy: 0.9242 - val_loss: 1.5467 - val_accuracy: 0.9218\n",
            "Epoch 2/20\n",
            "1257/1257 [==============================] - 3s 3ms/step - loss: 1.5435 - accuracy: 0.9248 - val_loss: 1.5461 - val_accuracy: 0.9226\n",
            "Epoch 3/20\n",
            "1257/1257 [==============================] - 3s 3ms/step - loss: 1.5427 - accuracy: 0.9254 - val_loss: 1.5453 - val_accuracy: 0.9225\n",
            "Epoch 4/20\n",
            "1257/1257 [==============================] - 3s 3ms/step - loss: 1.5419 - accuracy: 0.9260 - val_loss: 1.5447 - val_accuracy: 0.9233\n",
            "Epoch 5/20\n",
            "1257/1257 [==============================] - 3s 2ms/step - loss: 1.5412 - accuracy: 0.9262 - val_loss: 1.5440 - val_accuracy: 0.9239\n",
            "Epoch 6/20\n",
            "1257/1257 [==============================] - 3s 3ms/step - loss: 1.5404 - accuracy: 0.9262 - val_loss: 1.5435 - val_accuracy: 0.9246\n",
            "Epoch 7/20\n",
            "1257/1257 [==============================] - 3s 3ms/step - loss: 1.5397 - accuracy: 0.9272 - val_loss: 1.5428 - val_accuracy: 0.9248\n",
            "Epoch 8/20\n",
            "1257/1257 [==============================] - 3s 3ms/step - loss: 1.5390 - accuracy: 0.9274 - val_loss: 1.5423 - val_accuracy: 0.9252\n",
            "Epoch 9/20\n",
            "1257/1257 [==============================] - 4s 3ms/step - loss: 1.5384 - accuracy: 0.9283 - val_loss: 1.5417 - val_accuracy: 0.9256\n",
            "Epoch 10/20\n",
            "1257/1257 [==============================] - 3s 3ms/step - loss: 1.5377 - accuracy: 0.9284 - val_loss: 1.5412 - val_accuracy: 0.9262\n",
            "Epoch 11/20\n",
            "1257/1257 [==============================] - 4s 3ms/step - loss: 1.5371 - accuracy: 0.9287 - val_loss: 1.5406 - val_accuracy: 0.9269\n",
            "Epoch 12/20\n",
            "1257/1257 [==============================] - 4s 3ms/step - loss: 1.5365 - accuracy: 0.9291 - val_loss: 1.5401 - val_accuracy: 0.9269\n",
            "Epoch 13/20\n",
            "1257/1257 [==============================] - 4s 3ms/step - loss: 1.5358 - accuracy: 0.9296 - val_loss: 1.5394 - val_accuracy: 0.9273\n",
            "Epoch 14/20\n",
            "1257/1257 [==============================] - 3s 3ms/step - loss: 1.5353 - accuracy: 0.9300 - val_loss: 1.5390 - val_accuracy: 0.9277\n",
            "Epoch 15/20\n",
            "1257/1257 [==============================] - 4s 3ms/step - loss: 1.5347 - accuracy: 0.9309 - val_loss: 1.5385 - val_accuracy: 0.9285\n",
            "Epoch 16/20\n",
            "1257/1257 [==============================] - 3s 3ms/step - loss: 1.5342 - accuracy: 0.9307 - val_loss: 1.5380 - val_accuracy: 0.9283\n",
            "Epoch 17/20\n",
            "1257/1257 [==============================] - 3s 3ms/step - loss: 1.5336 - accuracy: 0.9316 - val_loss: 1.5376 - val_accuracy: 0.9290\n",
            "Epoch 18/20\n",
            "1257/1257 [==============================] - 3s 3ms/step - loss: 1.5331 - accuracy: 0.9318 - val_loss: 1.5371 - val_accuracy: 0.9294\n",
            "Epoch 19/20\n",
            "1257/1257 [==============================] - 4s 3ms/step - loss: 1.5325 - accuracy: 0.9325 - val_loss: 1.5367 - val_accuracy: 0.9294\n",
            "Epoch 20/20\n",
            "1257/1257 [==============================] - 3s 3ms/step - loss: 1.5320 - accuracy: 0.9327 - val_loss: 1.5361 - val_accuracy: 0.9294\n"
          ],
          "name": "stdout"
        }
      ]
    },
    {
      "cell_type": "markdown",
      "metadata": {
        "id": "fjO0sZ4vvPcc"
      },
      "source": [
        "Let's see the loss and accuracy plot for both train and validation set."
      ]
    },
    {
      "cell_type": "code",
      "metadata": {
        "id": "7sbOFZesV17G",
        "outputId": "fadbaa56-b0cf-40b4-8d80-415f001bedb0",
        "colab": {
          "base_uri": "https://localhost:8080/",
          "height": 294
        }
      },
      "source": [
        "plt.plot(historySGD.history['loss'])\n",
        "plt.plot(historySGD.history['val_loss'])\n",
        "plt.title('model loss')\n",
        "plt.ylabel('loss')\n",
        "plt.xlabel('epoch')\n",
        "plt.legend(['train', 'validation'], loc='upper left')\n",
        "plt.show()"
      ],
      "execution_count": null,
      "outputs": [
        {
          "output_type": "display_data",
          "data": {
            "image/png": "[encoded data removed]",
            "text/plain": [
              "<Figure size 432x288 with 1 Axes>"
            ]
          },
          "metadata": {
            "tags": [],
            "needs_background": "light"
          }
        }
      ]
    },
    {
      "cell_type": "code",
      "metadata": {
        "id": "hcdU6q5ONLib",
        "outputId": "36d8f632-ccc5-44d5-90c5-ee787166c7b8",
        "colab": {
          "base_uri": "https://localhost:8080/",
          "height": 294
        }
      },
      "source": [
        "plt.plot(historySGD.history['accuracy'])\n",
        "plt.plot(historySGD.history['val_accuracy'])\n",
        "plt.title('model accuracy')\n",
        "plt.ylabel('accuracy')\n",
        "plt.xlabel('epoch')\n",
        "plt.legend(['train', 'validation'], loc='upper left')\n",
        "plt.show()"
      ],
      "execution_count": null,
      "outputs": [
        {
          "output_type": "display_data",
          "data": {
            "image/png": "[encoded data removed]",
            "text/plain": [
              "<Figure size 432x288 with 1 Axes>"
            ]
          },
          "metadata": {
            "tags": [],
            "needs_background": "light"
          }
        }
      ]
    },
    {
      "cell_type": "markdown",
      "metadata": {
        "id": "X32kUW4HsBx4"
      },
      "source": [
        "We can see some overfitting that we will try to solve with some regularization methods later."
      ]
    },
    {
      "cell_type": "markdown",
      "metadata": {
        "id": "LFR8qw7ISVrT"
      },
      "source": [
        "Now let's move towards the Adam Optimization algorithm. \n",
        "The main difference with the __SGD__ method is that we don't upgrade the weights with each image but we use what we call a _mini batch_, a sample of images. In this case we update less frequently that before but we are more similar to the classical gradient descent method. So we have some oscillations, less than before, that we try to remove using two other parts in the equations: \n",
        "1.   We add the __momentum part__ that use a weighted local average on the weights, trying to extract only the right direction and remove the oscillating part.\n",
        "2.   We add the __RMS part__ that removes the oscillating parts using a weighted local average on the gradients.\n",
        "\n",
        "\n",
        "We will start with some classical values and we will fine-tune it later. \n",
        "\n",
        "\n",
        "We use:\n",
        "\n",
        "\n",
        "1.   $\\alpha = 0.001$: very slow learning, but we avoid oscillations related with a too big learning rate. \n",
        "2.   $\\beta_1 = 0.9$: not too big to avoid to learn nothing from the current iteration but enough to carry previous values and avoid oscillations.\n",
        "3. $\\beta= 0.999$: trying to give small possibilities to oscillate in the wrong direction. \n",
        "4. batch size of 32 images\n",
        "\n",
        "Usually we have to introduce a $\\varepsilon$ to avoid numerical instability due to small numbers, but it's usually put at $10^{-8}$.\n",
        "\n"
      ]
    },
    {
      "cell_type": "code",
      "metadata": {
        "id": "G0mPgfMFE5Tf"
      },
      "source": [
        "modelADM = tf.keras.Sequential([\n",
        "    tf.keras.layers.Flatten(input_shape=(28, 28)),\n",
        "    tf.keras.layers.Dense(128, activation='relu'),\n",
        "    tf.keras.layers.Dense(10, activation = 'sigmoid')\n",
        "])"
      ],
      "execution_count": null,
      "outputs": []
    },
    {
      "cell_type": "code",
      "metadata": {
        "id": "skD4ULEGqECg"
      },
      "source": [
        "modelADM.compile(optimizer=keras.optimizers.Adam(\n",
        "   learning_rate = 0.001, beta_1 = 0.9, beta_2 = 0.999, amsgrad = False),\n",
        "              loss=tf.keras.losses.SparseCategoricalCrossentropy(from_logits=True),\n",
        "              metrics=['accuracy'])"
      ],
      "execution_count": null,
      "outputs": []
    },
    {
      "cell_type": "markdown",
      "metadata": {
        "id": "Go8aCh35KDAm"
      },
      "source": [
        "We define the batch size as 32, so we elaborate 32 images at time."
      ]
    },
    {
      "cell_type": "code",
      "metadata": {
        "id": "EqBVBAwH7OsF",
        "outputId": "a42c1b29-14e0-4156-85c1-7092fa2c3d6b",
        "colab": {
          "base_uri": "https://localhost:8080/"
        }
      },
      "source": [
        "history = modelADM.fit(x_train, y_train, validation_split=0.33, epochs=20, batch_size = 32)"
      ],
      "execution_count": null,
      "outputs": [
        {
          "output_type": "stream",
          "text": [
            "Epoch 1/20\n",
            "1257/1257 [==============================] - 3s 3ms/step - loss: 1.5878 - accuracy: 0.8940 - val_loss: 1.5306 - val_accuracy: 0.9310\n",
            "Epoch 2/20\n",
            "1257/1257 [==============================] - 3s 3ms/step - loss: 1.5201 - accuracy: 0.9420 - val_loss: 1.5146 - val_accuracy: 0.9446\n",
            "Epoch 3/20\n",
            "1257/1257 [==============================] - 3s 3ms/step - loss: 1.5050 - accuracy: 0.9560 - val_loss: 1.5055 - val_accuracy: 0.9552\n",
            "Epoch 4/20\n",
            "1257/1257 [==============================] - 3s 3ms/step - loss: 1.4963 - accuracy: 0.9632 - val_loss: 1.5007 - val_accuracy: 0.9595\n",
            "Epoch 5/20\n",
            "1257/1257 [==============================] - 3s 3ms/step - loss: 1.4902 - accuracy: 0.9696 - val_loss: 1.4993 - val_accuracy: 0.9604\n",
            "Epoch 6/20\n",
            "1257/1257 [==============================] - 3s 3ms/step - loss: 1.4860 - accuracy: 0.9743 - val_loss: 1.4961 - val_accuracy: 0.9657\n",
            "Epoch 7/20\n",
            "1257/1257 [==============================] - 3s 3ms/step - loss: 1.4827 - accuracy: 0.9777 - val_loss: 1.4937 - val_accuracy: 0.9683\n",
            "Epoch 8/20\n",
            "1257/1257 [==============================] - 3s 3ms/step - loss: 1.4802 - accuracy: 0.9794 - val_loss: 1.4931 - val_accuracy: 0.9683\n",
            "Epoch 9/20\n",
            "1257/1257 [==============================] - 3s 3ms/step - loss: 1.4782 - accuracy: 0.9824 - val_loss: 1.4942 - val_accuracy: 0.9678\n",
            "Epoch 10/20\n",
            "1257/1257 [==============================] - 3s 3ms/step - loss: 1.4768 - accuracy: 0.9833 - val_loss: 1.4923 - val_accuracy: 0.9697\n",
            "Epoch 11/20\n",
            "1257/1257 [==============================] - 4s 3ms/step - loss: 1.4750 - accuracy: 0.9853 - val_loss: 1.4920 - val_accuracy: 0.9704\n",
            "Epoch 12/20\n",
            "1257/1257 [==============================] - 3s 3ms/step - loss: 1.4741 - accuracy: 0.9862 - val_loss: 1.4915 - val_accuracy: 0.9703\n",
            "Epoch 13/20\n",
            "1257/1257 [==============================] - 3s 3ms/step - loss: 1.4730 - accuracy: 0.9870 - val_loss: 1.4928 - val_accuracy: 0.9703\n",
            "Epoch 14/20\n",
            "1257/1257 [==============================] - 3s 3ms/step - loss: 1.4719 - accuracy: 0.9885 - val_loss: 1.4900 - val_accuracy: 0.9723\n",
            "Epoch 15/20\n",
            "1257/1257 [==============================] - 3s 3ms/step - loss: 1.4713 - accuracy: 0.9885 - val_loss: 1.4908 - val_accuracy: 0.9716\n",
            "Epoch 16/20\n",
            "1257/1257 [==============================] - 3s 3ms/step - loss: 1.4709 - accuracy: 0.9892 - val_loss: 1.4923 - val_accuracy: 0.9716\n",
            "Epoch 17/20\n",
            "1257/1257 [==============================] - 3s 3ms/step - loss: 1.4701 - accuracy: 0.9897 - val_loss: 1.4901 - val_accuracy: 0.9716\n",
            "Epoch 18/20\n",
            "1257/1257 [==============================] - 3s 3ms/step - loss: 1.4698 - accuracy: 0.9902 - val_loss: 1.4920 - val_accuracy: 0.9702\n",
            "Epoch 19/20\n",
            "1257/1257 [==============================] - 3s 3ms/step - loss: 1.4695 - accuracy: 0.9905 - val_loss: 1.4920 - val_accuracy: 0.9720\n",
            "Epoch 20/20\n",
            "1257/1257 [==============================] - 3s 3ms/step - loss: 1.4691 - accuracy: 0.9910 - val_loss: 1.4921 - val_accuracy: 0.9737\n"
          ],
          "name": "stdout"
        }
      ]
    },
    {
      "cell_type": "code",
      "metadata": {
        "id": "6x_66wMzNVf_",
        "outputId": "bb05e250-4b3e-42b0-f54e-2c3a358dfbc5",
        "colab": {
          "base_uri": "https://localhost:8080/",
          "height": 294
        }
      },
      "source": [
        "plt.plot(history.history['loss'])\n",
        "plt.plot(history.history['val_loss'])\n",
        "plt.title('model loss')\n",
        "plt.ylabel('loss')\n",
        "plt.xlabel('epoch')\n",
        "plt.legend(['train', 'validation'], loc='upper left')\n",
        "plt.show()"
      ],
      "execution_count": null,
      "outputs": [
        {
          "output_type": "display_data",
          "data": {
            "image/png": "[encoded data removed]",
            "text/plain": [
              "<Figure size 432x288 with 1 Axes>"
            ]
          },
          "metadata": {
            "tags": [],
            "needs_background": "light"
          }
        }
      ]
    },
    {
      "cell_type": "code",
      "metadata": {
        "id": "Xd8qfHNFFjCp",
        "outputId": "45599228-254a-43e1-fb8f-275bfc31d1bb",
        "colab": {
          "base_uri": "https://localhost:8080/",
          "height": 294
        }
      },
      "source": [
        "plt.plot(history.history['accuracy'])\n",
        "plt.plot(history.history['val_accuracy'])\n",
        "plt.title('model accuracy')\n",
        "plt.ylabel('accuracy')\n",
        "plt.xlabel('epoch')\n",
        "plt.legend(['train', 'validation'], loc='upper left')\n",
        "plt.show()"
      ],
      "execution_count": null,
      "outputs": [
        {
          "output_type": "display_data",
          "data": {
            "image/png": "[encoded data removed]",
            "text/plain": [
              "<Figure size 432x288 with 1 Axes>"
            ]
          },
          "metadata": {
            "tags": [],
            "needs_background": "light"
          }
        }
      ]
    },
    {
      "cell_type": "markdown",
      "metadata": {
        "id": "N7wSL5LTFV3v"
      },
      "source": [
        "We can see from the SGD method that we don't explicitly see the oscillations because we are only seeing the effects for each epoch and not at each iteration.\n",
        "\n",
        "But we note that the convergence to a small value of the loss is faster for the ADAM method because we have removed the oscillations.\n",
        "It's here that we see the fact that we have less oscillations.\n",
        "But we also see the better validation accuracy in the Adam method due to the fact that the SGD is oscillating around the minimum but doesn't reach it. \n",
        "\n",
        "Finally we can see a possible overfitting due to the difference between the accuracy in the validation set and the training set, both in the loss and in the accuracy. But this can be also related with a difficulty of predicting the validation set. We will try to descover the real motivation trying to remove the overfitting it there is. "
      ]
    },
    {
      "cell_type": "markdown",
      "metadata": {
        "id": "bP3qHiDwF_RG"
      },
      "source": [
        "Let's move on the error analysis part."
      ]
    },
    {
      "cell_type": "code",
      "metadata": {
        "id": "f25dl7OAIlof"
      },
      "source": [
        "y_pred_train = modelADM.predict(x_train)"
      ],
      "execution_count": null,
      "outputs": []
    },
    {
      "cell_type": "markdown",
      "metadata": {
        "id": "jl5tiqK4P0-U"
      },
      "source": [
        "Let's see a heat map to understand the uncertainty of the classification."
      ]
    },
    {
      "cell_type": "code",
      "metadata": {
        "id": "E8Aya1gMP8Zz",
        "outputId": "135fe4a7-5faa-4903-cc5c-97e2d3130aca",
        "colab": {
          "base_uri": "https://localhost:8080/",
          "height": 268
        }
      },
      "source": [
        "lst = [np.random.randint(0, y_pred_train.shape[0]) for x in range(20)]\n",
        "ax = sns.heatmap(y_pred_train[lst,], linewidth=0.5)\n",
        "plt.show()"
      ],
      "execution_count": null,
      "outputs": [
        {
          "output_type": "display_data",
          "data": {
            "image/png": "[encoded data removed]",
            "text/plain": [
              "<Figure size 432x288 with 2 Axes>"
            ]
          },
          "metadata": {
            "tags": [],
            "needs_background": "light"
          }
        }
      ]
    },
    {
      "cell_type": "markdown",
      "metadata": {
        "id": "kS4a1PHNQaE3"
      },
      "source": [
        "We see that the classifier is quite sure of the class for these images. Good sign!"
      ]
    },
    {
      "cell_type": "markdown",
      "metadata": {
        "id": "ZT6rnEV1RaEj"
      },
      "source": [
        "Let's see the confusion matrix to see the most commun errors.\n"
      ]
    },
    {
      "cell_type": "code",
      "metadata": {
        "id": "bU6XHekJRv17",
        "outputId": "5da11ac1-d53e-4e82-9998-cdf049ee6202",
        "colab": {
          "base_uri": "https://localhost:8080/",
          "height": 281
        }
      },
      "source": [
        "y_pred = np.argmax(y_pred_train, axis = 1 )\n",
        "sns.heatmap(confusion_matrix(y_train, y_pred), \n",
        "                    annot=True, cbar=False, fmt='d')"
      ],
      "execution_count": null,
      "outputs": [
        {
          "output_type": "execute_result",
          "data": {
            "text/plain": [
              "<matplotlib.axes._subplots.AxesSubplot at 0x7fc4c6045358>"
            ]
          },
          "metadata": {
            "tags": []
          },
          "execution_count": 53
        },
        {
          "output_type": "display_data",
          "data": {
            "image/png": "[encoded data removed]",
            "text/plain": [
              "<Figure size 432x288 with 1 Axes>"
            ]
          },
          "metadata": {
            "tags": [],
            "needs_background": "light"
          }
        }
      ]
    },
    {
      "cell_type": "code",
      "metadata": {
        "id": "tqFF5ummBFHx",
        "outputId": "a19fe98e-4436-433f-81c5-af73f5cc23c6",
        "colab": {
          "base_uri": "https://localhost:8080/",
          "height": 274
        }
      },
      "source": [
        "y_pred = np.argmax(y_pred_train, axis = 1 )\n",
        "conf_mx = confusion_matrix(y_train, y_pred)\n",
        "row_sums = conf_mx.sum(axis = 1, keepdims = True)\n",
        "norm_conf_mx = conf_mx / row_sums\n",
        "np.fill_diagonal(norm_conf_mx, 0)\n",
        "plt.matshow(norm_conf_mx, cmap = plt.cm.gray)\n",
        "plt.show()"
      ],
      "execution_count": null,
      "outputs": [
        {
          "output_type": "display_data",
          "data": {
            "image/png": "[encoded data removed]",
            "text/plain": [
              "<Figure size 288x288 with 1 Axes>"
            ]
          },
          "metadata": {
            "tags": [],
            "needs_background": "light"
          }
        }
      ]
    },
    {
      "cell_type": "markdown",
      "metadata": {
        "id": "5wzQAueaWiu0"
      },
      "source": [
        "So we see some pattern in the error, as the 4 with the 9, the 7 with the 2, 3 with the 5, and in general the 8.\n",
        "The eight is difficult due to its shape that can be confused with the 3 and the 5.\n",
        "\n",
        "We can now understand that the eight is easy to confuse because is similar to different numbers.\n"
      ]
    },
    {
      "cell_type": "markdown",
      "metadata": {
        "id": "9etasO1WXBn2"
      },
      "source": [
        "Let's try to modify our network introducing some regularization techniques like __dropout__ and __penalization methods__ and trying next to expand the network with and without regularization. "
      ]
    },
    {
      "cell_type": "markdown",
      "metadata": {
        "id": "JqwbQj5XFppa"
      },
      "source": [
        "## 3.2 **Regularization** "
      ]
    },
    {
      "cell_type": "markdown",
      "metadata": {
        "id": "yxvlqU6eGf9-"
      },
      "source": [
        "The regularization is in general a way to simplify a model introducing some penalties or on the structure of the network (dropout) or on the weights ($L_2$ and $L_1$ regularization). \n",
        "\n",
        "The difficulty with the regularization is to find the right quantity of penalty without finishing in the underfitting problem."
      ]
    },
    {
      "cell_type": "markdown",
      "metadata": {
        "id": "qVWQudKAXdHj"
      },
      "source": [
        "### 3.2.1 **Dropout**"
      ]
    },
    {
      "cell_type": "markdown",
      "metadata": {
        "id": "ALEWRhSgXhLt"
      },
      "source": [
        "With this technique we turn off some neurons at random in the training phase and we recover all of them in the test phase. \n",
        "\n",
        "The reason to do it are several and in particular:\n",
        "\n",
        "\n",
        "1.   It forces each node to not rely on some particular other nodes avoinding the phenomena called _coadaptation_.\n",
        "2.   It learns using a simpler network introducing a regularization effect.\n",
        "\n",
        "It works in the following way:\n",
        "\n",
        "\n",
        "*   In the training phase, during each epoch we turns off some neurons with a probability $p$ and each weight is divided by the probability, i.e. $W_{ij}/p$. This normalization is done because otherwise having removed some of the nodes the expected values of the weights would be lower. This is a raw way to recover the expected value.\n",
        "*   In the test phase we recover all the neurons and we remove the normalization of the weights.\n"
      ]
    },
    {
      "cell_type": "code",
      "metadata": {
        "id": "lPq1a-WrwKUX"
      },
      "source": [
        "def myModelDrop(dropout = 0.5):\n",
        "  modelADMDrop = tf.keras.Sequential()\n",
        "  modelADMDrop.add(tf.keras.layers.Flatten(input_shape=(28, 28)))\n",
        "  modelADMDrop.add(tf.keras.layers.Dense(128, activation='relu'))\n",
        "  modelADMDrop.add(tf.keras.layers.Dropout(dropout))\n",
        "  modelADMDrop.add(tf.keras.layers.Dense(10, activation = 'sigmoid'))\n",
        "  optimizer = keras.optimizers.Adam(learning_rate = 0.001, beta_1 =  0.9, beta_2 = 0.999, amsgrad = False)\n",
        "  modelADMDrop.compile(optimizer = optimizer,\n",
        "                      loss=tf.keras.losses.SparseCategoricalCrossentropy(from_logits=True),\n",
        "                      metrics=['accuracy'])\n",
        "  return modelADMDrop"
      ],
      "execution_count": null,
      "outputs": []
    },
    {
      "cell_type": "markdown",
      "metadata": {
        "id": "CKslA6QgxLXc"
      },
      "source": [
        "Let's try 3 different values of dropout."
      ]
    },
    {
      "cell_type": "code",
      "metadata": {
        "id": "-ZczfAbnw1rT"
      },
      "source": [
        "dropout = [0.2, 0.5, 0.7]\n",
        "param_gridDrop = dict(dropout = dropout)"
      ],
      "execution_count": null,
      "outputs": []
    },
    {
      "cell_type": "markdown",
      "metadata": {
        "id": "VYbrxsb8xdvc"
      },
      "source": [
        "Let's use a 3-fold cross-validation. In general the results will be more unstable than a 10-fold cross validation but we have a lot of data in each validation fold and so it will be pretty stable and in addition it will require less computation. "
      ]
    },
    {
      "cell_type": "code",
      "metadata": {
        "id": "J2PdC_YqxKTW",
        "outputId": "0d191617-3b57-4d71-d90b-78cb74ad30a7",
        "colab": {
          "base_uri": "https://localhost:8080/",
          "height": 33
        }
      },
      "source": [
        "modelDrop = KerasClassifier(build_fn = myModelDrop, epochs=20, batch_size=32, verbose=0)\n",
        "gridDrop = GridSearchCV(estimator=modelDrop, param_grid = param_gridDrop , cv=3, verbose = 1)\n",
        "grid_result_drop = gridDrop.fit(x_train, y_train)"
      ],
      "execution_count": null,
      "outputs": [
        {
          "output_type": "stream",
          "text": [
            "[Parallel(n_jobs=1)]: Done   9 out of   9 | elapsed:  4.4min finished\n"
          ],
          "name": "stderr"
        }
      ]
    },
    {
      "cell_type": "code",
      "metadata": {
        "id": "1PKJWfqlC7sF",
        "outputId": "5d5a2067-9492-47cf-b681-922ea67c5ac2",
        "colab": {
          "base_uri": "https://localhost:8080/",
          "height": 33
        }
      },
      "source": [
        "print(\"Best: %f using %s\" % (grid_result_drop.best_score_, grid_result_drop.best_params_))"
      ],
      "execution_count": null,
      "outputs": [
        {
          "output_type": "stream",
          "text": [
            "Best: 0.971950 using {'dropout': 0.2}\n"
          ],
          "name": "stdout"
        }
      ]
    },
    {
      "cell_type": "markdown",
      "metadata": {
        "id": "f4krLZ3KEPTl"
      },
      "source": [
        "The result make sense. If fact we don't have seen a big overfit on the data, so also the dropout coefficient will be small because we don't need to reduce to much the number of neurons."
      ]
    },
    {
      "cell_type": "code",
      "metadata": {
        "id": "Pm7yxrsbDJPC"
      },
      "source": [
        "modelADMDrop = tf.keras.Sequential([\n",
        "    tf.keras.layers.Flatten(input_shape=(28, 28)),\n",
        "    tf.keras.layers.Dense(128, activation='relu'),\n",
        "    tf.keras.layers.Dropout(0.2),\n",
        "    tf.keras.layers.Dense(10, activation = 'sigmoid')\n",
        "])"
      ],
      "execution_count": null,
      "outputs": []
    },
    {
      "cell_type": "code",
      "metadata": {
        "id": "miz9HUGqaGpb"
      },
      "source": [
        "modelADMDrop.compile(optimizer=keras.optimizers.Adam(\n",
        "   learning_rate = 0.001, beta_1 = 0.9, beta_2 = 0.999, amsgrad = False),\n",
        "              loss=tf.keras.losses.SparseCategoricalCrossentropy(from_logits=True),\n",
        "              metrics=['accuracy'])"
      ],
      "execution_count": null,
      "outputs": []
    },
    {
      "cell_type": "code",
      "metadata": {
        "id": "nxIppL8vaL7g",
        "outputId": "fcd79ac0-7a06-4ab3-e660-ca7983e197fc",
        "colab": {
          "base_uri": "https://localhost:8080/"
        }
      },
      "source": [
        "historyADMDrop = modelADMDrop.fit(x_train, y_train, validation_split=0.33, epochs=30, batch_size = 32)"
      ],
      "execution_count": null,
      "outputs": [
        {
          "output_type": "stream",
          "text": [
            "Epoch 1/30\n",
            "1257/1257 [==============================] - 4s 3ms/step - loss: 1.6027 - accuracy: 0.8824 - val_loss: 1.5321 - val_accuracy: 0.9328\n",
            "Epoch 2/30\n",
            "1257/1257 [==============================] - 4s 3ms/step - loss: 1.5292 - accuracy: 0.9331 - val_loss: 1.5161 - val_accuracy: 0.9456\n",
            "Epoch 3/30\n",
            "1257/1257 [==============================] - 4s 3ms/step - loss: 1.5148 - accuracy: 0.9483 - val_loss: 1.5084 - val_accuracy: 0.9516\n",
            "Epoch 4/30\n",
            "1257/1257 [==============================] - 4s 3ms/step - loss: 1.5062 - accuracy: 0.9561 - val_loss: 1.5027 - val_accuracy: 0.9571\n",
            "Epoch 5/30\n",
            "1257/1257 [==============================] - 4s 3ms/step - loss: 1.5004 - accuracy: 0.9611 - val_loss: 1.5000 - val_accuracy: 0.9599\n",
            "Epoch 6/30\n",
            "1257/1257 [==============================] - 4s 3ms/step - loss: 1.4963 - accuracy: 0.9659 - val_loss: 1.4973 - val_accuracy: 0.9637\n",
            "Epoch 7/30\n",
            "1257/1257 [==============================] - 4s 3ms/step - loss: 1.4925 - accuracy: 0.9698 - val_loss: 1.4956 - val_accuracy: 0.9649\n",
            "Epoch 8/30\n",
            "1257/1257 [==============================] - 4s 3ms/step - loss: 1.4906 - accuracy: 0.9702 - val_loss: 1.4939 - val_accuracy: 0.9663\n",
            "Epoch 9/30\n",
            "1257/1257 [==============================] - 4s 3ms/step - loss: 1.4887 - accuracy: 0.9735 - val_loss: 1.4932 - val_accuracy: 0.9674\n",
            "Epoch 10/30\n",
            "1257/1257 [==============================] - 4s 3ms/step - loss: 1.4867 - accuracy: 0.9751 - val_loss: 1.4917 - val_accuracy: 0.9686\n",
            "Epoch 11/30\n",
            "1257/1257 [==============================] - 4s 3ms/step - loss: 1.4852 - accuracy: 0.9764 - val_loss: 1.4916 - val_accuracy: 0.9699\n",
            "Epoch 12/30\n",
            "1257/1257 [==============================] - 4s 3ms/step - loss: 1.4842 - accuracy: 0.9775 - val_loss: 1.4911 - val_accuracy: 0.9700\n",
            "Epoch 13/30\n",
            "1257/1257 [==============================] - 4s 3ms/step - loss: 1.4834 - accuracy: 0.9781 - val_loss: 1.4900 - val_accuracy: 0.9704\n",
            "Epoch 14/30\n",
            "1257/1257 [==============================] - 4s 3ms/step - loss: 1.4824 - accuracy: 0.9801 - val_loss: 1.4902 - val_accuracy: 0.9720\n",
            "Epoch 15/30\n",
            "1257/1257 [==============================] - 4s 3ms/step - loss: 1.4814 - accuracy: 0.9802 - val_loss: 1.4903 - val_accuracy: 0.9721\n",
            "Epoch 16/30\n",
            "1257/1257 [==============================] - 4s 3ms/step - loss: 1.4808 - accuracy: 0.9806 - val_loss: 1.4899 - val_accuracy: 0.9719\n",
            "Epoch 17/30\n",
            "1257/1257 [==============================] - 4s 3ms/step - loss: 1.4800 - accuracy: 0.9817 - val_loss: 1.4885 - val_accuracy: 0.9727\n",
            "Epoch 18/30\n",
            "1257/1257 [==============================] - 4s 3ms/step - loss: 1.4794 - accuracy: 0.9826 - val_loss: 1.4894 - val_accuracy: 0.9723\n",
            "Epoch 19/30\n",
            "1257/1257 [==============================] - 4s 3ms/step - loss: 1.4786 - accuracy: 0.9830 - val_loss: 1.4902 - val_accuracy: 0.9727\n",
            "Epoch 20/30\n",
            "1257/1257 [==============================] - 4s 3ms/step - loss: 1.4779 - accuracy: 0.9836 - val_loss: 1.4892 - val_accuracy: 0.9731\n",
            "Epoch 21/30\n",
            "1257/1257 [==============================] - 4s 3ms/step - loss: 1.4780 - accuracy: 0.9840 - val_loss: 1.4893 - val_accuracy: 0.9717\n",
            "Epoch 22/30\n",
            "1257/1257 [==============================] - 4s 3ms/step - loss: 1.4769 - accuracy: 0.9845 - val_loss: 1.4896 - val_accuracy: 0.9734\n",
            "Epoch 23/30\n",
            "1257/1257 [==============================] - 4s 3ms/step - loss: 1.4769 - accuracy: 0.9846 - val_loss: 1.4895 - val_accuracy: 0.9732\n",
            "Epoch 24/30\n",
            "1257/1257 [==============================] - 4s 3ms/step - loss: 1.4766 - accuracy: 0.9852 - val_loss: 1.4888 - val_accuracy: 0.9732\n",
            "Epoch 25/30\n",
            "1257/1257 [==============================] - 4s 3ms/step - loss: 1.4759 - accuracy: 0.9856 - val_loss: 1.4889 - val_accuracy: 0.9738\n",
            "Epoch 26/30\n",
            "1257/1257 [==============================] - 4s 3ms/step - loss: 1.4762 - accuracy: 0.9850 - val_loss: 1.4894 - val_accuracy: 0.9736\n",
            "Epoch 27/30\n",
            "1257/1257 [==============================] - 4s 3ms/step - loss: 1.4757 - accuracy: 0.9859 - val_loss: 1.4895 - val_accuracy: 0.9724\n",
            "Epoch 28/30\n",
            "1257/1257 [==============================] - 4s 3ms/step - loss: 1.4752 - accuracy: 0.9864 - val_loss: 1.4887 - val_accuracy: 0.9734\n",
            "Epoch 29/30\n",
            "1257/1257 [==============================] - 4s 3ms/step - loss: 1.4752 - accuracy: 0.9863 - val_loss: 1.4901 - val_accuracy: 0.9731\n",
            "Epoch 30/30\n",
            "1257/1257 [==============================] - 4s 3ms/step - loss: 1.4751 - accuracy: 0.9870 - val_loss: 1.4891 - val_accuracy: 0.9732\n"
          ],
          "name": "stdout"
        }
      ]
    },
    {
      "cell_type": "code",
      "metadata": {
        "id": "hxk_mGY6aTw-",
        "outputId": "730a70e4-75ba-491e-a3c8-c661cf02b57e",
        "colab": {
          "base_uri": "https://localhost:8080/",
          "height": 294
        }
      },
      "source": [
        "plt.plot(historyADMDrop.history['loss'])\n",
        "plt.plot(historyADMDrop.history['val_loss'])\n",
        "plt.title('model loss')\n",
        "plt.ylabel('loss')\n",
        "plt.xlabel('epoch')\n",
        "plt.legend(['train', 'validation'], loc='upper left')\n",
        "plt.show()"
      ],
      "execution_count": null,
      "outputs": [
        {
          "output_type": "display_data",
          "data": {
            "image/png": "[encoded data removed]",
            "text/plain": [
              "<Figure size 432x288 with 1 Axes>"
            ]
          },
          "metadata": {
            "tags": [],
            "needs_background": "light"
          }
        }
      ]
    },
    {
      "cell_type": "code",
      "metadata": {
        "id": "zqJyStHlExSq",
        "outputId": "c20c2b16-4ac9-4e2e-f423-b4489b102ac0",
        "colab": {
          "base_uri": "https://localhost:8080/",
          "height": 294
        }
      },
      "source": [
        "plt.plot(historyADMDrop.history['accuracy'])\n",
        "plt.plot(historyADMDrop.history['val_accuracy'])\n",
        "plt.title('model accuracy')\n",
        "plt.ylabel('accuracy')\n",
        "plt.xlabel('epoch')\n",
        "plt.legend(['train', 'validation'], loc='upper left')\n",
        "plt.show()"
      ],
      "execution_count": null,
      "outputs": [
        {
          "output_type": "display_data",
          "data": {
            "image/png": "[encoded data removed]",
            "text/plain": [
              "<Figure size 432x288 with 1 Axes>"
            ]
          },
          "metadata": {
            "tags": [],
            "needs_background": "light"
          }
        }
      ]
    },
    {
      "cell_type": "markdown",
      "metadata": {
        "id": "L8jf7RqwaqML"
      },
      "source": [
        "We see that we have removed a part of overfitting. But also the training set has a bigger error. This is due to the fact that recognize the image using less neurons is easier."
      ]
    },
    {
      "cell_type": "markdown",
      "metadata": {
        "id": "h0438QYsb5J-"
      },
      "source": [
        "See the validation error we don't see big improvement. \n",
        "\n",
        "Let's do an error analysis."
      ]
    },
    {
      "cell_type": "code",
      "metadata": {
        "id": "9XMBXxRda-te",
        "outputId": "3ed09b82-2195-48d8-84fa-8e28bd865828",
        "colab": {
          "base_uri": "https://localhost:8080/",
          "height": 281
        }
      },
      "source": [
        "y_pred_train = modelADMDrop.predict(x_train)\n",
        "y_pred = np.argmax(y_pred_train, axis = 1 )\n",
        "sns.heatmap(confusion_matrix(y_train, y_pred), \n",
        "                    annot=True, cbar=False, fmt='d')"
      ],
      "execution_count": null,
      "outputs": [
        {
          "output_type": "execute_result",
          "data": {
            "text/plain": [
              "<matplotlib.axes._subplots.AxesSubplot at 0x7f2d5e1c9c88>"
            ]
          },
          "metadata": {
            "tags": []
          },
          "execution_count": 18
        },
        {
          "output_type": "display_data",
          "data": {
            "image/png": "[encoded data removed]",
            "text/plain": [
              "<Figure size 432x288 with 1 Axes>"
            ]
          },
          "metadata": {
            "tags": [],
            "needs_background": "light"
          }
        }
      ]
    },
    {
      "cell_type": "code",
      "metadata": {
        "id": "co_41BLB_1-P",
        "outputId": "7cb5ce19-3298-470d-8ae2-7d243a50a77d",
        "colab": {
          "base_uri": "https://localhost:8080/",
          "height": 274
        }
      },
      "source": [
        "y_pred = np.argmax(y_pred_train, axis = 1 )\n",
        "conf_mx = confusion_matrix(y_train, y_pred)\n",
        "row_sums = conf_mx.sum(axis = 1, keepdims = True)\n",
        "norm_conf_mx = conf_mx / row_sums\n",
        "np.fill_diagonal(norm_conf_mx, 0)\n",
        "plt.matshow(norm_conf_mx, cmap = plt.cm.gray)\n",
        "plt.show()"
      ],
      "execution_count": null,
      "outputs": [
        {
          "output_type": "display_data",
          "data": {
            "image/png": "[encoded data removed]",
            "text/plain": [
              "<Figure size 288x288 with 1 Axes>"
            ]
          },
          "metadata": {
            "tags": [],
            "needs_background": "light"
          }
        }
      ]
    },
    {
      "cell_type": "markdown",
      "metadata": {
        "id": "s0cNGc9acFt-"
      },
      "source": [
        "From the confusion matrix we see some bigger error than before. \n",
        "\n",
        "We see less error betweeen 4 and 9.\n",
        "\n",
        "\n"
      ]
    },
    {
      "cell_type": "markdown",
      "metadata": {
        "id": "bQlmQnowkcDa"
      },
      "source": [
        "### 3.2.2 **Penalization methods**"
      ]
    },
    {
      "cell_type": "markdown",
      "metadata": {
        "id": "qmRAUyVPkjXp"
      },
      "source": [
        "In this case we introduce some penalization on the weights, or $L_2$ or $L_1$ or both. We will focus on the $L_2$ one. For a general approach and the implementation of different penalized method see [here](https://machinelearningmastery.com/how-to-reduce-overfitting-in-deep-learning-with-weight-regularization/#:~:text=The%20most%20common%20type%20of,range%20between%200%20and%200.1.).\n",
        "\n",
        "The idea behind the $L_2$ penalization is to add a penalty for each unit of weight that we introduce in the model. We can explain this sentence by: \"Do you want this weight? You have to pay for it. So it has to give you something in return\".\n",
        "\n",
        "Let's see it matematically.\n",
        "\n",
        "In the penalized method we add the penalization to the loss:\n",
        "\\begin{align}\n",
        "&J(W^{[1]}, b^{[1]}, ..., W^{[n]}, b^{[n]}) = \\\\\n",
        "& \\dfrac{1}{m}\\sum_{i = 0}^{m}\\mathcal{L}\\big(\\hat{y}_i(W^{[1]}, b^{[1]}, ..., W^{[n]}, b^{[n]}), y_i\\big) + \\dfrac{\\lambda}{2m}\\sum_{l=1}^{m}||W^{[l]}||_F^2\\\\\n",
        " \\end{align}\n",
        " where $\\sum_{l=1}^{m}||W^{[l]}||_F^2 = \\sum_{i = 1}^{n^l}\\sum_{j = 1}^{n^{[l-1]}}\\big(W_{ij}^{[l]}\\big)^2$ that is the Frobenious norm and in practice is a classical Euclidean norm.\n",
        " \n",
        "In the $L_1$ case we only add the $L_1$ norm of $W$: $$||W||_{L_1}=  \\sum_{i = 1}^{n^l}\\sum_{j = 1}^{n^{[l-1]}}|W_{ij}|.$$\n",
        "\n",
        "So in the gradient descent this reflect on:\n",
        "$$\n",
        "\\nabla_W J = \\nabla_W J_{from backprop} + \\dfrac{\\lambda}{m}W^{[l]}\n",
        "$$\n",
        "and \n",
        "$$\n",
        "W^{[l]}= W^{[l]}- \\alpha \\nabla_W J\n",
        "$$\n",
        "and using these two last results together we obtain:\n",
        "\\begin{align}\n",
        "& W^{[l]}= W^{[l]}- \\alpha ( \\nabla_W J_{from backprop} + \\dfrac{\\lambda}{m}W^{[l]}) = \\\\\n",
        "& \\big(1-\\alpha \\dfrac{\\lambda}{m}\\big)W^{[l]}- \\alpha \\nabla_W J_{from backprop} \n",
        "\\end{align}\n",
        "and $\\big(1-\\alpha \\dfrac{\\lambda}{m}\\big) < 1 $ and therefore the penalization will always results in smaller weights than without it. \n",
        "\n",
        "In particular the idea is that we will have only weights that can improve the results lowering the loss. \n",
        "The last thing to say is that the penalization will put the unnecessary weights near to zero in the $L_2$ case and to zero in the $L_1$ and this will result in a simpler network."
      ]
    },
    {
      "cell_type": "code",
      "metadata": {
        "id": "7YtqFficsgSo"
      },
      "source": [
        "values = [1e-1, 1e-2, 1e-3, 1e-4, 1e-5, 1e-6]\n",
        "param_gridPen = dict(l_2_penalty = values)"
      ],
      "execution_count": null,
      "outputs": []
    },
    {
      "cell_type": "code",
      "metadata": {
        "id": "4UZKlMApsiaE"
      },
      "source": [
        "def myModelpen(l_2_penalty):\n",
        "  modelADMpen = tf.keras.Sequential()\n",
        "  modelADMpen.add(tf.keras.layers.Flatten(input_shape=(28, 28)))\n",
        "  modelADMpen.add(tf.keras.layers.Dense(128, activation='relu', kernel_regularizer=tf.keras.regularizers.l2(l_2_penalty)))\n",
        "  modelADMpen.add(tf.keras.layers.Dense(10, activation = 'sigmoid'))\n",
        "  optimizer = keras.optimizers.Adam(learning_rate = 0.001, beta_1 =  0.9, beta_2 = 0.999, amsgrad = False)\n",
        "  modelADMpen.compile(optimizer = optimizer,\n",
        "                      loss=tf.keras.losses.SparseCategoricalCrossentropy(from_logits=True),\n",
        "                      metrics=['accuracy'])\n",
        "  return modelADMpen\n"
      ],
      "execution_count": null,
      "outputs": []
    },
    {
      "cell_type": "code",
      "metadata": {
        "id": "0QXUsXnptYQa",
        "outputId": "fd2069ac-daf7-4c82-a3b7-d5dceddbb01f",
        "colab": {
          "base_uri": "https://localhost:8080/",
          "height": 66
        }
      },
      "source": [
        "modelPen = KerasClassifier(build_fn = myModelpen, epochs=20, batch_size=32, verbose=0)\n",
        "gridPen = GridSearchCV(estimator = modelPen, param_grid = param_gridPen , cv=3, verbose = 1)\n",
        "grid_result_pen = gridPen.fit(x_train, y_train)"
      ],
      "execution_count": null,
      "outputs": [
        {
          "output_type": "stream",
          "text": [
            "Fitting 3 folds for each of 6 candidates, totalling 18 fits\n"
          ],
          "name": "stdout"
        },
        {
          "output_type": "stream",
          "text": [
            "[Parallel(n_jobs=1)]: Using backend SequentialBackend with 1 concurrent workers.\n",
            "[Parallel(n_jobs=1)]: Done  18 out of  18 | elapsed:  9.3min finished\n"
          ],
          "name": "stderr"
        }
      ]
    },
    {
      "cell_type": "code",
      "metadata": {
        "id": "LwxMEAWixT-w",
        "outputId": "dc4c8130-f584-49ea-b38b-8b161013cee7",
        "colab": {
          "base_uri": "https://localhost:8080/",
          "height": 33
        }
      },
      "source": [
        "print(\"Best: %f using %s\" % (grid_result_pen.best_score_, grid_result_pen.best_params_))"
      ],
      "execution_count": null,
      "outputs": [
        {
          "output_type": "stream",
          "text": [
            "Best: 0.973283 using {'l_2_penalty': 1e-05}\n"
          ],
          "name": "stdout"
        }
      ]
    },
    {
      "cell_type": "markdown",
      "metadata": {
        "id": "O05KAdP8yH4D"
      },
      "source": [
        "Let's train the best model."
      ]
    },
    {
      "cell_type": "code",
      "metadata": {
        "id": "0YHoj20Mxg6a"
      },
      "source": [
        "modelADMpen = tf.keras.Sequential([\n",
        "    tf.keras.layers.Flatten(input_shape=(28, 28)),\n",
        "    tf.keras.layers.Dense(128, activation='relu', kernel_regularizer=tf.keras.regularizers.l2(1e-5)),\n",
        "    tf.keras.layers.Dense(10, activation = 'sigmoid')\n",
        "])"
      ],
      "execution_count": null,
      "outputs": []
    },
    {
      "cell_type": "code",
      "metadata": {
        "id": "VR1Ge7ruxhcf"
      },
      "source": [
        "modelADMpen.compile(optimizer=keras.optimizers.Adam(\n",
        "   learning_rate = 0.001, beta_1 = 0.9, beta_2 = 0.999, amsgrad = False),\n",
        "              loss=tf.keras.losses.SparseCategoricalCrossentropy(from_logits=True),\n",
        "              metrics=['accuracy'])"
      ],
      "execution_count": null,
      "outputs": []
    },
    {
      "cell_type": "code",
      "metadata": {
        "id": "XdsrO2z_xmjr",
        "outputId": "7335e062-726d-4bda-8ff0-08d9a0926765",
        "colab": {
          "base_uri": "https://localhost:8080/"
        }
      },
      "source": [
        "historyADMpen = modelADMpen.fit(x_train, y_train, validation_split=0.33, epochs = 30, batch_size = 32)"
      ],
      "execution_count": null,
      "outputs": [
        {
          "output_type": "stream",
          "text": [
            "Epoch 1/30\n",
            "1257/1257 [==============================] - 4s 3ms/step - loss: 1.5937 - accuracy: 0.8966 - val_loss: 1.5371 - val_accuracy: 0.9306\n",
            "Epoch 2/30\n",
            "1257/1257 [==============================] - 4s 3ms/step - loss: 1.5261 - accuracy: 0.9420 - val_loss: 1.5215 - val_accuracy: 0.9463\n",
            "Epoch 3/30\n",
            "1257/1257 [==============================] - 4s 3ms/step - loss: 1.5130 - accuracy: 0.9546 - val_loss: 1.5143 - val_accuracy: 0.9541\n",
            "Epoch 4/30\n",
            "1257/1257 [==============================] - 4s 3ms/step - loss: 1.5053 - accuracy: 0.9621 - val_loss: 1.5113 - val_accuracy: 0.9570\n",
            "Epoch 5/30\n",
            "1257/1257 [==============================] - 4s 3ms/step - loss: 1.5000 - accuracy: 0.9671 - val_loss: 1.5086 - val_accuracy: 0.9604\n",
            "Epoch 6/30\n",
            "1257/1257 [==============================] - 4s 3ms/step - loss: 1.4963 - accuracy: 0.9719 - val_loss: 1.5063 - val_accuracy: 0.9625\n",
            "Epoch 7/30\n",
            "1257/1257 [==============================] - 4s 3ms/step - loss: 1.4938 - accuracy: 0.9751 - val_loss: 1.5029 - val_accuracy: 0.9665\n",
            "Epoch 8/30\n",
            "1257/1257 [==============================] - 4s 3ms/step - loss: 1.4912 - accuracy: 0.9781 - val_loss: 1.5041 - val_accuracy: 0.9670\n",
            "Epoch 9/30\n",
            "1257/1257 [==============================] - 4s 3ms/step - loss: 1.4895 - accuracy: 0.9799 - val_loss: 1.5016 - val_accuracy: 0.9677\n",
            "Epoch 10/30\n",
            "1257/1257 [==============================] - 4s 3ms/step - loss: 1.4878 - accuracy: 0.9811 - val_loss: 1.5007 - val_accuracy: 0.9691\n",
            "Epoch 11/30\n",
            "1257/1257 [==============================] - 4s 3ms/step - loss: 1.4868 - accuracy: 0.9827 - val_loss: 1.5006 - val_accuracy: 0.9689\n",
            "Epoch 12/30\n",
            "1257/1257 [==============================] - 4s 3ms/step - loss: 1.4854 - accuracy: 0.9843 - val_loss: 1.4997 - val_accuracy: 0.9698\n",
            "Epoch 13/30\n",
            "1257/1257 [==============================] - 4s 3ms/step - loss: 1.4846 - accuracy: 0.9847 - val_loss: 1.4994 - val_accuracy: 0.9714\n",
            "Epoch 14/30\n",
            "1257/1257 [==============================] - 4s 3ms/step - loss: 1.4838 - accuracy: 0.9852 - val_loss: 1.4995 - val_accuracy: 0.9717\n",
            "Epoch 15/30\n",
            "1257/1257 [==============================] - 4s 3ms/step - loss: 1.4829 - accuracy: 0.9863 - val_loss: 1.4997 - val_accuracy: 0.9706\n",
            "Epoch 16/30\n",
            "1257/1257 [==============================] - 4s 3ms/step - loss: 1.4827 - accuracy: 0.9863 - val_loss: 1.4973 - val_accuracy: 0.9716\n",
            "Epoch 17/30\n",
            "1257/1257 [==============================] - 4s 3ms/step - loss: 1.4817 - accuracy: 0.9871 - val_loss: 1.4989 - val_accuracy: 0.9722\n",
            "Epoch 18/30\n",
            "1257/1257 [==============================] - 4s 3ms/step - loss: 1.4817 - accuracy: 0.9873 - val_loss: 1.4988 - val_accuracy: 0.9710\n",
            "Epoch 19/30\n",
            "1257/1257 [==============================] - 4s 3ms/step - loss: 1.4812 - accuracy: 0.9878 - val_loss: 1.4997 - val_accuracy: 0.9712\n",
            "Epoch 20/30\n",
            "1257/1257 [==============================] - 4s 3ms/step - loss: 1.4808 - accuracy: 0.9880 - val_loss: 1.4983 - val_accuracy: 0.9730\n",
            "Epoch 21/30\n",
            "1257/1257 [==============================] - 4s 3ms/step - loss: 1.4803 - accuracy: 0.9887 - val_loss: 1.4985 - val_accuracy: 0.9723\n",
            "Epoch 22/30\n",
            "1257/1257 [==============================] - 4s 3ms/step - loss: 1.4798 - accuracy: 0.9890 - val_loss: 1.4963 - val_accuracy: 0.9740\n",
            "Epoch 23/30\n",
            "1257/1257 [==============================] - 4s 3ms/step - loss: 1.4794 - accuracy: 0.9895 - val_loss: 1.4969 - val_accuracy: 0.9731\n",
            "Epoch 24/30\n",
            "1257/1257 [==============================] - 4s 3ms/step - loss: 1.4791 - accuracy: 0.9902 - val_loss: 1.4972 - val_accuracy: 0.9717\n",
            "Epoch 25/30\n",
            "1257/1257 [==============================] - 4s 3ms/step - loss: 1.4791 - accuracy: 0.9898 - val_loss: 1.4970 - val_accuracy: 0.9737\n",
            "Epoch 26/30\n",
            "1257/1257 [==============================] - 4s 3ms/step - loss: 1.4788 - accuracy: 0.9903 - val_loss: 1.4969 - val_accuracy: 0.9736\n",
            "Epoch 27/30\n",
            "1257/1257 [==============================] - 4s 3ms/step - loss: 1.4789 - accuracy: 0.9908 - val_loss: 1.4975 - val_accuracy: 0.9735\n",
            "Epoch 28/30\n",
            "1257/1257 [==============================] - 4s 3ms/step - loss: 1.4780 - accuracy: 0.9909 - val_loss: 1.4969 - val_accuracy: 0.9743\n",
            "Epoch 29/30\n",
            "1257/1257 [==============================] - 4s 3ms/step - loss: 1.4778 - accuracy: 0.9911 - val_loss: 1.4956 - val_accuracy: 0.9754\n",
            "Epoch 30/30\n",
            "1257/1257 [==============================] - 4s 3ms/step - loss: 1.4781 - accuracy: 0.9912 - val_loss: 1.4963 - val_accuracy: 0.9742\n"
          ],
          "name": "stdout"
        }
      ]
    },
    {
      "cell_type": "markdown",
      "metadata": {
        "id": "AjJfixoFyWs8"
      },
      "source": [
        "Let's see now the results."
      ]
    },
    {
      "cell_type": "code",
      "metadata": {
        "id": "HGHFZz3txv3R",
        "outputId": "0f817bb8-74a4-4137-8e34-8036cd329624",
        "colab": {
          "base_uri": "https://localhost:8080/",
          "height": 294
        }
      },
      "source": [
        "plt.plot(historyADMpen.history['loss'])\n",
        "plt.plot(historyADMpen.history['val_loss'])\n",
        "plt.title('model loss')\n",
        "plt.ylabel('loss')\n",
        "plt.xlabel('epoch')\n",
        "plt.legend(['train', 'validation'], loc='upper left')\n",
        "plt.show()"
      ],
      "execution_count": null,
      "outputs": [
        {
          "output_type": "display_data",
          "data": {
            "image/png": "[encoded data removed]",
            "text/plain": [
              "<Figure size 432x288 with 1 Axes>"
            ]
          },
          "metadata": {
            "tags": [],
            "needs_background": "light"
          }
        }
      ]
    },
    {
      "cell_type": "code",
      "metadata": {
        "id": "MwUs8eSZyQtH",
        "outputId": "c8be1851-573d-4e79-f458-393661795d8a",
        "colab": {
          "base_uri": "https://localhost:8080/",
          "height": 294
        }
      },
      "source": [
        "plt.plot(historyADMpen.history['accuracy'])\n",
        "plt.plot(historyADMpen.history['val_accuracy'])\n",
        "plt.title('model accuracy')\n",
        "plt.ylabel('accuracy')\n",
        "plt.xlabel('epoch')\n",
        "plt.legend(['train', 'validation'], loc='upper left')\n",
        "plt.show()"
      ],
      "execution_count": null,
      "outputs": [
        {
          "output_type": "display_data",
          "data": {
            "image/png": "[encoded data removed]",
            "text/plain": [
              "<Figure size 432x288 with 1 Axes>"
            ]
          },
          "metadata": {
            "tags": [],
            "needs_background": "light"
          }
        }
      ]
    },
    {
      "cell_type": "markdown",
      "metadata": {
        "id": "_ElYUNcFzRl4"
      },
      "source": [
        "So at the end we don't see very big changes using the regularization techniques. We only see a $0.1/%$ of improvement.\n",
        "\n",
        "This is probably due to the fact that our network is too simple and can not completely benifit from these methods. \n",
        "\n",
        "When we will use more complex structure we will try to use them again."
      ]
    },
    {
      "cell_type": "markdown",
      "metadata": {
        "id": "-E3yp-9I1WCb"
      },
      "source": [
        "## 3.3 **Change the dimensions of the Network**"
      ]
    },
    {
      "cell_type": "markdown",
      "metadata": {
        "id": "zmlkLmSQ1r1k"
      },
      "source": [
        "Let's now pass to one of the most important part: the decision of the size of the network. We will try to:\n",
        "\n",
        "1. Change the number of layers.\n",
        "2. Change the number of neurons in each layer."
      ]
    },
    {
      "cell_type": "markdown",
      "metadata": {
        "id": "mvADV8jj2Mh3"
      },
      "source": [
        "### 3.4.1 **Change the number of layers**"
      ]
    },
    {
      "cell_type": "markdown",
      "metadata": {
        "id": "jrdM6JPt293O"
      },
      "source": [
        "We start with 4 layers."
      ]
    },
    {
      "cell_type": "code",
      "metadata": {
        "id": "4tuc7J7S2AnH"
      },
      "source": [
        "def myModel4L():\n",
        "  model4L = tf.keras.Sequential()\n",
        "  \n",
        "  model4L.add(tf.keras.layers.Flatten(input_shape=(28, 28)))\n",
        "  \n",
        "  model4L.add(tf.keras.layers.Dense(128, activation='relu'))\n",
        "  model4L.add(tf.keras.layers.Dense(128, activation='relu'))\n",
        "  model4L.add(tf.keras.layers.Dense(128, activation='relu'))\n",
        "\n",
        "  model4L.add(tf.keras.layers.Dense(10, activation = 'sigmoid'))\n",
        "  optimizer = keras.optimizers.Adam(learning_rate = 0.001, beta_1 =  0.9, beta_2 = 0.999, amsgrad = False)\n",
        "  model4L.compile(optimizer = optimizer,\n",
        "                      loss=tf.keras.losses.SparseCategoricalCrossentropy(from_logits=True),\n",
        "                      metrics=['accuracy'])\n",
        "  return model4L"
      ],
      "execution_count": null,
      "outputs": []
    },
    {
      "cell_type": "code",
      "metadata": {
        "id": "vZX05__c3Mxc",
        "outputId": "9930ceee-b75d-42f1-f346-1243c457edc0",
        "colab": {
          "base_uri": "https://localhost:8080/",
          "height": 683
        }
      },
      "source": [
        "model4L = myModel4L()\n",
        "history4L = model4L.fit(x_train, y_train, validation_split = 0.33, epochs = 20)"
      ],
      "execution_count": null,
      "outputs": [
        {
          "output_type": "stream",
          "text": [
            "Epoch 1/20\n",
            "1257/1257 [==============================] - 4s 3ms/step - loss: 1.5584 - accuracy: 0.9025 - val_loss: 1.5079 - val_accuracy: 0.9463\n",
            "Epoch 2/20\n",
            "1257/1257 [==============================] - 4s 3ms/step - loss: 1.5013 - accuracy: 0.9520 - val_loss: 1.4965 - val_accuracy: 0.9569\n",
            "Epoch 3/20\n",
            "1257/1257 [==============================] - 4s 3ms/step - loss: 1.4904 - accuracy: 0.9645 - val_loss: 1.4939 - val_accuracy: 0.9597\n",
            "Epoch 4/20\n",
            "1257/1257 [==============================] - 4s 3ms/step - loss: 1.4848 - accuracy: 0.9697 - val_loss: 1.4914 - val_accuracy: 0.9629\n",
            "Epoch 5/20\n",
            "1257/1257 [==============================] - 4s 3ms/step - loss: 1.4807 - accuracy: 0.9760 - val_loss: 1.4890 - val_accuracy: 0.9666\n",
            "Epoch 6/20\n",
            "1257/1257 [==============================] - 4s 3ms/step - loss: 1.4784 - accuracy: 0.9777 - val_loss: 1.4896 - val_accuracy: 0.9634\n",
            "Epoch 7/20\n",
            "1257/1257 [==============================] - 4s 3ms/step - loss: 1.4772 - accuracy: 0.9788 - val_loss: 1.4902 - val_accuracy: 0.9639\n",
            "Epoch 8/20\n",
            "1257/1257 [==============================] - 4s 3ms/step - loss: 1.4758 - accuracy: 0.9819 - val_loss: 1.4889 - val_accuracy: 0.9675\n",
            "Epoch 9/20\n",
            "1257/1257 [==============================] - 4s 3ms/step - loss: 1.4760 - accuracy: 0.9808 - val_loss: 1.4893 - val_accuracy: 0.9656\n",
            "Epoch 10/20\n",
            "1257/1257 [==============================] - 4s 3ms/step - loss: 1.4752 - accuracy: 0.9823 - val_loss: 1.4889 - val_accuracy: 0.9656\n",
            "Epoch 11/20\n",
            "1257/1257 [==============================] - 4s 3ms/step - loss: 1.4737 - accuracy: 0.9844 - val_loss: 1.4882 - val_accuracy: 0.9658\n",
            "Epoch 12/20\n",
            "1257/1257 [==============================] - 4s 3ms/step - loss: 1.4735 - accuracy: 0.9848 - val_loss: 1.4905 - val_accuracy: 0.9630\n",
            "Epoch 13/20\n",
            "1257/1257 [==============================] - 4s 3ms/step - loss: 1.4740 - accuracy: 0.9831 - val_loss: 1.4888 - val_accuracy: 0.9638\n",
            "Epoch 14/20\n",
            "1257/1257 [==============================] - 4s 3ms/step - loss: 1.4727 - accuracy: 0.9852 - val_loss: 1.4846 - val_accuracy: 0.9717\n",
            "Epoch 15/20\n",
            "1257/1257 [==============================] - 4s 3ms/step - loss: 1.4717 - accuracy: 0.9873 - val_loss: 1.4877 - val_accuracy: 0.9665\n",
            "Epoch 16/20\n",
            "1257/1257 [==============================] - 4s 3ms/step - loss: 1.4727 - accuracy: 0.9854 - val_loss: 1.4856 - val_accuracy: 0.9710\n",
            "Epoch 17/20\n",
            "1257/1257 [==============================] - 4s 3ms/step - loss: 1.4722 - accuracy: 0.9862 - val_loss: 1.4878 - val_accuracy: 0.9665\n",
            "Epoch 18/20\n",
            "1257/1257 [==============================] - 4s 3ms/step - loss: 1.4726 - accuracy: 0.9849 - val_loss: 1.4865 - val_accuracy: 0.9695\n",
            "Epoch 19/20\n",
            "1257/1257 [==============================] - 4s 3ms/step - loss: 1.4719 - accuracy: 0.9857 - val_loss: 1.4847 - val_accuracy: 0.9717\n",
            "Epoch 20/20\n",
            "1257/1257 [==============================] - 4s 3ms/step - loss: 1.4726 - accuracy: 0.9848 - val_loss: 1.4890 - val_accuracy: 0.9672\n"
          ],
          "name": "stdout"
        }
      ]
    },
    {
      "cell_type": "code",
      "metadata": {
        "id": "eTzLhDLi3zNO",
        "outputId": "13d3eebf-9d11-4eaf-aab3-7e4b654b0896",
        "colab": {
          "base_uri": "https://localhost:8080/",
          "height": 294
        }
      },
      "source": [
        "plt.plot(history4L.history['loss'])\n",
        "plt.plot(history4L.history['val_loss'])\n",
        "plt.title('model loss')\n",
        "plt.ylabel('loss')\n",
        "plt.xlabel('epoch')\n",
        "plt.legend(['train', 'validation'], loc='upper left')\n",
        "plt.show()"
      ],
      "execution_count": null,
      "outputs": [
        {
          "output_type": "display_data",
          "data": {
            "image/png": "[encoded data removed]",
            "text/plain": [
              "<Figure size 432x288 with 1 Axes>"
            ]
          },
          "metadata": {
            "tags": [],
            "needs_background": "light"
          }
        }
      ]
    },
    {
      "cell_type": "markdown",
      "metadata": {
        "id": "pkPpcw5j3414"
      },
      "source": [
        "Let's continue with 6 layers."
      ]
    },
    {
      "cell_type": "code",
      "metadata": {
        "id": "pmB41_5m38od"
      },
      "source": [
        "def myModel6L():\n",
        "  model6L = tf.keras.Sequential()\n",
        "  \n",
        "  model6L.add(tf.keras.layers.Flatten(input_shape=(28, 28)))\n",
        "  \n",
        "  model6L.add(tf.keras.layers.Dense(128, activation='relu'))\n",
        "  model6L.add(tf.keras.layers.Dense(128, activation='relu'))\n",
        "  model6L.add(tf.keras.layers.Dense(128, activation='relu'))\n",
        "  model6L.add(tf.keras.layers.Dense(128, activation='relu'))\n",
        "  model6L.add(tf.keras.layers.Dense(128, activation='relu'))\n",
        "\n",
        "  model6L.add(tf.keras.layers.Dense(10, activation = 'sigmoid'))\n",
        "  optimizer = keras.optimizers.Adam(learning_rate = 0.001, beta_1 =  0.9, beta_2 = 0.999, amsgrad = False)\n",
        "  model6L.compile(optimizer = optimizer,\n",
        "                      loss=tf.keras.losses.SparseCategoricalCrossentropy(from_logits=True),\n",
        "                      metrics=['accuracy'])\n",
        "  return model6L"
      ],
      "execution_count": null,
      "outputs": []
    },
    {
      "cell_type": "code",
      "metadata": {
        "id": "2U_G4eMf4Ey4",
        "outputId": "8ec42f33-0b4f-4d95-9973-e287926d75bc",
        "colab": {
          "base_uri": "https://localhost:8080/"
        }
      },
      "source": [
        "model6L = myModel6L()\n",
        "history6L = model6L.fit(x_train, y_train, validation_split = 0.33, epochs = 20)"
      ],
      "execution_count": null,
      "outputs": [
        {
          "output_type": "stream",
          "text": [
            "Epoch 1/20\n",
            "1257/1257 [==============================] - 4s 3ms/step - loss: 1.5640 - accuracy: 0.8678 - val_loss: 1.5093 - val_accuracy: 0.9393\n",
            "Epoch 2/20\n",
            "1257/1257 [==============================] - 4s 3ms/step - loss: 1.5066 - accuracy: 0.9417 - val_loss: 1.5082 - val_accuracy: 0.9395\n",
            "Epoch 3/20\n",
            "1257/1257 [==============================] - 4s 3ms/step - loss: 1.5009 - accuracy: 0.9499 - val_loss: 1.5035 - val_accuracy: 0.9472\n",
            "Epoch 4/20\n",
            "1257/1257 [==============================] - 4s 3ms/step - loss: 1.4974 - accuracy: 0.9533 - val_loss: 1.5120 - val_accuracy: 0.9311\n",
            "Epoch 5/20\n",
            "1257/1257 [==============================] - 4s 3ms/step - loss: 1.4965 - accuracy: 0.9540 - val_loss: 1.4982 - val_accuracy: 0.9525\n",
            "Epoch 6/20\n",
            "1257/1257 [==============================] - 4s 3ms/step - loss: 1.4985 - accuracy: 0.9415 - val_loss: 1.5500 - val_accuracy: 0.8740\n",
            "Epoch 7/20\n",
            "1257/1257 [==============================] - 4s 3ms/step - loss: 1.4952 - accuracy: 0.9525 - val_loss: 1.4977 - val_accuracy: 0.9517\n",
            "Epoch 8/20\n",
            "1257/1257 [==============================] - 4s 3ms/step - loss: 1.4968 - accuracy: 0.9459 - val_loss: 1.5356 - val_accuracy: 0.9100\n",
            "Epoch 9/20\n",
            "1257/1257 [==============================] - 4s 3ms/step - loss: 1.5016 - accuracy: 0.9480 - val_loss: 1.5014 - val_accuracy: 0.9473\n",
            "Epoch 10/20\n",
            "1257/1257 [==============================] - 4s 3ms/step - loss: 1.4986 - accuracy: 0.9442 - val_loss: 1.5029 - val_accuracy: 0.9455\n",
            "Epoch 11/20\n",
            "1257/1257 [==============================] - 4s 3ms/step - loss: 1.5012 - accuracy: 0.9416 - val_loss: 1.5168 - val_accuracy: 0.9314\n",
            "Epoch 12/20\n",
            "1257/1257 [==============================] - 4s 3ms/step - loss: 1.5129 - accuracy: 0.9377 - val_loss: 1.5449 - val_accuracy: 0.8698\n",
            "Epoch 13/20\n",
            "1257/1257 [==============================] - 4s 3ms/step - loss: 1.5074 - accuracy: 0.9359 - val_loss: 1.5068 - val_accuracy: 0.9483\n",
            "Epoch 14/20\n",
            "1257/1257 [==============================] - 4s 3ms/step - loss: 1.5138 - accuracy: 0.9353 - val_loss: 1.5246 - val_accuracy: 0.9257\n",
            "Epoch 15/20\n",
            "1257/1257 [==============================] - 4s 3ms/step - loss: 1.5110 - accuracy: 0.9429 - val_loss: 1.5140 - val_accuracy: 0.9206\n",
            "Epoch 16/20\n",
            "1257/1257 [==============================] - 4s 3ms/step - loss: 1.5294 - accuracy: 0.9196 - val_loss: 1.5548 - val_accuracy: 0.9050\n",
            "Epoch 17/20\n",
            "1257/1257 [==============================] - 4s 3ms/step - loss: 1.5259 - accuracy: 0.9375 - val_loss: 1.5268 - val_accuracy: 0.9383\n",
            "Epoch 18/20\n",
            "1257/1257 [==============================] - 4s 3ms/step - loss: 1.5281 - accuracy: 0.9124 - val_loss: 1.5170 - val_accuracy: 0.9259\n",
            "Epoch 19/20\n",
            "1257/1257 [==============================] - 4s 3ms/step - loss: 1.5273 - accuracy: 0.9133 - val_loss: 1.5141 - val_accuracy: 0.9359\n",
            "Epoch 20/20\n",
            "1257/1257 [==============================] - 4s 3ms/step - loss: 1.5099 - accuracy: 0.9396 - val_loss: 1.5278 - val_accuracy: 0.9292\n"
          ],
          "name": "stdout"
        }
      ]
    },
    {
      "cell_type": "code",
      "metadata": {
        "id": "fh3klaqJ4g43",
        "outputId": "dfa2dd2c-16ce-4a96-da9b-d9098467f1d4",
        "colab": {
          "base_uri": "https://localhost:8080/",
          "height": 294
        }
      },
      "source": [
        "plt.plot(history6L.history['loss'])\n",
        "plt.plot(history6L.history['val_loss'])\n",
        "plt.title('model loss')\n",
        "plt.ylabel('loss')\n",
        "plt.xlabel('epoch')\n",
        "plt.legend(['train', 'validation'], loc='upper left')\n",
        "plt.show()"
      ],
      "execution_count": null,
      "outputs": [
        {
          "output_type": "display_data",
          "data": {
            "image/png": "[encoded data removed]",
            "text/plain": [
              "<Figure size 432x288 with 1 Axes>"
            ]
          },
          "metadata": {
            "tags": [],
            "needs_background": "light"
          }
        }
      ]
    },
    {
      "cell_type": "markdown",
      "metadata": {
        "id": "j9U9Hvq_6Gj5"
      },
      "source": [
        "We can clearly see the overfitting. Let's try to train another deeper network to better see this phenomena and after we will try to solve it."
      ]
    },
    {
      "cell_type": "markdown",
      "metadata": {
        "id": "AK_3jrqy4krY"
      },
      "source": [
        "8 layers."
      ]
    },
    {
      "cell_type": "code",
      "metadata": {
        "id": "hGIxTK9a4qI5"
      },
      "source": [
        "def myModel8L():\n",
        "  myModel8L = tf.keras.Sequential()\n",
        "  \n",
        "  myModel8L.add(tf.keras.layers.Flatten(input_shape=(28, 28)))\n",
        "  \n",
        "  myModel8L.add(tf.keras.layers.Dense(128, activation='relu'))\n",
        "  myModel8L.add(tf.keras.layers.Dense(128, activation='relu'))\n",
        "  myModel8L.add(tf.keras.layers.Dense(128, activation='relu'))\n",
        "  myModel8L.add(tf.keras.layers.Dense(128, activation='relu'))\n",
        "  myModel8L.add(tf.keras.layers.Dense(128, activation='relu'))\n",
        "  myModel8L.add(tf.keras.layers.Dense(128, activation='relu'))\n",
        "  myModel8L.add(tf.keras.layers.Dense(128, activation='relu'))\n",
        "\n",
        "  myModel8L.add(tf.keras.layers.Dense(10, activation = 'sigmoid'))\n",
        "  optimizer = keras.optimizers.Adam(learning_rate = 0.001, beta_1 =  0.9, beta_2 = 0.999, amsgrad = False)\n",
        "  myModel8L.compile(optimizer = optimizer,\n",
        "                      loss=tf.keras.losses.SparseCategoricalCrossentropy(from_logits=True),\n",
        "                      metrics=['accuracy'])\n",
        "  return myModel8L"
      ],
      "execution_count": null,
      "outputs": []
    },
    {
      "cell_type": "code",
      "metadata": {
        "id": "t4798Rnq4vp5",
        "outputId": "acc4d753-0185-4567-abff-56b300cfcec2",
        "colab": {
          "base_uri": "https://localhost:8080/"
        }
      },
      "source": [
        "model8L = myModel8L()\n",
        "history8L = model8L.fit(x_train, y_train, validation_split = 0.33, epochs = 20)"
      ],
      "execution_count": null,
      "outputs": [
        {
          "output_type": "stream",
          "text": [
            "Epoch 1/20\n",
            "1257/1257 [==============================] - 4s 4ms/step - loss: 1.5785 - accuracy: 0.8494 - val_loss: 1.5197 - val_accuracy: 0.9276\n",
            "Epoch 2/20\n",
            "1257/1257 [==============================] - 4s 3ms/step - loss: 1.5262 - accuracy: 0.9197 - val_loss: 1.5209 - val_accuracy: 0.9295\n",
            "Epoch 3/20\n",
            "1257/1257 [==============================] - 4s 3ms/step - loss: 1.5483 - accuracy: 0.8804 - val_loss: 1.5276 - val_accuracy: 0.9229\n",
            "Epoch 4/20\n",
            "1257/1257 [==============================] - 4s 3ms/step - loss: 1.5591 - accuracy: 0.8683 - val_loss: 1.5354 - val_accuracy: 0.9084\n",
            "Epoch 5/20\n",
            "1257/1257 [==============================] - 4s 3ms/step - loss: 1.5852 - accuracy: 0.8174 - val_loss: 1.5429 - val_accuracy: 0.9008\n",
            "Epoch 6/20\n",
            "1257/1257 [==============================] - 4s 3ms/step - loss: 1.5932 - accuracy: 0.8035 - val_loss: 1.6118 - val_accuracy: 0.7653\n",
            "Epoch 7/20\n",
            "1257/1257 [==============================] - 4s 3ms/step - loss: 1.6653 - accuracy: 0.6780 - val_loss: 1.6512 - val_accuracy: 0.6322\n",
            "Epoch 8/20\n",
            "1257/1257 [==============================] - 5s 4ms/step - loss: 1.6747 - accuracy: 0.6225 - val_loss: 1.6294 - val_accuracy: 0.6995\n",
            "Epoch 9/20\n",
            "1257/1257 [==============================] - 4s 3ms/step - loss: 1.6489 - accuracy: 0.6696 - val_loss: 1.6447 - val_accuracy: 0.6666\n",
            "Epoch 10/20\n",
            "1257/1257 [==============================] - 4s 3ms/step - loss: 1.7065 - accuracy: 0.6460 - val_loss: 1.7195 - val_accuracy: 0.6061\n",
            "Epoch 11/20\n",
            "1257/1257 [==============================] - 4s 3ms/step - loss: 1.6836 - accuracy: 0.6590 - val_loss: 1.7255 - val_accuracy: 0.6696\n",
            "Epoch 12/20\n",
            "1257/1257 [==============================] - 4s 3ms/step - loss: 1.6954 - accuracy: 0.6164 - val_loss: 1.8279 - val_accuracy: 0.4470\n",
            "Epoch 13/20\n",
            "1257/1257 [==============================] - 4s 3ms/step - loss: 1.7884 - accuracy: 0.5043 - val_loss: 1.7686 - val_accuracy: 0.5811\n",
            "Epoch 14/20\n",
            "1257/1257 [==============================] - 4s 3ms/step - loss: 1.8318 - accuracy: 0.5394 - val_loss: 1.9546 - val_accuracy: 0.4719\n",
            "Epoch 15/20\n",
            "1257/1257 [==============================] - 5s 4ms/step - loss: 1.8239 - accuracy: 0.5552 - val_loss: 1.7627 - val_accuracy: 0.5773\n",
            "Epoch 16/20\n",
            "1257/1257 [==============================] - 5s 4ms/step - loss: 1.8109 - accuracy: 0.5007 - val_loss: 1.8354 - val_accuracy: 0.4905\n",
            "Epoch 17/20\n",
            "1257/1257 [==============================] - 4s 4ms/step - loss: 1.8614 - accuracy: 0.5271 - val_loss: 1.8077 - val_accuracy: 0.5712\n",
            "Epoch 18/20\n",
            "1257/1257 [==============================] - 4s 3ms/step - loss: 1.8397 - accuracy: 0.5382 - val_loss: 2.0680 - val_accuracy: 0.2891\n",
            "Epoch 19/20\n",
            "1257/1257 [==============================] - 4s 3ms/step - loss: 1.9439 - accuracy: 0.4094 - val_loss: 1.9718 - val_accuracy: 0.3668\n",
            "Epoch 20/20\n",
            "1257/1257 [==============================] - 4s 3ms/step - loss: 1.9002 - accuracy: 0.3743 - val_loss: 1.9179 - val_accuracy: 0.3691\n"
          ],
          "name": "stdout"
        }
      ]
    },
    {
      "cell_type": "code",
      "metadata": {
        "id": "ArypGmF25HFN",
        "outputId": "762eac60-09d5-4718-bf2d-98ee2f861c65",
        "colab": {
          "base_uri": "https://localhost:8080/",
          "height": 294
        }
      },
      "source": [
        "plt.plot(history8L.history['loss'])\n",
        "plt.plot(history8L.history['val_loss'])\n",
        "plt.title('model loss')\n",
        "plt.ylabel('loss')\n",
        "plt.xlabel('epoch')\n",
        "plt.legend(['train', 'validation'], loc='upper left')\n",
        "plt.show()"
      ],
      "execution_count": null,
      "outputs": [
        {
          "output_type": "display_data",
          "data": {
            "image/png": "[encoded data removed]",
            "text/plain": [
              "<Figure size 432x288 with 1 Axes>"
            ]
          },
          "metadata": {
            "tags": [],
            "needs_background": "light"
          }
        }
      ]
    },
    {
      "cell_type": "markdown",
      "metadata": {
        "id": "_1321PHz5L0D"
      },
      "source": [
        "From the history training we see a very possible strong source of overfitting. \n",
        "Let's try to solve it using both dropout and penalization."
      ]
    },
    {
      "cell_type": "code",
      "metadata": {
        "id": "4nbJHKod5ZK0"
      },
      "source": [
        "def myModel8LPen(dropout, l2_pen):\n",
        "  myModel8LPen = tf.keras.Sequential()\n",
        "  \n",
        "  myModel8LPen.add(tf.keras.layers.Flatten(input_shape=(28, 28)))\n",
        "  \n",
        "  myModel8LPen.add(tf.keras.layers.Dense(128, activation='relu', kernel_regularizer=tf.keras.regularizers.l2(l2_pen)))\n",
        "  myModel8LPen.add(tf.keras.layers.Dropout(dropout))\n",
        "  myModel8LPen.add(tf.keras.layers.Dense(128, activation='relu', kernel_regularizer=tf.keras.regularizers.l2(l2_pen)))\n",
        "  myModel8LPen.add(tf.keras.layers.Dropout(dropout))\n",
        "  myModel8LPen.add(tf.keras.layers.Dense(128, activation='relu', kernel_regularizer=tf.keras.regularizers.l2(l2_pen)))\n",
        "  myModel8LPen.add(tf.keras.layers.Dropout(dropout))\n",
        "  myModel8LPen.add(tf.keras.layers.Dense(128, activation='relu', kernel_regularizer=tf.keras.regularizers.l2(l2_pen)))\n",
        "  myModel8LPen.add(tf.keras.layers.Dropout(dropout))\n",
        "  myModel8LPen.add(tf.keras.layers.Dense(128, activation='relu', kernel_regularizer=tf.keras.regularizers.l2(l2_pen)))\n",
        "  myModel8LPen.add(tf.keras.layers.Dropout(dropout))\n",
        "  myModel8LPen.add(tf.keras.layers.Dense(128, activation='relu', kernel_regularizer=tf.keras.regularizers.l2(l2_pen)))\n",
        "  myModel8LPen.add(tf.keras.layers.Dropout(dropout))\n",
        "  myModel8LPen.add(tf.keras.layers.Dense(128, activation='relu', kernel_regularizer=tf.keras.regularizers.l2(l2_pen)))\n",
        "  myModel8LPen.add(tf.keras.layers.Dropout(dropout))\n",
        "\n",
        "  myModel8LPen.add(tf.keras.layers.Dense(10, activation = 'sigmoid'))\n",
        "  optimizer = keras.optimizers.Adam(learning_rate = 0.001, beta_1 =  0.9, beta_2 = 0.999, amsgrad = False)\n",
        "  myModel8LPen.compile(optimizer = optimizer,\n",
        "                      loss=tf.keras.losses.SparseCategoricalCrossentropy(from_logits=True),\n",
        "                      metrics=['accuracy'])\n",
        "  return myModel8LPen"
      ],
      "execution_count": null,
      "outputs": []
    },
    {
      "cell_type": "code",
      "metadata": {
        "id": "Tw7Rv7sd7f_F"
      },
      "source": [
        "penalty = [0, 1e-1, 1e-2, 1e-3, 1e-4, 1e-5, 1e-6]\n",
        "dropoutValues = [0.2, 0.5, 0.7]\n",
        "param_gridReg = dict(l2_pen = penalty, dropout = dropoutValues)"
      ],
      "execution_count": null,
      "outputs": []
    },
    {
      "cell_type": "code",
      "metadata": {
        "id": "hkkcNKp67-In",
        "outputId": "748d14e6-7cd6-45b7-ed3b-94ee7d9047f4",
        "colab": {
          "base_uri": "https://localhost:8080/",
          "height": 66
        }
      },
      "source": [
        "model8LPen = KerasClassifier(build_fn = myModel8LPen, epochs=20, batch_size=32, verbose=0)\n",
        "gridPen8L = GridSearchCV(estimator = model8LPen, param_grid = param_gridReg , cv = 3, verbose = 1)\n",
        "grid_result_8Lpen = gridPen8L.fit(x_train, y_train)"
      ],
      "execution_count": null,
      "outputs": [
        {
          "output_type": "stream",
          "text": [
            "Fitting 3 folds for each of 21 candidates, totalling 63 fits\n"
          ],
          "name": "stdout"
        },
        {
          "output_type": "stream",
          "text": [
            "[Parallel(n_jobs=1)]: Using backend SequentialBackend with 1 concurrent workers.\n",
            "[Parallel(n_jobs=1)]: Done  63 out of  63 | elapsed: 58.1min finished\n"
          ],
          "name": "stderr"
        }
      ]
    },
    {
      "cell_type": "code",
      "metadata": {
        "id": "0iEnVB__8a-7",
        "outputId": "8c76ab0d-450b-4f3e-a32c-6b625e608d9e",
        "colab": {
          "base_uri": "https://localhost:8080/",
          "height": 33
        }
      },
      "source": [
        "print(\"Best: %f using %s\" % (grid_result_8Lpen.best_score_, grid_result_8Lpen.best_params_))"
      ],
      "execution_count": null,
      "outputs": [
        {
          "output_type": "stream",
          "text": [
            "Best: 0.874483 using {'dropout': 0.2, 'l2_pen': 0.0001}\n"
          ],
          "name": "stdout"
        }
      ]
    },
    {
      "cell_type": "markdown",
      "metadata": {
        "id": "iuJGz2rMKV0g"
      },
      "source": [
        "We see that the techniques worked but the results are not good enough. We come back and try to regularize simpler models."
      ]
    },
    {
      "cell_type": "code",
      "metadata": {
        "id": "DaUeGj1YKgKR"
      },
      "source": [
        "def myModel6LPen(dropout, l2_pen):\n",
        "  myModel6LPen = tf.keras.Sequential()\n",
        "  \n",
        "  myModel6LPen.add(tf.keras.layers.Flatten(input_shape=(28, 28)))\n",
        "  \n",
        "  myModel6LPen.add(tf.keras.layers.Dense(128, activation='relu', kernel_regularizer=tf.keras.regularizers.l2(l2_pen)))\n",
        "  myModel6LPen.add(tf.keras.layers.Dropout(dropout))\n",
        "  myModel6LPen.add(tf.keras.layers.Dense(128, activation='relu', kernel_regularizer=tf.keras.regularizers.l2(l2_pen)))\n",
        "  myModel6LPen.add(tf.keras.layers.Dropout(dropout))\n",
        "  myModel6LPen.add(tf.keras.layers.Dense(128, activation='relu', kernel_regularizer=tf.keras.regularizers.l2(l2_pen)))\n",
        "  myModel6LPen.add(tf.keras.layers.Dropout(dropout))\n",
        "  myModel6LPen.add(tf.keras.layers.Dense(128, activation='relu', kernel_regularizer=tf.keras.regularizers.l2(l2_pen)))\n",
        "  myModel6LPen.add(tf.keras.layers.Dropout(dropout))\n",
        "  myModel6LPen.add(tf.keras.layers.Dense(128, activation='relu', kernel_regularizer=tf.keras.regularizers.l2(l2_pen)))\n",
        "  myModel6LPen.add(tf.keras.layers.Dropout(dropout))\n",
        "  \n",
        "\n",
        "  myModel6LPen.add(tf.keras.layers.Dense(10, activation = 'sigmoid'))\n",
        "  optimizer = keras.optimizers.Adam(learning_rate = 0.001, beta_1 =  0.9, beta_2 = 0.999, amsgrad = False)\n",
        "  myModel6LPen.compile(optimizer = optimizer,\n",
        "                      loss=tf.keras.losses.SparseCategoricalCrossentropy(from_logits=True),\n",
        "                      metrics=['accuracy'])\n",
        "  return myModel6LPen"
      ],
      "execution_count": null,
      "outputs": []
    },
    {
      "cell_type": "code",
      "metadata": {
        "id": "8lwoR3NeK76J",
        "outputId": "796325cf-37ad-4f81-a281-5a112beb620a",
        "colab": {
          "base_uri": "https://localhost:8080/",
          "height": 66
        }
      },
      "source": [
        "model6LPen = KerasClassifier(build_fn = myModel6LPen, epochs=20, batch_size=32, verbose=0)\n",
        "gridPen6L = GridSearchCV(estimator = model6LPen, param_grid = param_gridReg , cv = 3, verbose = 1)\n",
        "grid_result_6Lpen = gridPen6L.fit(x_train, y_train)"
      ],
      "execution_count": null,
      "outputs": [
        {
          "output_type": "stream",
          "text": [
            "Fitting 3 folds for each of 21 candidates, totalling 63 fits\n"
          ],
          "name": "stdout"
        },
        {
          "output_type": "stream",
          "text": [
            "[Parallel(n_jobs=1)]: Using backend SequentialBackend with 1 concurrent workers.\n",
            "[Parallel(n_jobs=1)]: Done  63 out of  63 | elapsed: 50.1min finished\n"
          ],
          "name": "stderr"
        }
      ]
    },
    {
      "cell_type": "code",
      "metadata": {
        "id": "1yQd2RGVLHvd",
        "outputId": "bb517a76-c469-4bf2-bd63-a12d7a66db83",
        "colab": {
          "base_uri": "https://localhost:8080/",
          "height": 33
        }
      },
      "source": [
        "print(\"Best: %f using %s\" % (grid_result_6Lpen.best_score_, grid_result_6Lpen.best_params_))"
      ],
      "execution_count": null,
      "outputs": [
        {
          "output_type": "stream",
          "text": [
            "Best: 0.960367 using {'dropout': 0.2, 'l2_pen': 0.0001}\n"
          ],
          "name": "stdout"
        }
      ]
    },
    {
      "cell_type": "markdown",
      "metadata": {
        "id": "DFv2kWQNXBj8"
      },
      "source": [
        "Also in that case we see a big improvement with the regularization.\n",
        "\n",
        "Let's try with the 4 layers network.\n"
      ]
    },
    {
      "cell_type": "code",
      "metadata": {
        "id": "9QdW4RlWXOq0"
      },
      "source": [
        "def myModel4LPen(dropout, l2_pen):\n",
        "  myModel4LPen = tf.keras.Sequential()\n",
        "  \n",
        "  myModel4LPen.add(tf.keras.layers.Flatten(input_shape=(28, 28)))\n",
        "  \n",
        "  myModel4LPen.add(tf.keras.layers.Dense(128, activation='relu', kernel_regularizer=tf.keras.regularizers.l2(l2_pen)))\n",
        "  myModel4LPen.add(tf.keras.layers.Dropout(dropout))\n",
        "  myModel4LPen.add(tf.keras.layers.Dense(128, activation='relu', kernel_regularizer=tf.keras.regularizers.l2(l2_pen)))\n",
        "  myModel4LPen.add(tf.keras.layers.Dropout(dropout))\n",
        "  myModel4LPen.add(tf.keras.layers.Dense(128, activation='relu', kernel_regularizer=tf.keras.regularizers.l2(l2_pen)))\n",
        "  myModel4LPen.add(tf.keras.layers.Dropout(dropout))\n",
        "  \n",
        "  myModel4LPen.add(tf.keras.layers.Dense(10, activation = 'sigmoid'))\n",
        "  optimizer = keras.optimizers.Adam(learning_rate = 0.001, beta_1 =  0.9, beta_2 = 0.999, amsgrad = False)\n",
        "  myModel4LPen.compile(optimizer = optimizer,\n",
        "                      loss=tf.keras.losses.SparseCategoricalCrossentropy(from_logits=True),\n",
        "                      metrics=['accuracy'])\n",
        "  return myModel4LPen"
      ],
      "execution_count": null,
      "outputs": []
    },
    {
      "cell_type": "code",
      "metadata": {
        "id": "Ki3e7lnVXdBX",
        "outputId": "aed74c6b-4379-4bbe-eb86-791789da74f6",
        "colab": {
          "base_uri": "https://localhost:8080/",
          "height": 66
        }
      },
      "source": [
        "model4LPen = KerasClassifier(build_fn = myModel4LPen, epochs=20, batch_size=32, verbose=0)\n",
        "gridPen4L = GridSearchCV(estimator = model4LPen, param_grid = param_gridReg , cv = 3, verbose = 1)\n",
        "grid_result_4Lpen = gridPen4L.fit(x_train, y_train)"
      ],
      "execution_count": null,
      "outputs": [
        {
          "output_type": "stream",
          "text": [
            "Fitting 3 folds for each of 21 candidates, totalling 63 fits\n"
          ],
          "name": "stdout"
        },
        {
          "output_type": "stream",
          "text": [
            "[Parallel(n_jobs=1)]: Using backend SequentialBackend with 1 concurrent workers.\n",
            "[Parallel(n_jobs=1)]: Done  63 out of  63 | elapsed: 42.2min finished\n"
          ],
          "name": "stderr"
        }
      ]
    },
    {
      "cell_type": "code",
      "metadata": {
        "id": "TwrDB2EtXka5",
        "outputId": "3000c29c-1469-4989-bce4-c6a8413d0ad9",
        "colab": {
          "base_uri": "https://localhost:8080/",
          "height": 33
        }
      },
      "source": [
        "print(\"Best: %f using %s\" % (grid_result_4Lpen.best_score_, grid_result_4Lpen.best_params_))"
      ],
      "execution_count": null,
      "outputs": [
        {
          "output_type": "stream",
          "text": [
            "Best: 0.970600 using {'dropout': 0.2, 'l2_pen': 1e-05}\n"
          ],
          "name": "stdout"
        }
      ]
    },
    {
      "cell_type": "code",
      "metadata": {
        "id": "ChJcCWxWkGXF",
        "outputId": "53dd6018-affb-4126-fbc5-ed3b98e08350",
        "colab": {
          "base_uri": "https://localhost:8080/"
        }
      },
      "source": [
        "model4LPen = myModel4LPen(dropout = 0.2, l2_pen = 1e-05)\n",
        "history4LPen = model4LPen.fit(x_train, y_train, validation_split = 0.33, epochs = 20)"
      ],
      "execution_count": null,
      "outputs": [
        {
          "output_type": "stream",
          "text": [
            "Epoch 1/20\n",
            "1257/1257 [==============================] - 4s 3ms/step - loss: 1.5967 - accuracy: 0.8566 - val_loss: 1.5171 - val_accuracy: 0.9381\n",
            "Epoch 2/20\n",
            "1257/1257 [==============================] - 4s 3ms/step - loss: 1.5208 - accuracy: 0.9370 - val_loss: 1.5060 - val_accuracy: 0.9543\n",
            "Epoch 3/20\n",
            "1257/1257 [==============================] - 4s 3ms/step - loss: 1.5115 - accuracy: 0.9481 - val_loss: 1.5038 - val_accuracy: 0.9571\n",
            "Epoch 4/20\n",
            "1257/1257 [==============================] - 4s 3ms/step - loss: 1.5062 - accuracy: 0.9545 - val_loss: 1.5028 - val_accuracy: 0.9605\n",
            "Epoch 5/20\n",
            "1257/1257 [==============================] - 4s 3ms/step - loss: 1.5039 - accuracy: 0.9587 - val_loss: 1.5014 - val_accuracy: 0.9611\n",
            "Epoch 6/20\n",
            "1257/1257 [==============================] - 4s 3ms/step - loss: 1.5015 - accuracy: 0.9618 - val_loss: 1.4982 - val_accuracy: 0.9664\n",
            "Epoch 7/20\n",
            "1257/1257 [==============================] - 4s 3ms/step - loss: 1.4999 - accuracy: 0.9648 - val_loss: 1.5015 - val_accuracy: 0.9624\n",
            "Epoch 8/20\n",
            "1257/1257 [==============================] - 4s 3ms/step - loss: 1.4997 - accuracy: 0.9645 - val_loss: 1.4988 - val_accuracy: 0.9655\n",
            "Epoch 9/20\n",
            "1257/1257 [==============================] - 4s 3ms/step - loss: 1.4987 - accuracy: 0.9668 - val_loss: 1.4985 - val_accuracy: 0.9673\n",
            "Epoch 10/20\n",
            "1257/1257 [==============================] - 4s 3ms/step - loss: 1.4975 - accuracy: 0.9678 - val_loss: 1.4994 - val_accuracy: 0.9657\n",
            "Epoch 11/20\n",
            "1257/1257 [==============================] - 4s 3ms/step - loss: 1.4976 - accuracy: 0.9690 - val_loss: 1.5024 - val_accuracy: 0.9623\n",
            "Epoch 12/20\n",
            "1257/1257 [==============================] - 4s 3ms/step - loss: 1.4970 - accuracy: 0.9698 - val_loss: 1.4981 - val_accuracy: 0.9690\n",
            "Epoch 13/20\n",
            "1257/1257 [==============================] - 4s 3ms/step - loss: 1.4971 - accuracy: 0.9688 - val_loss: 1.4983 - val_accuracy: 0.9675\n",
            "Epoch 14/20\n",
            "1257/1257 [==============================] - 4s 3ms/step - loss: 1.4963 - accuracy: 0.9707 - val_loss: 1.4980 - val_accuracy: 0.9703\n",
            "Epoch 15/20\n",
            "1257/1257 [==============================] - 4s 3ms/step - loss: 1.4970 - accuracy: 0.9700 - val_loss: 1.4984 - val_accuracy: 0.9700\n",
            "Epoch 16/20\n",
            "1257/1257 [==============================] - 4s 3ms/step - loss: 1.4964 - accuracy: 0.9703 - val_loss: 1.4992 - val_accuracy: 0.9683\n",
            "Epoch 17/20\n",
            "1257/1257 [==============================] - 4s 3ms/step - loss: 1.4959 - accuracy: 0.9721 - val_loss: 1.5004 - val_accuracy: 0.9658\n",
            "Epoch 18/20\n",
            "1257/1257 [==============================] - 4s 3ms/step - loss: 1.4953 - accuracy: 0.9725 - val_loss: 1.4992 - val_accuracy: 0.9682\n",
            "Epoch 19/20\n",
            "1257/1257 [==============================] - 4s 3ms/step - loss: 1.4954 - accuracy: 0.9728 - val_loss: 1.4991 - val_accuracy: 0.9693\n",
            "Epoch 20/20\n",
            "1257/1257 [==============================] - 4s 3ms/step - loss: 1.4957 - accuracy: 0.9732 - val_loss: 1.4980 - val_accuracy: 0.9700\n"
          ],
          "name": "stdout"
        }
      ]
    },
    {
      "cell_type": "code",
      "metadata": {
        "id": "gMxzfWQdkbo6",
        "outputId": "d5cb74ce-1a10-455d-c0d3-a2b56298e507",
        "colab": {
          "base_uri": "https://localhost:8080/",
          "height": 294
        }
      },
      "source": [
        "plt.plot(history4LPen.history['loss'])\n",
        "plt.plot(history4LPen.history['val_loss'])\n",
        "plt.title('model loss')\n",
        "plt.ylabel('loss')\n",
        "plt.xlabel('epoch')\n",
        "plt.legend(['train', 'validation'], loc='upper left')\n",
        "plt.show()"
      ],
      "execution_count": null,
      "outputs": [
        {
          "output_type": "display_data",
          "data": {
            "image/png": "[encoded data removed]",
            "text/plain": [
              "<Figure size 432x288 with 1 Axes>"
            ]
          },
          "metadata": {
            "tags": [],
            "needs_background": "light"
          }
        }
      ]
    },
    {
      "cell_type": "markdown",
      "metadata": {
        "id": "jQUdq2eZku8Z"
      },
      "source": [
        "We can see that we have removed a part of overfitting but we need few epocs."
      ]
    },
    {
      "cell_type": "markdown",
      "metadata": {
        "id": "khclC3Exk4U8"
      },
      "source": [
        "Let's move on the tuning of the number of neurons."
      ]
    },
    {
      "cell_type": "markdown",
      "metadata": {
        "id": "teV2ly6zk832"
      },
      "source": [
        "### 3.4.2 **Change the number of neurons in each layer**\n"
      ]
    },
    {
      "cell_type": "markdown",
      "metadata": {
        "id": "q3JB5J3yJTLg"
      },
      "source": [
        "We will try to use 64, 128, 256 or 512 in each layer and see the results."
      ]
    },
    {
      "cell_type": "code",
      "metadata": {
        "id": "S4x7eWzUllA3"
      },
      "source": [
        "def myModel4LNeurons(neurons):\n",
        "  myModel4LNeurons = tf.keras.Sequential()\n",
        "  \n",
        "  myModel4LNeurons.add(tf.keras.layers.Flatten(input_shape=(28, 28)))\n",
        "  \n",
        "  myModel4LNeurons.add(tf.keras.layers.Dense(neurons, activation='relu', kernel_regularizer=tf.keras.regularizers.l2(1e-05)))\n",
        "  myModel4LNeurons.add(tf.keras.layers.Dropout(0.2))\n",
        "  myModel4LNeurons.add(tf.keras.layers.Dense(neurons, activation='relu', kernel_regularizer=tf.keras.regularizers.l2(1e-05)))\n",
        "  myModel4LNeurons.add(tf.keras.layers.Dropout(0.2))\n",
        "  myModel4LNeurons.add(tf.keras.layers.Dense(neurons, activation='relu', kernel_regularizer=tf.keras.regularizers.l2(1e-05)))\n",
        "  myModel4LNeurons.add(tf.keras.layers.Dropout(0.2))\n",
        "  \n",
        "  myModel4LNeurons.add(tf.keras.layers.Dense(10, activation = 'sigmoid'))\n",
        "  optimizer = keras.optimizers.Adam(learning_rate = 0.001, beta_1 =  0.9, beta_2 = 0.999, amsgrad = False)\n",
        "  myModel4LNeurons.compile(optimizer = optimizer,\n",
        "                      loss=tf.keras.losses.SparseCategoricalCrossentropy(from_logits=True),\n",
        "                      metrics=['accuracy'])\n",
        "  return myModel4LNeurons"
      ],
      "execution_count": null,
      "outputs": []
    },
    {
      "cell_type": "code",
      "metadata": {
        "id": "gHve8KqqlZIW"
      },
      "source": [
        "neurons = [64, 128, 256, 512]\n",
        "param_grid_neurons = dict(neurons = neurons)"
      ],
      "execution_count": null,
      "outputs": []
    },
    {
      "cell_type": "code",
      "metadata": {
        "id": "YnM5uUaZmEts",
        "outputId": "f8af3273-0657-44da-84d5-224344d5b3bc",
        "colab": {
          "base_uri": "https://localhost:8080/",
          "height": 66
        }
      },
      "source": [
        "modelNeurons = KerasClassifier(build_fn = myModel4LNeurons, epochs=20, batch_size=32, verbose=0)\n",
        "grid_neurons = GridSearchCV(estimator = modelNeurons, param_grid = param_grid_neurons, cv = 3, verbose = 1)\n",
        "grid_result_neurons = grid_neurons.fit(x_train, y_train)"
      ],
      "execution_count": null,
      "outputs": [
        {
          "output_type": "stream",
          "text": [
            "Fitting 3 folds for each of 4 candidates, totalling 12 fits\n"
          ],
          "name": "stdout"
        },
        {
          "output_type": "stream",
          "text": [
            "[Parallel(n_jobs=1)]: Using backend SequentialBackend with 1 concurrent workers.\n",
            "[Parallel(n_jobs=1)]: Done  12 out of  12 | elapsed:  8.0min finished\n"
          ],
          "name": "stderr"
        }
      ]
    },
    {
      "cell_type": "code",
      "metadata": {
        "id": "eAeY7lNFoZoC",
        "outputId": "9f4aa769-bd89-43e9-bc52-f46364a14e24",
        "colab": {
          "base_uri": "https://localhost:8080/",
          "height": 33
        }
      },
      "source": [
        "print(\"Best: %f using %s\" % (grid_result_neurons.best_score_, grid_result_neurons.best_params_))"
      ],
      "execution_count": null,
      "outputs": [
        {
          "output_type": "stream",
          "text": [
            "Best: 0.970983 using {'neurons': 128}\n"
          ],
          "name": "stdout"
        }
      ]
    },
    {
      "cell_type": "markdown",
      "metadata": {
        "id": "ubmHAO59Q4yo"
      },
      "source": [
        "Therefore, using 128 neurons we come back the previous models. Let's see the accuracy."
      ]
    },
    {
      "cell_type": "code",
      "metadata": {
        "id": "ga9GlR7RQ_84",
        "outputId": "b1f06f12-8b96-42b1-dbf8-c76d772b2c06",
        "colab": {
          "base_uri": "https://localhost:8080/"
        }
      },
      "source": [
        "model4LPenFinal = myModel4LNeurons(128)\n",
        "model4LPenFinal.fit(x_train, y_train, validation_split = 0.33, epochs = 20)\n",
        "model4LPenFinal.evaluate(x_test, y_test, verbose=0)"
      ],
      "execution_count": null,
      "outputs": [
        {
          "output_type": "stream",
          "text": [
            "Epoch 1/20\n",
            "1257/1257 [==============================] - 4s 3ms/step - loss: 1.5981 - accuracy: 0.8570 - val_loss: 1.5195 - val_accuracy: 0.9363\n",
            "Epoch 2/20\n",
            "1257/1257 [==============================] - 4s 3ms/step - loss: 1.5226 - accuracy: 0.9336 - val_loss: 1.5066 - val_accuracy: 0.9533\n",
            "Epoch 3/20\n",
            "1257/1257 [==============================] - 4s 3ms/step - loss: 1.5127 - accuracy: 0.9459 - val_loss: 1.5057 - val_accuracy: 0.9547\n",
            "Epoch 4/20\n",
            "1257/1257 [==============================] - 4s 3ms/step - loss: 1.5076 - accuracy: 0.9536 - val_loss: 1.5039 - val_accuracy: 0.9592\n",
            "Epoch 5/20\n",
            "1257/1257 [==============================] - 4s 3ms/step - loss: 1.5048 - accuracy: 0.9576 - val_loss: 1.5000 - val_accuracy: 0.9635\n",
            "Epoch 6/20\n",
            "1257/1257 [==============================] - 4s 3ms/step - loss: 1.5024 - accuracy: 0.9605 - val_loss: 1.4985 - val_accuracy: 0.9655\n",
            "Epoch 7/20\n",
            "1257/1257 [==============================] - 4s 3ms/step - loss: 1.5016 - accuracy: 0.9625 - val_loss: 1.5005 - val_accuracy: 0.9626\n",
            "Epoch 8/20\n",
            "1257/1257 [==============================] - 4s 3ms/step - loss: 1.4998 - accuracy: 0.9652 - val_loss: 1.4986 - val_accuracy: 0.9655\n",
            "Epoch 9/20\n",
            "1257/1257 [==============================] - 4s 3ms/step - loss: 1.4996 - accuracy: 0.9657 - val_loss: 1.4992 - val_accuracy: 0.9657\n",
            "Epoch 10/20\n",
            "1257/1257 [==============================] - 4s 3ms/step - loss: 1.4985 - accuracy: 0.9671 - val_loss: 1.5020 - val_accuracy: 0.9643\n",
            "Epoch 11/20\n",
            "1257/1257 [==============================] - 4s 3ms/step - loss: 1.4985 - accuracy: 0.9681 - val_loss: 1.5014 - val_accuracy: 0.9639\n",
            "Epoch 12/20\n",
            "1257/1257 [==============================] - 4s 3ms/step - loss: 1.4977 - accuracy: 0.9692 - val_loss: 1.5017 - val_accuracy: 0.9645\n",
            "Epoch 13/20\n",
            "1257/1257 [==============================] - 4s 3ms/step - loss: 1.4970 - accuracy: 0.9699 - val_loss: 1.5005 - val_accuracy: 0.9652\n",
            "Epoch 14/20\n",
            "1257/1257 [==============================] - 4s 3ms/step - loss: 1.4963 - accuracy: 0.9705 - val_loss: 1.4990 - val_accuracy: 0.9681\n",
            "Epoch 15/20\n",
            "1257/1257 [==============================] - 4s 3ms/step - loss: 1.4964 - accuracy: 0.9714 - val_loss: 1.4960 - val_accuracy: 0.9717\n",
            "Epoch 16/20\n",
            "1257/1257 [==============================] - 4s 3ms/step - loss: 1.4964 - accuracy: 0.9719 - val_loss: 1.4980 - val_accuracy: 0.9684\n",
            "Epoch 17/20\n",
            "1257/1257 [==============================] - 4s 3ms/step - loss: 1.4966 - accuracy: 0.9715 - val_loss: 1.4992 - val_accuracy: 0.9686\n",
            "Epoch 18/20\n",
            "1257/1257 [==============================] - 4s 3ms/step - loss: 1.4956 - accuracy: 0.9731 - val_loss: 1.5006 - val_accuracy: 0.9677\n",
            "Epoch 19/20\n",
            "1257/1257 [==============================] - 4s 3ms/step - loss: 1.4953 - accuracy: 0.9734 - val_loss: 1.4977 - val_accuracy: 0.9707\n",
            "Epoch 20/20\n",
            "1257/1257 [==============================] - 4s 3ms/step - loss: 1.4962 - accuracy: 0.9727 - val_loss: 1.4985 - val_accuracy: 0.9710\n"
          ],
          "name": "stdout"
        },
        {
          "output_type": "execute_result",
          "data": {
            "text/plain": [
              "[1.4957975149154663, 0.9732999801635742]"
            ]
          },
          "metadata": {
            "tags": []
          },
          "execution_count": 38
        }
      ]
    },
    {
      "cell_type": "markdown",
      "metadata": {
        "id": "rhR-hdL4w4dC"
      },
      "source": [
        "## 3.4 **Hyper-Parameter tuning**\n",
        "\n"
      ]
    },
    {
      "cell_type": "markdown",
      "metadata": {
        "id": "ceS4F433z7_m"
      },
      "source": [
        "In this last part we will take the two best algorithm that we have trained and will try to tune the parameter of the Adam Algorithm."
      ]
    },
    {
      "cell_type": "markdown",
      "metadata": {
        "id": "1du1IyPhzmbR"
      },
      "source": [
        "We don't use a grid because we have too many parameters and the computation cost would rise too much. \n",
        "\n",
        "A better technique is to take the parameter at random and after try to fine-tune around some zones. \n",
        "\n",
        "To take a random we are not saying that we take uniformly but we have to strategy that we explain for $\\alpha$:\n",
        "\n",
        "\n",
        "1.   To take 90% of the possible $\\alpha$ between $0.1$ and $1$ and 10% between $0.0001$ and $0.1$.\n",
        "2.   We take uniformly at random some values for $log(\\alpha)$. So, First you specify a domain for a variable $r\\in [-min, 0]$ that you sample it uniformly at random. After you take $10^{r_1}, 10^{r_2}, 10^{r_3}, ...$. The reason for this choice is to take an $\\alpha$ with different orders of magnitude because we don't know how fast has to be the learning.\n",
        "\n",
        "For $\\beta_1$ and $\\beta_2$ we use a similar strategy but we taking at random the values for $1-\\beta_1, 1-\\beta_2$. \n",
        "\n",
        "The reason in this case is related with the algorithm. Let's remind that in the Adam one these parameters are related with a local exponentially weighted average. Usually when we have a weight of the form $(1-\\varepsilon)^{\\varrho} $ we know that after $\\varrho = \\dfrac{1}{\\varepsilon}$, so after $(1-\\varepsilon)^{1/\\varepsilon}$ the weights are less important in the average.\n",
        "\n",
        "So supposing that we are finding a weight $\\beta$ from $0.9$ to $0.999$, we have $1-\\beta=0.1,..., 0.0001$.\n",
        "\n",
        "If we take uniformly we give the same importance to pass from $0.9000$ to $0.9005$ and from $0.999$ to $0.9995$. In the first case the exponential average is always taking into account 10 steps but in the second case we pass from around 1000 steps to around 2000 steps, a big difference. So we have to refine in the second part and this is the reason because we are taking the logarithm for $\\beta_1, \\beta_2$ as well.\n",
        "\n"
      ]
    },
    {
      "cell_type": "markdown",
      "metadata": {
        "id": "0hxyotog1iS4"
      },
      "source": [
        "\n",
        "We first start with the more complex model.\n",
        "\n"
      ]
    },
    {
      "cell_type": "code",
      "metadata": {
        "id": "Uy1kT8pi0ZCx"
      },
      "source": [
        "learn_rate = [0.001, 0.01, 0.1, 0.2, 0.3]\n",
        "beta1 =  [1-0.001, 1-0.002,1- 0.005,1- 0.01, 1-0.1]\n",
        "beta2 = [1-0.001,1- 0.002, 1-0.005, 1-0.01,1- 0.1]\n",
        "param_grid_final = dict(learning_rate = learn_rate, beta_1 = beta1, beta_2 = beta2)"
      ],
      "execution_count": null,
      "outputs": []
    },
    {
      "cell_type": "code",
      "metadata": {
        "id": "jSOGdVIA0SGG"
      },
      "source": [
        "def myModel4LFinal(learning_rate = 0.001, beta_1 = 0.9, beta_2 = 0.999):\n",
        "  myModel4LNeurons = tf.keras.Sequential()\n",
        "  \n",
        "  myModel4LNeurons.add(tf.keras.layers.Flatten(input_shape=(28, 28)))\n",
        "  \n",
        "  myModel4LNeurons.add(tf.keras.layers.Dense(128, activation='relu', kernel_regularizer=tf.keras.regularizers.l2(1e-05)))\n",
        "  myModel4LNeurons.add(tf.keras.layers.Dropout(0.2))\n",
        "  myModel4LNeurons.add(tf.keras.layers.Dense(128, activation='relu', kernel_regularizer=tf.keras.regularizers.l2(1e-05)))\n",
        "  myModel4LNeurons.add(tf.keras.layers.Dropout(0.2))\n",
        "  myModel4LNeurons.add(tf.keras.layers.Dense(128, activation='relu', kernel_regularizer=tf.keras.regularizers.l2(1e-05)))\n",
        "  myModel4LNeurons.add(tf.keras.layers.Dropout(0.2))\n",
        "  \n",
        "  myModel4LNeurons.add(tf.keras.layers.Dense(10, activation = 'sigmoid'))\n",
        "  optimizer = keras.optimizers.Adam(learning_rate, beta_1, beta_2, amsgrad = False)\n",
        "  myModel4LNeurons.compile(optimizer = optimizer,\n",
        "                      loss=tf.keras.losses.SparseCategoricalCrossentropy(from_logits=True),\n",
        "                      metrics=['accuracy'])\n",
        "  return myModel4LNeurons"
      ],
      "execution_count": null,
      "outputs": []
    },
    {
      "cell_type": "code",
      "metadata": {
        "id": "1UuyGeU-9cmW"
      },
      "source": [
        "model4Lhp = KerasClassifier(build_fn = myModel4LFinal, epochs = 20, batch_size = 32, verbose=0)\n",
        "grid4L_hp = GridSearchCV(estimator = model4Lhp, param_grid = param_grid_final, cv = 3, verbose = 1)\n",
        "grid_result4L_hp = grid4L_hp.fit(x_train, y_train)"
      ],
      "execution_count": null,
      "outputs": []
    },
    {
      "cell_type": "code",
      "metadata": {
        "id": "IOykYBvY1hYw",
        "outputId": "85053225-5014-434f-c1f5-f70d39fd6380",
        "colab": {
          "base_uri": "https://localhost:8080/"
        }
      },
      "source": [
        "print(\"Best: %f using %s\" % (grid_result4L_hp.best_score_, grid_result4L_hp.best_params_))"
      ],
      "execution_count": null,
      "outputs": [
        {
          "output_type": "stream",
          "text": [
            "Best: 0.970767 using {'beta_1': 0.9, 'beta_2': 0.999, 'learning_rate': 0.001}\n"
          ],
          "name": "stdout"
        }
      ]
    },
    {
      "cell_type": "markdown",
      "metadata": {
        "id": "yQ3quMaz55Ev"
      },
      "source": [
        "So for this model the best paramater are $\\beta_1 = 0.9$, $\\beta_2 = 0.999$, $\\alpha = 0.001$. Let's train the model and see the confusion matrix."
      ]
    },
    {
      "cell_type": "code",
      "metadata": {
        "id": "91pGwCIX8RdL",
        "outputId": "75f1ae45-7d80-45fb-9fcd-0eac09c6f68e",
        "colab": {
          "base_uri": "https://localhost:8080/"
        }
      },
      "source": [
        "model4LFinal = myModel4LFinal(beta_1 = 0.9, beta_2 = 0.999, learning_rate = 0.001)\n",
        "model4LFinal.fit(x_train, y_train, validation_split = 0.33, epochs = 20)"
      ],
      "execution_count": null,
      "outputs": [
        {
          "output_type": "stream",
          "text": [
            "Epoch 1/20\n",
            "1257/1257 [==============================] - 5s 4ms/step - loss: 1.5961 - accuracy: 0.8597 - val_loss: 1.5217 - val_accuracy: 0.9359\n",
            "Epoch 2/20\n",
            "1257/1257 [==============================] - 5s 4ms/step - loss: 1.5220 - accuracy: 0.9358 - val_loss: 1.5040 - val_accuracy: 0.9558\n",
            "Epoch 3/20\n",
            "1257/1257 [==============================] - 5s 4ms/step - loss: 1.5117 - accuracy: 0.9482 - val_loss: 1.5023 - val_accuracy: 0.9580\n",
            "Epoch 4/20\n",
            "1257/1257 [==============================] - 4s 3ms/step - loss: 1.5070 - accuracy: 0.9545 - val_loss: 1.5004 - val_accuracy: 0.9619\n",
            "Epoch 5/20\n",
            "1257/1257 [==============================] - 4s 3ms/step - loss: 1.5045 - accuracy: 0.9578 - val_loss: 1.5019 - val_accuracy: 0.9602\n",
            "Epoch 6/20\n",
            "1257/1257 [==============================] - 4s 3ms/step - loss: 1.5022 - accuracy: 0.9618 - val_loss: 1.4986 - val_accuracy: 0.9664\n",
            "Epoch 7/20\n",
            "1257/1257 [==============================] - 4s 3ms/step - loss: 1.5004 - accuracy: 0.9639 - val_loss: 1.5017 - val_accuracy: 0.9613\n",
            "Epoch 8/20\n",
            "1257/1257 [==============================] - 4s 3ms/step - loss: 1.4994 - accuracy: 0.9656 - val_loss: 1.4990 - val_accuracy: 0.9662\n",
            "Epoch 9/20\n",
            "1257/1257 [==============================] - 4s 3ms/step - loss: 1.4988 - accuracy: 0.9669 - val_loss: 1.4985 - val_accuracy: 0.9676\n",
            "Epoch 10/20\n",
            "1257/1257 [==============================] - 4s 3ms/step - loss: 1.4966 - accuracy: 0.9701 - val_loss: 1.4991 - val_accuracy: 0.9669\n",
            "Epoch 11/20\n",
            "1257/1257 [==============================] - 4s 3ms/step - loss: 1.4968 - accuracy: 0.9699 - val_loss: 1.4984 - val_accuracy: 0.9668\n",
            "Epoch 12/20\n",
            "1257/1257 [==============================] - 4s 3ms/step - loss: 1.4979 - accuracy: 0.9685 - val_loss: 1.4986 - val_accuracy: 0.9669\n",
            "Epoch 13/20\n",
            "1257/1257 [==============================] - 4s 3ms/step - loss: 1.4964 - accuracy: 0.9705 - val_loss: 1.4999 - val_accuracy: 0.9666\n",
            "Epoch 14/20\n",
            "1257/1257 [==============================] - 4s 3ms/step - loss: 1.4962 - accuracy: 0.9712 - val_loss: 1.4985 - val_accuracy: 0.9676\n",
            "Epoch 15/20\n",
            "1257/1257 [==============================] - 4s 3ms/step - loss: 1.4960 - accuracy: 0.9716 - val_loss: 1.4982 - val_accuracy: 0.9687\n",
            "Epoch 16/20\n",
            "1257/1257 [==============================] - 4s 3ms/step - loss: 1.4981 - accuracy: 0.9687 - val_loss: 1.4972 - val_accuracy: 0.9710\n",
            "Epoch 17/20\n",
            "1257/1257 [==============================] - 4s 3ms/step - loss: 1.4963 - accuracy: 0.9723 - val_loss: 1.4987 - val_accuracy: 0.9681\n",
            "Epoch 18/20\n",
            "1257/1257 [==============================] - 4s 3ms/step - loss: 1.4959 - accuracy: 0.9721 - val_loss: 1.4995 - val_accuracy: 0.9675\n",
            "Epoch 19/20\n",
            "1257/1257 [==============================] - 4s 3ms/step - loss: 1.4965 - accuracy: 0.9723 - val_loss: 1.4988 - val_accuracy: 0.9695\n",
            "Epoch 20/20\n",
            "1257/1257 [==============================] - 4s 3ms/step - loss: 1.4953 - accuracy: 0.9741 - val_loss: 1.4973 - val_accuracy: 0.9723\n"
          ],
          "name": "stdout"
        },
        {
          "output_type": "execute_result",
          "data": {
            "text/plain": [
              "<tensorflow.python.keras.callbacks.History at 0x7f2d5e1f59b0>"
            ]
          },
          "metadata": {
            "tags": []
          },
          "execution_count": 40
        }
      ]
    },
    {
      "cell_type": "code",
      "metadata": {
        "id": "-TnnjbHP9-p4"
      },
      "source": [
        "y_pred_train = model4LFinal.predict(x_train)\n",
        "y_pred = np.argmax(y_pred_train, axis = 1 )\n"
      ],
      "execution_count": null,
      "outputs": []
    },
    {
      "cell_type": "code",
      "metadata": {
        "id": "KMcludVY8AzO",
        "outputId": "9e41fbb9-a51d-4d4f-9094-2c979d50bf33",
        "colab": {
          "base_uri": "https://localhost:8080/",
          "height": 281
        }
      },
      "source": [
        "sns.heatmap(confusion_matrix(y_train, y_pred), \n",
        "                    annot=True, cbar=False, fmt='d')"
      ],
      "execution_count": null,
      "outputs": [
        {
          "output_type": "execute_result",
          "data": {
            "text/plain": [
              "<matplotlib.axes._subplots.AxesSubplot at 0x7f2d0a163278>"
            ]
          },
          "metadata": {
            "tags": []
          },
          "execution_count": 42
        },
        {
          "output_type": "display_data",
          "data": {
            "image/png": "[encoded data removed]",
            "text/plain": [
              "<Figure size 432x288 with 1 Axes>"
            ]
          },
          "metadata": {
            "tags": [],
            "needs_background": "light"
          }
        }
      ]
    },
    {
      "cell_type": "code",
      "metadata": {
        "id": "cV2MhLea-ar6",
        "outputId": "65d3bed9-9210-4b88-ca0e-494ce7c017b6",
        "colab": {
          "base_uri": "https://localhost:8080/",
          "height": 588
        }
      },
      "source": [
        "incorrects = np.nonzero(y_pred != y_train)\n",
        "x_incorrect = x_train[incorrects]\n",
        "y_incorrect = y_pred[incorrects]\n",
        "plt.figure(figsize=(10,10))\n",
        "np.random.seed(1)\n",
        "for i in range(25):\n",
        "    rn = np.random.randint(x_incorrect.shape[0])\n",
        "    plt.subplot(5,5,i +1 )\n",
        "    plt.xticks([])\n",
        "    plt.yticks([])\n",
        "    plt.grid(True)\n",
        "    plt.imshow(x_incorrect[rn], cmap=plt.cm.binary)\n",
        "    plt.xlabel(y_incorrect[rn])\n",
        "plt.show()"
      ],
      "execution_count": null,
      "outputs": [
        {
          "output_type": "display_data",
          "data": {
            "image/png": "[encoded data removed]",
            "text/plain": [
              "<Figure size 720x720 with 25 Axes>"
            ]
          },
          "metadata": {
            "tags": []
          }
        }
      ]
    },
    {
      "cell_type": "markdown",
      "metadata": {
        "id": "q0fe9TXq-lth"
      },
      "source": [
        "We can see that also from a human point of view some of them are impossible to understand. Let's see the loss and the accuracy."
      ]
    },
    {
      "cell_type": "markdown",
      "metadata": {
        "id": "0GG6LUik3tne"
      },
      "source": [
        "Let's move on now on the simpler model."
      ]
    },
    {
      "cell_type": "code",
      "metadata": {
        "id": "cn1aafIOxFwS"
      },
      "source": [
        "def myModel2Lfinal(learning_rate = 0.001, beta_1 = 0.9, beta_2 = 0.999):\n",
        "  modelADMDrop = tf.keras.Sequential()\n",
        "  modelADMDrop.add(tf.keras.layers.Flatten(input_shape=(28, 28)))\n",
        "  modelADMDrop.add(tf.keras.layers.Dense(128, activation='relu'))\n",
        "  modelADMDrop.add(tf.keras.layers.Dropout(0.5))\n",
        "  modelADMDrop.add(tf.keras.layers.Dense(10, activation = 'sigmoid'))\n",
        "  optimizer = keras.optimizers.Adam(learning_rate = 0.001, beta_1 = 0.9, beta_2 = 0.999, amsgrad = False)\n",
        "  modelADMDrop.compile(optimizer = optimizer,\n",
        "                      loss=tf.keras.losses.SparseCategoricalCrossentropy(from_logits=True),\n",
        "                      metrics=['accuracy'])\n",
        "  return modelADMDrop"
      ],
      "execution_count": null,
      "outputs": []
    },
    {
      "cell_type": "code",
      "metadata": {
        "id": "Py6UdJ744Xv6",
        "outputId": "99622bc6-2a77-4790-aa91-7aca9a79f17b",
        "colab": {
          "base_uri": "https://localhost:8080/"
        }
      },
      "source": [
        "model2Lhp = KerasClassifier(build_fn = myModel2Lfinal, epochs = 20, batch_size = 32, verbose=0)\n",
        "grid2L_hp = GridSearchCV(estimator = model2Lhp, param_grid = param_grid_final, cv = 3, verbose = 1)\n",
        "grid_result2L_hp = grid2L_hp.fit(x_train, y_train)"
      ],
      "execution_count": null,
      "outputs": [
        {
          "output_type": "stream",
          "text": [
            "Fitting 3 folds for each of 125 candidates, totalling 375 fits\n"
          ],
          "name": "stdout"
        },
        {
          "output_type": "stream",
          "text": [
            "[Parallel(n_jobs=1)]: Using backend SequentialBackend with 1 concurrent workers.\n",
            "[Parallel(n_jobs=1)]: Done 375 out of 375 | elapsed: 176.9min finished\n"
          ],
          "name": "stderr"
        }
      ]
    },
    {
      "cell_type": "code",
      "metadata": {
        "id": "FPQ-PteoaEXS",
        "outputId": "39d58b0c-a31d-41a8-fd70-7e8b1d967aa8",
        "colab": {
          "base_uri": "https://localhost:8080/"
        }
      },
      "source": [
        "print(\"Best: %f using %s\" % (grid_result2L_hp.best_score_, grid_result2L_hp.best_params_))\n"
      ],
      "execution_count": null,
      "outputs": [
        {
          "output_type": "stream",
          "text": [
            "Best: 0.963833 using {'beta_1': 0.9, 'beta_2': 0.998, 'learning_rate': 0.001}\n"
          ],
          "name": "stdout"
        }
      ]
    },
    {
      "cell_type": "markdown",
      "metadata": {
        "id": "5CLji2wACI1q"
      },
      "source": [
        "Best parameters found are $\\beta_1 = 0.9$ and $\\beta_2 = 0.998$ e $\\alpha= 0.001$.\n",
        "\n",
        "In this case we have lost around 1% of accuracy with respect to the other model."
      ]
    },
    {
      "cell_type": "markdown",
      "metadata": {
        "id": "ZvRZW34i5K4E"
      },
      "source": [
        "## 3.5 **Change the batch size of the mini-batch size and epochs**"
      ]
    },
    {
      "cell_type": "markdown",
      "metadata": {
        "id": "RgkndgPmaIJC"
      },
      "source": [
        "In this last case we use the best model to tune the batch size. So we take:"
      ]
    },
    {
      "cell_type": "code",
      "metadata": {
        "id": "HPrrmT6yaSWi"
      },
      "source": [
        "def myModel4LBatFinal():\n",
        "  myModel4LBat = tf.keras.Sequential()\n",
        "  \n",
        "  myModel4LBat.add(tf.keras.layers.Flatten(input_shape=(28, 28)))\n",
        "  \n",
        "  myModel4LBat.add(tf.keras.layers.Dense(128, activation='relu', kernel_regularizer=tf.keras.regularizers.l2(1e-05)))\n",
        "  myModel4LBat.add(tf.keras.layers.Dropout(0.2))\n",
        "  myModel4LBat.add(tf.keras.layers.Dense(128, activation='relu', kernel_regularizer=tf.keras.regularizers.l2(1e-05)))\n",
        "  myModel4LBat.add(tf.keras.layers.Dropout(0.2))\n",
        "  myModel4LBat.add(tf.keras.layers.Dense(128, activation='relu', kernel_regularizer=tf.keras.regularizers.l2(1e-05)))\n",
        "  myModel4LBat.add(tf.keras.layers.Dropout(0.2))\n",
        "  \n",
        "  myModel4LBat.add(tf.keras.layers.Dense(10, activation = 'sigmoid'))\n",
        "  optimizer = keras.optimizers.Adam(learning_rate = 0.001, beta_1 = 0.9, beta_2 = 0.999, amsgrad = False)\n",
        "  myModel4LBat.compile(optimizer = optimizer,\n",
        "                      loss=tf.keras.losses.SparseCategoricalCrossentropy(from_logits=True),\n",
        "                      metrics=['accuracy'])\n",
        "  return myModel4LBat"
      ],
      "execution_count": null,
      "outputs": []
    },
    {
      "cell_type": "code",
      "metadata": {
        "id": "dUm3-9fIa6A_"
      },
      "source": [
        "batch_size = [32, 64, 128]\n",
        "epochs = [10, 20, 40]\n",
        "param_grid_bat = dict(batch_size = batch_size, epochs = epochs)\n"
      ],
      "execution_count": null,
      "outputs": []
    },
    {
      "cell_type": "code",
      "metadata": {
        "id": "inT8y4HDa2nM",
        "outputId": "11833413-3bb4-4111-d093-6bf1b1886e01",
        "colab": {
          "base_uri": "https://localhost:8080/"
        }
      },
      "source": [
        "model4Lbat = KerasClassifier(build_fn = myModel4LBatFinal, verbose=0)\n",
        "grid4L_bat = GridSearchCV(estimator = model4Lbat , param_grid = param_grid_bat, cv = 3, verbose = 1)\n",
        "grid_result4L_bat = grid4L_bat.fit(x_train, y_train)"
      ],
      "execution_count": null,
      "outputs": [
        {
          "output_type": "stream",
          "text": [
            "Fitting 3 folds for each of 9 candidates, totalling 27 fits\n"
          ],
          "name": "stdout"
        },
        {
          "output_type": "stream",
          "text": [
            "[Parallel(n_jobs=1)]: Using backend SequentialBackend with 1 concurrent workers.\n",
            "[Parallel(n_jobs=1)]: Done  27 out of  27 | elapsed: 13.1min finished\n"
          ],
          "name": "stderr"
        }
      ]
    },
    {
      "cell_type": "code",
      "metadata": {
        "id": "LYiSZE42IAyS",
        "outputId": "c439779a-947f-4e27-fd53-650328ebe4d0",
        "colab": {
          "base_uri": "https://localhost:8080/"
        }
      },
      "source": [
        "print(\"Best: %f using %s\" % (grid_result4L_bat.best_score_, grid_result4L_bat.best_params_))"
      ],
      "execution_count": null,
      "outputs": [
        {
          "output_type": "stream",
          "text": [
            "Best: 0.976150 using {'batch_size': 128, 'epochs': 40}\n"
          ],
          "name": "stdout"
        }
      ]
    },
    {
      "cell_type": "markdown",
      "metadata": {
        "id": "vAunxqF9IFt8"
      },
      "source": [
        "So the best model for the neural network is with 4 layers, regularized with batch size = 128 and number of epoch = 40."
      ]
    },
    {
      "cell_type": "code",
      "metadata": {
        "id": "UG3T8ZS3Jr4N",
        "outputId": "fb734fc4-2e7c-42d0-cea8-276d2ca9aedd",
        "colab": {
          "base_uri": "https://localhost:8080/"
        }
      },
      "source": [
        "myFinalModel = myModel4LBatFinal()\n",
        "myFinalModel.fit(x_train, y_train, validation_split = 0.33, epochs = 40, batch_size = 128)"
      ],
      "execution_count": null,
      "outputs": [
        {
          "output_type": "stream",
          "text": [
            "Epoch 1/40\n",
            "315/315 [==============================] - 1s 4ms/step - loss: 1.6599 - accuracy: 0.8120 - val_loss: 1.5275 - val_accuracy: 0.9302\n",
            "Epoch 2/40\n",
            "315/315 [==============================] - 1s 4ms/step - loss: 1.5326 - accuracy: 0.9267 - val_loss: 1.5103 - val_accuracy: 0.9480\n",
            "Epoch 3/40\n",
            "315/315 [==============================] - 1s 4ms/step - loss: 1.5173 - accuracy: 0.9427 - val_loss: 1.5046 - val_accuracy: 0.9544\n",
            "Epoch 4/40\n",
            "315/315 [==============================] - 1s 4ms/step - loss: 1.5082 - accuracy: 0.9521 - val_loss: 1.5020 - val_accuracy: 0.9583\n",
            "Epoch 5/40\n",
            "315/315 [==============================] - 1s 4ms/step - loss: 1.5031 - accuracy: 0.9582 - val_loss: 1.4988 - val_accuracy: 0.9622\n",
            "Epoch 6/40\n",
            "315/315 [==============================] - 1s 4ms/step - loss: 1.4997 - accuracy: 0.9629 - val_loss: 1.4975 - val_accuracy: 0.9642\n",
            "Epoch 7/40\n",
            "315/315 [==============================] - 1s 4ms/step - loss: 1.4968 - accuracy: 0.9665 - val_loss: 1.4962 - val_accuracy: 0.9667\n",
            "Epoch 8/40\n",
            "315/315 [==============================] - 1s 4ms/step - loss: 1.4950 - accuracy: 0.9683 - val_loss: 1.4954 - val_accuracy: 0.9671\n",
            "Epoch 9/40\n",
            "315/315 [==============================] - 1s 4ms/step - loss: 1.4938 - accuracy: 0.9701 - val_loss: 1.4934 - val_accuracy: 0.9692\n",
            "Epoch 10/40\n",
            "315/315 [==============================] - 1s 4ms/step - loss: 1.4920 - accuracy: 0.9729 - val_loss: 1.4940 - val_accuracy: 0.9694\n",
            "Epoch 11/40\n",
            "315/315 [==============================] - 1s 4ms/step - loss: 1.4904 - accuracy: 0.9746 - val_loss: 1.4934 - val_accuracy: 0.9702\n",
            "Epoch 12/40\n",
            "315/315 [==============================] - 1s 4ms/step - loss: 1.4901 - accuracy: 0.9753 - val_loss: 1.4933 - val_accuracy: 0.9704\n",
            "Epoch 13/40\n",
            "315/315 [==============================] - 1s 4ms/step - loss: 1.4886 - accuracy: 0.9765 - val_loss: 1.4949 - val_accuracy: 0.9677\n",
            "Epoch 14/40\n",
            "315/315 [==============================] - 1s 4ms/step - loss: 1.4886 - accuracy: 0.9770 - val_loss: 1.4924 - val_accuracy: 0.9718\n",
            "Epoch 15/40\n",
            "315/315 [==============================] - 1s 4ms/step - loss: 1.4874 - accuracy: 0.9786 - val_loss: 1.4919 - val_accuracy: 0.9723\n",
            "Epoch 16/40\n",
            "315/315 [==============================] - 1s 4ms/step - loss: 1.4869 - accuracy: 0.9790 - val_loss: 1.4922 - val_accuracy: 0.9717\n",
            "Epoch 17/40\n",
            "315/315 [==============================] - 1s 4ms/step - loss: 1.4865 - accuracy: 0.9792 - val_loss: 1.4924 - val_accuracy: 0.9725\n",
            "Epoch 18/40\n",
            "315/315 [==============================] - 1s 4ms/step - loss: 1.4859 - accuracy: 0.9807 - val_loss: 1.4916 - val_accuracy: 0.9733\n",
            "Epoch 19/40\n",
            "315/315 [==============================] - 1s 4ms/step - loss: 1.4857 - accuracy: 0.9805 - val_loss: 1.4920 - val_accuracy: 0.9729\n",
            "Epoch 20/40\n",
            "315/315 [==============================] - 1s 4ms/step - loss: 1.4852 - accuracy: 0.9810 - val_loss: 1.4917 - val_accuracy: 0.9726\n",
            "Epoch 21/40\n",
            "315/315 [==============================] - 1s 4ms/step - loss: 1.4847 - accuracy: 0.9817 - val_loss: 1.4909 - val_accuracy: 0.9739\n",
            "Epoch 22/40\n",
            "315/315 [==============================] - 1s 4ms/step - loss: 1.4849 - accuracy: 0.9810 - val_loss: 1.4906 - val_accuracy: 0.9750\n",
            "Epoch 23/40\n",
            "315/315 [==============================] - 1s 4ms/step - loss: 1.4845 - accuracy: 0.9828 - val_loss: 1.4905 - val_accuracy: 0.9747\n",
            "Epoch 24/40\n",
            "315/315 [==============================] - 1s 4ms/step - loss: 1.4838 - accuracy: 0.9824 - val_loss: 1.4917 - val_accuracy: 0.9726\n",
            "Epoch 25/40\n",
            "315/315 [==============================] - 1s 4ms/step - loss: 1.4836 - accuracy: 0.9833 - val_loss: 1.4904 - val_accuracy: 0.9753\n",
            "Epoch 26/40\n",
            "315/315 [==============================] - 1s 4ms/step - loss: 1.4831 - accuracy: 0.9833 - val_loss: 1.4916 - val_accuracy: 0.9733\n",
            "Epoch 27/40\n",
            "315/315 [==============================] - 1s 4ms/step - loss: 1.4832 - accuracy: 0.9845 - val_loss: 1.4923 - val_accuracy: 0.9733\n",
            "Epoch 28/40\n",
            "315/315 [==============================] - 1s 4ms/step - loss: 1.4825 - accuracy: 0.9850 - val_loss: 1.4912 - val_accuracy: 0.9747\n",
            "Epoch 29/40\n",
            "315/315 [==============================] - 1s 4ms/step - loss: 1.4826 - accuracy: 0.9852 - val_loss: 1.4904 - val_accuracy: 0.9753\n",
            "Epoch 30/40\n",
            "315/315 [==============================] - 1s 4ms/step - loss: 1.4826 - accuracy: 0.9846 - val_loss: 1.4902 - val_accuracy: 0.9757\n",
            "Epoch 31/40\n",
            "315/315 [==============================] - 1s 4ms/step - loss: 1.4829 - accuracy: 0.9835 - val_loss: 1.4911 - val_accuracy: 0.9730\n",
            "Epoch 32/40\n",
            "315/315 [==============================] - 1s 4ms/step - loss: 1.4821 - accuracy: 0.9857 - val_loss: 1.4899 - val_accuracy: 0.9753\n",
            "Epoch 33/40\n",
            "315/315 [==============================] - 1s 4ms/step - loss: 1.4819 - accuracy: 0.9853 - val_loss: 1.4903 - val_accuracy: 0.9759\n",
            "Epoch 34/40\n",
            "315/315 [==============================] - 1s 4ms/step - loss: 1.4813 - accuracy: 0.9860 - val_loss: 1.4920 - val_accuracy: 0.9742\n",
            "Epoch 35/40\n",
            "315/315 [==============================] - 1s 4ms/step - loss: 1.4816 - accuracy: 0.9861 - val_loss: 1.4903 - val_accuracy: 0.9744\n",
            "Epoch 36/40\n",
            "315/315 [==============================] - 1s 4ms/step - loss: 1.4820 - accuracy: 0.9853 - val_loss: 1.4902 - val_accuracy: 0.9755\n",
            "Epoch 37/40\n",
            "315/315 [==============================] - 1s 4ms/step - loss: 1.4808 - accuracy: 0.9868 - val_loss: 1.4901 - val_accuracy: 0.9756\n",
            "Epoch 38/40\n",
            "315/315 [==============================] - 1s 4ms/step - loss: 1.4814 - accuracy: 0.9856 - val_loss: 1.4905 - val_accuracy: 0.9738\n",
            "Epoch 39/40\n",
            "315/315 [==============================] - 1s 4ms/step - loss: 1.4811 - accuracy: 0.9863 - val_loss: 1.4913 - val_accuracy: 0.9740\n",
            "Epoch 40/40\n",
            "315/315 [==============================] - 1s 4ms/step - loss: 1.4816 - accuracy: 0.9860 - val_loss: 1.4905 - val_accuracy: 0.9752\n"
          ],
          "name": "stdout"
        },
        {
          "output_type": "execute_result",
          "data": {
            "text/plain": [
              "<tensorflow.python.keras.callbacks.History at 0x7f2cfad8c208>"
            ]
          },
          "metadata": {
            "tags": []
          },
          "execution_count": 46
        }
      ]
    },
    {
      "cell_type": "markdown",
      "metadata": {
        "id": "XTB-wPE7KBtS"
      },
      "source": [
        "So this is our best model, with $97.5\\%$ of estimated accuracy.\n",
        "Let's do a brief error analysis."
      ]
    },
    {
      "cell_type": "code",
      "metadata": {
        "id": "p82dBW7PJq7A",
        "outputId": "164badb0-4326-40c0-dd10-aed7ffb99795",
        "colab": {
          "base_uri": "https://localhost:8080/",
          "height": 281
        }
      },
      "source": [
        "y_pred_train = myFinalModel.predict(x_train)\n",
        "y_pred = np.argmax(y_pred_train, axis = 1 )\n",
        "sns.heatmap(confusion_matrix(y_train, y_pred), \n",
        "                    annot=True, cbar=False, fmt='d')"
      ],
      "execution_count": null,
      "outputs": [
        {
          "output_type": "execute_result",
          "data": {
            "text/plain": [
              "<matplotlib.axes._subplots.AxesSubplot at 0x7f2cfacb8a90>"
            ]
          },
          "metadata": {
            "tags": []
          },
          "execution_count": 47
        },
        {
          "output_type": "display_data",
          "data": {
            "image/png": "[encoded data removed]",
            "text/plain": [
              "<Figure size 432x288 with 1 Axes>"
            ]
          },
          "metadata": {
            "tags": [],
            "needs_background": "light"
          }
        }
      ]
    },
    {
      "cell_type": "code",
      "metadata": {
        "id": "RRqzLDgpKA22",
        "outputId": "522161de-1d70-494c-8e30-58a289183b6e",
        "colab": {
          "base_uri": "https://localhost:8080/",
          "height": 588
        }
      },
      "source": [
        "incorrects = np.nonzero(y_pred != y_train)\n",
        "x_incorrect = x_train[incorrects]\n",
        "y_incorrect = y_pred[incorrects]\n",
        "plt.figure(figsize=(10,10))\n",
        "np.random.seed(1)\n",
        "for i in range(25):\n",
        "    rn = np.random.randint(x_incorrect.shape[0])\n",
        "    plt.subplot(5,5,i +1 )\n",
        "    plt.xticks([])\n",
        "    plt.yticks([])\n",
        "    plt.grid(True)\n",
        "    plt.imshow(x_incorrect[rn], cmap=plt.cm.binary)\n",
        "    plt.xlabel(y_incorrect[rn])\n",
        "plt.show()"
      ],
      "execution_count": null,
      "outputs": [
        {
          "output_type": "display_data",
          "data": {
            "image/png": "[encoded data removed]",
            "text/plain": [
              "<Figure size 720x720 with 25 Axes>"
            ]
          },
          "metadata": {
            "tags": []
          }
        }
      ]
    },
    {
      "cell_type": "markdown",
      "metadata": {
        "id": "djawTbpNKUB0"
      },
      "source": [
        "We can see three type of errors:\n",
        "\n",
        "\n",
        "1.   An error due to incomprehensible characters for a human too. It's impossible to remove it.\n",
        "2.   An error due to ambiguous characters. We can try to solve it with another algorithm.\n",
        "3. An error related to the algorithm. In this case the problem is not in the dataset but with the classification itself. \n",
        "\n"
      ]
    },
    {
      "cell_type": "markdown",
      "metadata": {
        "id": "FqikABG-FCLx"
      },
      "source": [
        "# 4. **A Data Augmentation trial**"
      ]
    },
    {
      "cell_type": "markdown",
      "metadata": {
        "id": "85bkiHKxFJu0"
      },
      "source": [
        "We will try now to do some data augmentation. This process consists in creating manually some other images hoping to help the algorithm to better forecast. \n",
        "\n",
        "The technique we can use are a lot but due to the fact that usually a problem of Fully connected neural network is to rely too much on the pixel position, we will try to move them. Therefor for each image in the training set we will create four shifted copies of the image, shifting of one pixel to the right, to the left, up or down."
      ]
    },
    {
      "cell_type": "markdown",
      "metadata": {
        "id": "p8MqHEfbIdUf"
      },
      "source": [
        "Let's see the effect."
      ]
    },
    {
      "cell_type": "code",
      "metadata": {
        "id": "18lMKYkDGMJ1"
      },
      "source": [
        "from scipy.ndimage.interpolation import shift "
      ],
      "execution_count": null,
      "outputs": []
    },
    {
      "cell_type": "markdown",
      "metadata": {
        "id": "ZWx53RwwIchG"
      },
      "source": [
        "We first show the original image."
      ]
    },
    {
      "cell_type": "code",
      "metadata": {
        "id": "Wuac91HgGWq_",
        "outputId": "36aae307-caa8-41ab-fce2-b191b0f75be4",
        "colab": {
          "base_uri": "https://localhost:8080/",
          "height": 281
        }
      },
      "source": [
        "plt.imshow((x_train[0]))"
      ],
      "execution_count": null,
      "outputs": [
        {
          "output_type": "execute_result",
          "data": {
            "text/plain": [
              "<matplotlib.image.AxesImage at 0x7f249cea9ac8>"
            ]
          },
          "metadata": {
            "tags": []
          },
          "execution_count": 12
        },
        {
          "output_type": "display_data",
          "data": {
            "image/png": "[encoded data removed]",
            "text/plain": [
              "<Figure size 432x288 with 1 Axes>"
            ]
          },
          "metadata": {
            "tags": [],
            "needs_background": "light"
          }
        }
      ]
    },
    {
      "cell_type": "markdown",
      "metadata": {
        "id": "-8MHk_yZIkAU"
      },
      "source": [
        "We then move by 4 pixels to the right."
      ]
    },
    {
      "cell_type": "code",
      "metadata": {
        "id": "6nC-5Y53ICa9",
        "outputId": "e5daeb46-d76b-4083-c75d-f511c5b031aa",
        "colab": {
          "base_uri": "https://localhost:8080/",
          "height": 281
        }
      },
      "source": [
        "plt.imshow(shift(x_train[0], [0,4], cval = 0))"
      ],
      "execution_count": null,
      "outputs": [
        {
          "output_type": "execute_result",
          "data": {
            "text/plain": [
              "<matplotlib.image.AxesImage at 0x7f249ce125f8>"
            ]
          },
          "metadata": {
            "tags": []
          },
          "execution_count": 13
        },
        {
          "output_type": "display_data",
          "data": {
            "image/png": "[encoded data removed]",
            "text/plain": [
              "<Figure size 432x288 with 1 Axes>"
            ]
          },
          "metadata": {
            "tags": [],
            "needs_background": "light"
          }
        }
      ]
    },
    {
      "cell_type": "code",
      "metadata": {
        "id": "DlMRSQuBIuHl"
      },
      "source": [
        "We then move down by 4 pixels."
      ],
      "execution_count": null,
      "outputs": []
    },
    {
      "cell_type": "code",
      "metadata": {
        "id": "IXyWRjKwIT7c",
        "outputId": "86dcd378-5298-4ac8-949c-71a2c96429cf",
        "colab": {
          "base_uri": "https://localhost:8080/",
          "height": 281
        }
      },
      "source": [
        "plt.imshow(shift(x_train[0], [4,0], cval = 0))"
      ],
      "execution_count": null,
      "outputs": [
        {
          "output_type": "execute_result",
          "data": {
            "text/plain": [
              "<matplotlib.image.AxesImage at 0x7f2cf2110198>"
            ]
          },
          "metadata": {
            "tags": []
          },
          "execution_count": 63
        },
        {
          "output_type": "display_data",
          "data": {
            "image/png": "[encoded data removed]",
            "text/plain": [
              "<Figure size 432x288 with 1 Axes>"
            ]
          },
          "metadata": {
            "tags": [],
            "needs_background": "light"
          }
        }
      ]
    },
    {
      "cell_type": "markdown",
      "metadata": {
        "id": "CavJx_MyIwW3"
      },
      "source": [
        "We now create the 4 new training set, we bind them together and shuffle them."
      ]
    },
    {
      "cell_type": "code",
      "metadata": {
        "id": "VGMccE-RFDPv"
      },
      "source": [
        "def shift_image(image, dx, dy):\n",
        "  shift(image, [0,1], cval = 0, mode = \"constant\")\n",
        "  return image"
      ],
      "execution_count": null,
      "outputs": []
    },
    {
      "cell_type": "code",
      "metadata": {
        "id": "jLpP9athFRoK"
      },
      "source": [
        "x_train_augmented = [image for image in x_train]\n",
        "y_train_augmented = [label for label in y_train]"
      ],
      "execution_count": null,
      "outputs": []
    },
    {
      "cell_type": "code",
      "metadata": {
        "id": "Vynt-rynDFnN"
      },
      "source": [
        "for dx, dy in ((1, 0), (-1, 0), (0, 1), (0, -1)):\n",
        "  for image, label in zip(x_train, y_train):\n",
        "    x_train_augmented.append(shift_image(image, dx, dy))\n",
        "    y_train_augmented.append(label)\n",
        "     "
      ],
      "execution_count": null,
      "outputs": []
    },
    {
      "cell_type": "code",
      "metadata": {
        "id": "sUlv0GIjG82Z"
      },
      "source": [
        "x_train_augmented = np.array(x_train_augmented)\n",
        "y_train_augmented = np.array(y_train_augmented)"
      ],
      "execution_count": null,
      "outputs": []
    },
    {
      "cell_type": "code",
      "metadata": {
        "id": "D7bj1FJNzPev"
      },
      "source": [
        "shuffle_idx = np.random.permutation(len(x_train_augmented))\n",
        "x_train_augmented = x_train_augmented[shuffle_idx]\n",
        "y_train_augmented = y_train_augmented[shuffle_idx]"
      ],
      "execution_count": null,
      "outputs": []
    },
    {
      "cell_type": "markdown",
      "metadata": {
        "id": "xwUtSc9iGVrk"
      },
      "source": [
        "Let's train now both the model with augmented and not augmented dataset and see the results."
      ]
    },
    {
      "cell_type": "code",
      "metadata": {
        "id": "KwC7hvvrGOJt",
        "outputId": "a28d322a-cfd0-4253-b1d7-d9799a8a0895",
        "colab": {
          "base_uri": "https://localhost:8080/"
        }
      },
      "source": [
        "myFinalModelNoAug = myModel4LBatFinal()\n",
        "myFinalModelNoAug.fit(x_train, y_train, validation_split = 0.33, epochs = 20, batch_size = 128)"
      ],
      "execution_count": null,
      "outputs": [
        {
          "output_type": "stream",
          "text": [
            "Epoch 1/20\n",
            "315/315 [==============================] - 1s 4ms/step - loss: 1.6647 - accuracy: 0.7960 - val_loss: 1.5313 - val_accuracy: 0.9234\n",
            "Epoch 2/20\n",
            "315/315 [==============================] - 1s 3ms/step - loss: 1.5354 - accuracy: 0.9244 - val_loss: 1.5140 - val_accuracy: 0.9423\n",
            "Epoch 3/20\n",
            "315/315 [==============================] - 1s 4ms/step - loss: 1.5181 - accuracy: 0.9410 - val_loss: 1.5071 - val_accuracy: 0.9516\n",
            "Epoch 4/20\n",
            "315/315 [==============================] - 1s 3ms/step - loss: 1.5096 - accuracy: 0.9513 - val_loss: 1.5037 - val_accuracy: 0.9546\n",
            "Epoch 5/20\n",
            "315/315 [==============================] - 1s 3ms/step - loss: 1.5065 - accuracy: 0.9542 - val_loss: 1.4997 - val_accuracy: 0.9605\n",
            "Epoch 6/20\n",
            "315/315 [==============================] - 1s 3ms/step - loss: 1.5000 - accuracy: 0.9627 - val_loss: 1.4986 - val_accuracy: 0.9628\n",
            "Epoch 7/20\n",
            "315/315 [==============================] - 1s 3ms/step - loss: 1.4979 - accuracy: 0.9652 - val_loss: 1.4964 - val_accuracy: 0.9660\n",
            "Epoch 8/20\n",
            "315/315 [==============================] - 1s 3ms/step - loss: 1.4951 - accuracy: 0.9689 - val_loss: 1.4950 - val_accuracy: 0.9678\n",
            "Epoch 9/20\n",
            "315/315 [==============================] - 1s 4ms/step - loss: 1.4925 - accuracy: 0.9717 - val_loss: 1.4947 - val_accuracy: 0.9682\n",
            "Epoch 10/20\n",
            "315/315 [==============================] - 1s 3ms/step - loss: 1.4918 - accuracy: 0.9729 - val_loss: 1.4937 - val_accuracy: 0.9688\n",
            "Epoch 11/20\n",
            "315/315 [==============================] - 1s 3ms/step - loss: 1.4897 - accuracy: 0.9754 - val_loss: 1.4945 - val_accuracy: 0.9682\n",
            "Epoch 12/20\n",
            "315/315 [==============================] - 1s 3ms/step - loss: 1.4896 - accuracy: 0.9754 - val_loss: 1.4938 - val_accuracy: 0.9704\n",
            "Epoch 13/20\n",
            "315/315 [==============================] - 1s 4ms/step - loss: 1.4893 - accuracy: 0.9754 - val_loss: 1.4918 - val_accuracy: 0.9714\n",
            "Epoch 14/20\n",
            "315/315 [==============================] - 1s 4ms/step - loss: 1.4886 - accuracy: 0.9771 - val_loss: 1.4921 - val_accuracy: 0.9719\n",
            "Epoch 15/20\n",
            "315/315 [==============================] - 1s 4ms/step - loss: 1.4871 - accuracy: 0.9797 - val_loss: 1.4943 - val_accuracy: 0.9686\n",
            "Epoch 16/20\n",
            "315/315 [==============================] - 1s 4ms/step - loss: 1.4870 - accuracy: 0.9789 - val_loss: 1.4918 - val_accuracy: 0.9727\n",
            "Epoch 17/20\n",
            "315/315 [==============================] - 1s 4ms/step - loss: 1.4863 - accuracy: 0.9794 - val_loss: 1.4919 - val_accuracy: 0.9723\n",
            "Epoch 18/20\n",
            "315/315 [==============================] - 1s 4ms/step - loss: 1.4854 - accuracy: 0.9811 - val_loss: 1.4910 - val_accuracy: 0.9734\n",
            "Epoch 19/20\n",
            "315/315 [==============================] - 1s 4ms/step - loss: 1.4852 - accuracy: 0.9817 - val_loss: 1.4923 - val_accuracy: 0.9718\n",
            "Epoch 20/20\n",
            "315/315 [==============================] - 1s 4ms/step - loss: 1.4846 - accuracy: 0.9813 - val_loss: 1.4917 - val_accuracy: 0.9718\n"
          ],
          "name": "stdout"
        },
        {
          "output_type": "execute_result",
          "data": {
            "text/plain": [
              "<tensorflow.python.keras.callbacks.History at 0x7f22aed60780>"
            ]
          },
          "metadata": {
            "tags": []
          },
          "execution_count": 59
        }
      ]
    },
    {
      "cell_type": "code",
      "metadata": {
        "id": "_sHUW-Iqab7D",
        "outputId": "7ac22cfe-6ba1-461e-8d53-6a751b2abace",
        "colab": {
          "base_uri": "https://localhost:8080/"
        }
      },
      "source": [
        "myFinalModelAug = myModel4LBatFinal()\n",
        "historyAug =  myFinalModelAug.fit(x_train_augmented, y_train_augmented, validation_split = 0.33, epochs = 20, batch_size = 128)"
      ],
      "execution_count": null,
      "outputs": [
        {
          "output_type": "stream",
          "text": [
            "Epoch 1/20\n",
            "1571/1571 [==============================] - 6s 4ms/step - loss: 1.5465 - accuracy: 0.9140 - val_loss: 1.4958 - val_accuracy: 0.9664\n",
            "Epoch 2/20\n",
            "1571/1571 [==============================] - 5s 3ms/step - loss: 1.4976 - accuracy: 0.9653 - val_loss: 1.4880 - val_accuracy: 0.9756\n",
            "Epoch 3/20\n",
            "1571/1571 [==============================] - 5s 3ms/step - loss: 1.4909 - accuracy: 0.9743 - val_loss: 1.4827 - val_accuracy: 0.9836\n",
            "Epoch 4/20\n",
            "1571/1571 [==============================] - 5s 3ms/step - loss: 1.4883 - accuracy: 0.9771 - val_loss: 1.4820 - val_accuracy: 0.9852\n",
            "Epoch 5/20\n",
            "1571/1571 [==============================] - 5s 3ms/step - loss: 1.4865 - accuracy: 0.9796 - val_loss: 1.4806 - val_accuracy: 0.9866\n",
            "Epoch 6/20\n",
            "1571/1571 [==============================] - 5s 3ms/step - loss: 1.4853 - accuracy: 0.9811 - val_loss: 1.4795 - val_accuracy: 0.9891\n",
            "Epoch 7/20\n",
            "1571/1571 [==============================] - 5s 3ms/step - loss: 1.4844 - accuracy: 0.9826 - val_loss: 1.4792 - val_accuracy: 0.9893\n",
            "Epoch 8/20\n",
            "1571/1571 [==============================] - 5s 3ms/step - loss: 1.4841 - accuracy: 0.9826 - val_loss: 1.4788 - val_accuracy: 0.9899\n",
            "Epoch 9/20\n",
            "1571/1571 [==============================] - 5s 3ms/step - loss: 1.4833 - accuracy: 0.9837 - val_loss: 1.4779 - val_accuracy: 0.9911\n",
            "Epoch 10/20\n",
            "1571/1571 [==============================] - 5s 3ms/step - loss: 1.4831 - accuracy: 0.9840 - val_loss: 1.4779 - val_accuracy: 0.9906\n",
            "Epoch 11/20\n",
            "1571/1571 [==============================] - 5s 3ms/step - loss: 1.4825 - accuracy: 0.9847 - val_loss: 1.4780 - val_accuracy: 0.9904\n",
            "Epoch 12/20\n",
            "1571/1571 [==============================] - 5s 3ms/step - loss: 1.4824 - accuracy: 0.9849 - val_loss: 1.4779 - val_accuracy: 0.9912\n",
            "Epoch 13/20\n",
            "1571/1571 [==============================] - 5s 3ms/step - loss: 1.4819 - accuracy: 0.9855 - val_loss: 1.4773 - val_accuracy: 0.9915\n",
            "Epoch 14/20\n",
            "1571/1571 [==============================] - 5s 3ms/step - loss: 1.4818 - accuracy: 0.9856 - val_loss: 1.4769 - val_accuracy: 0.9919\n",
            "Epoch 15/20\n",
            "1571/1571 [==============================] - 5s 3ms/step - loss: 1.4820 - accuracy: 0.9855 - val_loss: 1.4774 - val_accuracy: 0.9915\n",
            "Epoch 16/20\n",
            "1571/1571 [==============================] - 5s 3ms/step - loss: 1.4816 - accuracy: 0.9860 - val_loss: 1.4772 - val_accuracy: 0.9917\n",
            "Epoch 17/20\n",
            "1571/1571 [==============================] - 5s 3ms/step - loss: 1.4816 - accuracy: 0.9859 - val_loss: 1.4770 - val_accuracy: 0.9920\n",
            "Epoch 18/20\n",
            "1571/1571 [==============================] - 5s 3ms/step - loss: 1.4814 - accuracy: 0.9861 - val_loss: 1.4772 - val_accuracy: 0.9922\n",
            "Epoch 19/20\n",
            "1571/1571 [==============================] - 5s 3ms/step - loss: 1.4815 - accuracy: 0.9864 - val_loss: 1.4766 - val_accuracy: 0.9927\n",
            "Epoch 20/20\n",
            "1571/1571 [==============================] - 5s 3ms/step - loss: 1.4811 - accuracy: 0.9867 - val_loss: 1.4768 - val_accuracy: 0.9923\n"
          ],
          "name": "stdout"
        }
      ]
    },
    {
      "cell_type": "code",
      "metadata": {
        "id": "FdnOez6LFWLv",
        "outputId": "a9e3e8a3-023f-4648-a7ef-1264b51af7cd",
        "colab": {
          "base_uri": "https://localhost:8080/",
          "height": 294
        }
      },
      "source": [
        "plt.plot(historyAug.history['loss'])\n",
        "plt.plot(historyAug.history['val_loss'])\n",
        "plt.title('model loss')\n",
        "plt.ylabel('loss')\n",
        "plt.xlabel('epoch')\n",
        "plt.legend(['train', 'validation'], loc='upper left')\n",
        "plt.show()"
      ],
      "execution_count": null,
      "outputs": [
        {
          "output_type": "display_data",
          "data": {
            "image/png": "[encoded data removed]",
            "text/plain": [
              "<Figure size 432x288 with 1 Axes>"
            ]
          },
          "metadata": {
            "tags": [],
            "needs_background": "light"
          }
        }
      ]
    },
    {
      "cell_type": "code",
      "metadata": {
        "id": "NnGd_lKkFsJ2",
        "outputId": "38a4926e-6471-4e0b-f7ac-0a9da7aec372",
        "colab": {
          "base_uri": "https://localhost:8080/",
          "height": 294
        }
      },
      "source": [
        "plt.plot(historyAug.history['accuracy'])\n",
        "plt.plot(historyAug.history['val_accuracy'])\n",
        "plt.title('model accuracy')\n",
        "plt.ylabel('accuracy')\n",
        "plt.xlabel('epoch')\n",
        "plt.legend(['train', 'validation'], loc='upper left')\n",
        "plt.show()"
      ],
      "execution_count": null,
      "outputs": [
        {
          "output_type": "display_data",
          "data": {
            "image/png": "[encoded data removed]",
            "text/plain": [
              "<Figure size 432x288 with 1 Axes>"
            ]
          },
          "metadata": {
            "tags": [],
            "needs_background": "light"
          }
        }
      ]
    },
    {
      "cell_type": "markdown",
      "metadata": {
        "id": "5OM7-5opFvK9"
      },
      "source": [
        "We see that we don't need more epochs to train our model.\n",
        "\n",
        "We also see that we have improved a lot the accuracy of our model. "
      ]
    },
    {
      "cell_type": "code",
      "metadata": {
        "id": "Ur0CjBlcGfn9",
        "outputId": "64afa0e7-cbe1-45c1-b167-f1d0eda6b2a5",
        "colab": {
          "base_uri": "https://localhost:8080/"
        }
      },
      "source": [
        "myFinalModelNoAug.evaluate(x_test, y_test)"
      ],
      "execution_count": null,
      "outputs": [
        {
          "output_type": "stream",
          "text": [
            "313/313 [==============================] - 1s 2ms/step - loss: 1.4887 - accuracy: 0.9758\n"
          ],
          "name": "stdout"
        },
        {
          "output_type": "execute_result",
          "data": {
            "text/plain": [
              "[1.488709807395935, 0.9757999777793884]"
            ]
          },
          "metadata": {
            "tags": []
          },
          "execution_count": 60
        }
      ]
    },
    {
      "cell_type": "code",
      "metadata": {
        "id": "yGDyxxR8ake8",
        "outputId": "e2f996ae-1387-47fa-a172-d7fc97aefaf5",
        "colab": {
          "base_uri": "https://localhost:8080/"
        }
      },
      "source": [
        "myFinalModelAug.evaluate(x_test, y_test)"
      ],
      "execution_count": null,
      "outputs": [
        {
          "output_type": "stream",
          "text": [
            "313/313 [==============================] - 1s 2ms/step - loss: 1.4859 - accuracy: 0.9802\n"
          ],
          "name": "stdout"
        },
        {
          "output_type": "execute_result",
          "data": {
            "text/plain": [
              "[1.4859118461608887, 0.9801999926567078]"
            ]
          },
          "metadata": {
            "tags": []
          },
          "execution_count": 58
        }
      ]
    },
    {
      "cell_type": "markdown",
      "metadata": {
        "id": "AOhRHP3SGk9V"
      },
      "source": [
        "So we have gained a $0.5%$ of accuracy with the data augmentation technique."
      ]
    },
    {
      "cell_type": "markdown",
      "metadata": {
        "id": "gSpwEs0W5VUj"
      },
      "source": [
        "# 5. **What to do next?**"
      ]
    },
    {
      "cell_type": "markdown",
      "metadata": {
        "id": "JIpI6CoW5cIR"
      },
      "source": [
        "In this guide we have seen a lot of models, we have tried different techniques to improve our algorithms and seen the results. \n",
        "\n",
        "The scope wasn't to find the best model over all the models present in the literature but over a restricted range of possibilities. The main choice was to study some classical methods like logistic classifier, random forest and fully connected neural network and tune them. \n",
        "\n",
        "We have seen that the random forest has very good results w.r.t. the neural network and it's simpler, so this can be a factor to consider for a general deployment. \n",
        "\n",
        "But in general we would also see the type of errors committed by the algorithms: maybe the misclassification of some characters is worst than another. This part is totally left to the modeller. \n",
        "\n",
        "In this case we can see from the confusion matrices that the random forest classify worst some characters than the neural network. We can see a bias in this case. So in this case we can prefer the neural network.\n",
        "\n",
        "We have also seen that some character are very easy to confuse and so we can try something else to better recognize these characters.\n",
        "\n",
        "Finally we know that the best answer to the image classification problem is in general a CNN architecture. We don't have studied this architecture here because it would have required a lot of explainations and we already have done a lot with these models.\n",
        "\n",
        "This archicture is very interesting because w.r.t. the classical methods it adds some feature engineering integrated in the architecture itself and this can be very useful to better detect the different numbers. \n",
        "\n",
        "So it could be very interesting to study this architecture as well as trying all the techniques we have seen here and other one like batch normalization, early stopping and other data augmentation techniques.\n"
      ]
    }
  ]
}