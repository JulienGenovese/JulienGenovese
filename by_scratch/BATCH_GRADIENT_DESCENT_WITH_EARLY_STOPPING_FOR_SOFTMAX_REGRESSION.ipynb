{
 "cells": [
  {
   "cell_type": "markdown",
   "id": "cecaff5c",
   "metadata": {},
   "source": [
    "# BATCH GRADIENT DESCENT WITH EARLY STOPPING FOR SOFTMAX REGRESSION"
   ]
  },
  {
   "cell_type": "markdown",
   "id": "7043095a",
   "metadata": {},
   "source": [
    "In this notebook we will implement a batch gradient descent with early stopping for softmax regression (ex 12 ch. 4 of \"**Hands-On Machine Learning with Scikit-Learn, Keras & Tensorflow**\" by Aurélien Géron3. \n",
    "\n",
    "We have to implement it by scratch without using scikit-learn. \n",
    "\n",
    "We will try to formulate the problem in the more optimized way to obtain speed results and beatiful formulation."
   ]
  },
  {
   "cell_type": "markdown",
   "id": "eff6ba21",
   "metadata": {},
   "source": [
    "## Settings"
   ]
  },
  {
   "cell_type": "markdown",
   "id": "5f46c365",
   "metadata": {},
   "source": [
    "We start import all we need."
   ]
  },
  {
   "cell_type": "code",
   "execution_count": 1,
   "id": "b1e1a606",
   "metadata": {},
   "outputs": [],
   "source": [
    "import numpy as np \n",
    "from sklearn import datasets\n",
    "import matplotlib.pyplot as plt"
   ]
  },
  {
   "cell_type": "markdown",
   "id": "df5eaf67",
   "metadata": {},
   "source": [
    "In this part we introduce the **softmax_score** for an instance $\\textbf{x}$ for class $k$ defined as:\n",
    "$$\n",
    "s_k(\\textbf{x}) = \\textbf{x}^T \\theta^{(k)}\n",
    "$$\n",
    "of dimension $(1,)$\n",
    "so, for a dataframe we obtain:\n",
    "\n",
    "$$\n",
    "s_k(\\textbf{X}) = \\textbf{X} \\theta^{(k)}\n",
    "$$\n",
    "of dimensions $(\\mbox{number of row of X}, )$.\n",
    "\n",
    "Finally for all classes: \n",
    "\n",
    "$$\n",
    "\\textbf{s}(\\textbf{X}) = (s_1(\\textbf{X}), s_2(\\textbf{X}), ..., s_k(\\textbf{X})) =  \\textbf{X} \\Theta = \\textbf{X} \\big[\\theta^1, \\theta^2, ... , \\theta^k\\big]\n",
    "$$\n",
    "of  $dim\\big(\\textbf{s}(\\textbf{X})\\big) = (\\mbox{number of row of X}, \\mbox{numer of classes K})$\n",
    "\n",
    "and $\\textit{dim}(\\Theta)= ({\\mbox{number of columns}, \\mbox{number of classes K}})$."
   ]
  },
  {
   "cell_type": "code",
   "execution_count": null,
   "id": "21e19963",
   "metadata": {},
   "outputs": [],
   "source": [
    "def softmax_score(X, Theta):\n",
    "    score = np.matmul(X, Theta)\n",
    "    return score"
   ]
  },
  {
   "cell_type": "markdown",
   "id": "5bb74c94",
   "metadata": {},
   "source": [
    "The softmax function for the instance $\\textbf{x}$ is:\n",
    "\n",
    "$$\n",
    "\\hat{p}_k(\\textbf{x}) = \\sigma(\\textbf{s}(\\textbf{x}))_k = \\dfrac{exp(s_k(\\textbf{x}))}{\\sum_{j = 1}^K exp(s_j(\\textbf{x}))}\n",
    "$$\n",
    "of dimension $(1,)$.\n",
    "\n",
    "So, for a dataframe we obtain:\n",
    "\\begin{align} \n",
    "\\hat{P}(\\textbf{X}) = \\begin{bmatrix}\n",
    "     \\dfrac{exp(s_1(\\textbf{x}_1))}{\\sum_{j = 1}^K exp(s_j(\\textbf{x}_1))}, ..., \\dfrac{exp(s_k(\\textbf{x}_1))}{\\sum_{j = 1}^K exp(s_j(\\textbf{x}_1))} \\\\\n",
    "    \\vdots \\\\\n",
    "     \\dfrac{exp(s_1(\\textbf{x}_n))}{\\sum_{j = 1}^K exp(s_j(\\textbf{x}_n))}, ..., \\dfrac{exp(s_k(\\textbf{x}_n))}{\\sum_{j = 1}^K exp(s_j(\\textbf{x}_n))} \\\\\n",
    "     \\end{bmatrix}\n",
    "\\end{align}\n",
    "\n",
    "of dimensions $(\\mbox{number of row of X},  \\mbox{numer of classes K})$.\n",
    "\n"
   ]
  },
  {
   "cell_type": "code",
   "execution_count": null,
   "id": "751aa3cb",
   "metadata": {},
   "outputs": [],
   "source": [
    "def softmax_function(X, Theta, k=None):\n",
    "    P_not_normalized = np.exp(softmax_score(X, Theta)) \n",
    "    P = P_not_normalized / np.sum(P_not_normalized, axis=1, keepdims=True)\n",
    "    if k is None:\n",
    "        return P\n",
    "    else:\n",
    "        return P[:, k]"
   ]
  },
  {
   "cell_type": "markdown",
   "id": "bae5637d",
   "metadata": {},
   "source": [
    "We define a learning schedule to reduce the learning rate parameter"
   ]
  },
  {
   "cell_type": "code",
   "execution_count": null,
   "id": "46aa4563",
   "metadata": {},
   "outputs": [],
   "source": [
    "def learning_schedule(t):\n",
    "    t_0, t_1 = 5, 50 \n",
    "    return t_0 / (t + t_1)"
   ]
  },
  {
   "cell_type": "markdown",
   "id": "c881b644",
   "metadata": {},
   "source": [
    "And finally the batch gradient descent.\n",
    "\n",
    "If we define the target variables in a one hot encoding way, as in \\begin{align} \n",
    "\\textbf{Y} =  \\begin{bmatrix}\n",
    "    y^{(1)} \\\\\n",
    "    y^{(2)} \\\\\n",
    "    \\vdots \\\\\n",
    "     y^{(\\textit{number of row})}  \\\\\n",
    "     \\end{bmatrix} = \\begin{bmatrix}\n",
    "    1, 0, 0, 0 \\\\\n",
    "    0, 1, 0, 0\\\\\n",
    "    \\vdots \\\\\n",
    "     0,0,0,1 \\\\\n",
    "     \\end{bmatrix}\n",
    "\\end{align}\n",
    "we can define the loss as:\n",
    "$$\n",
    "J(\\Theta) = -\\dfrac{1}{m}\\sum_{i=1}^m\\sum_{k=1}^K  y_k^{(i)}log\\big(\\hat{p}_k^{(i)}\\big) =  -\\dfrac{1}{m} \\mbox{trace}(\\textbf{Y}log(\\hat{P})^T) \n",
    "$$\n",
    "and the gradient of the loss:\n",
    "$$\n",
    "\\nabla_{\\theta^k}J(\\Theta)= \\frac{1}{m}\\sum_{i=1}^m \\big(\\hat{p}_k^{(i)} - y_k^{(i)}\\big)\\textbf{x}^{(i)}\n",
    "$$\n",
    "and defining the matrix:\n",
    "$$\n",
    "\\nabla_{\\Theta}J(\\Theta) = \\dfrac{1}{m}\\textbf{X}^T \\big[\\textbf{P}- \\textbf{Y}\\big]\n",
    "$$"
   ]
  },
  {
   "cell_type": "code",
   "execution_count": null,
   "id": "ed6ad5e9",
   "metadata": {},
   "outputs": [],
   "source": [
    "def loss_function(Y, P):\n",
    "    return -1/m * np.trace(np.matmul(Y, np.log(P).transpose()))\n"
   ]
  },
  {
   "cell_type": "code",
   "execution_count": null,
   "id": "4231f396",
   "metadata": {},
   "outputs": [],
   "source": [
    " def batch_gradient_descent(X, y, learning_rate, n_epochs):\n",
    "    \n",
    "    Theta = np.random.randn(X.shape[1], len(np.unique(y)))\n",
    "    m = y.shape[0]\n",
    "    Y = np.zeros((y.size, y.max()+1))\n",
    "    Y[np.arange(y.size),y] = 1\n",
    "    loss = []\n",
    "    eta = 1e-7\n",
    "    for epoch in range(n_epochs):\n",
    "        P =  softmax_function(X, Theta)\n",
    "        loss.append(loss_function(Y,P))\n",
    "        gradient = 1/m * np.dot(X.transpose(), P - Y)\n",
    "        Theta = Theta - learning_rate * gradient\n",
    "        learning_rate = learning_schedule(learning_rate)\n",
    "    return theta, loss"
   ]
  },
  {
   "cell_type": "markdown",
   "id": "6fefefc1",
   "metadata": {},
   "source": [
    "## CREATION OF THE MODEL"
   ]
  },
  {
   "cell_type": "code",
   "execution_count": 191,
   "id": "f8db5c8d",
   "metadata": {},
   "outputs": [],
   "source": [
    "class model_log_reg():\n",
    "    def __init__(self, X, y, learning_rate=None, n_epochs=None):\n",
    "        self.X = X\n",
    "        self.y = y\n",
    "        \n",
    "    def scale(self, X):\n",
    "        mean_X = np.mean(X, axis = 0)\n",
    "        std_X = np.std(X, axis = 0)\n",
    "        X_meanZero = X - mean_X\n",
    "        X_normalized = X_meanZero / std_X\n",
    "        return X_normalized\n",
    "\n",
    "    def softmax_function(self, X, Theta):\n",
    "        def softmax_score(X, Theta):\n",
    "            score = np.matmul(X, Theta)\n",
    "            return score\n",
    "        P_not_normalized = np.exp(softmax_score(X, Theta)) \n",
    "        P = P_not_normalized / np.sum(P_not_normalized, axis=1, keepdims=True)\n",
    "        return P\n",
    "    \n",
    "    def loss_function(self, Y, P):\n",
    "        m = Y.shape[0]\n",
    "        return -1/m * np.trace(np.matmul(Y, np.log(P).transpose()))\n",
    "    \n",
    "    def batch_gradient_descent(self, X, y, learning_rate, n_epochs):\n",
    "            X_scaled = self.scale(X)\n",
    "            X_scaled = np.c_[np.ones([len(X_scaled), 1]), X_scaled]\n",
    "            \n",
    "            Theta = np.random.randn(X_scaled.shape[1], len(np.unique(y)))\n",
    "            m = y.shape[0]\n",
    "            # one-hot-encoding\n",
    "            Y = np.zeros((y.size, y.max()+1))\n",
    "            Y[np.arange(y.size),y] = 1\n",
    "            loss = []\n",
    "            \n",
    "            def learning_schedule(t):\n",
    "                t_0, t_1 = 5, 50 \n",
    "                return t_0 / (t + t_1)\n",
    "            \n",
    "            for iteration in range(n_epochs):\n",
    "                P =  self.softmax_function(X_scaled, Theta)\n",
    "                loss_value = self.loss_function(Y,P)\n",
    "                loss.append(loss_value)\n",
    "                if iteration % 500 == 0:\n",
    "                    print(iteration, loss_value)\n",
    "                gradient = 1/m * np.matmul(X_scaled.transpose(), P - Y)\n",
    "                Theta = Theta - learning_rate * gradient\n",
    "                learning_rate = learning_schedule(learning_rate)\n",
    "            return Theta, loss\n",
    "        \n",
    "    def fit(self, learning_rate=None, n_epochs=None):\n",
    "        if learning_rate is None:\n",
    "            self.learning_rate = 0.1\n",
    "        else:\n",
    "            self.learning_rate = learning_rate\n",
    "        if n_epochs is None:\n",
    "            self.n_epochs = 100\n",
    "        else:\n",
    "            self.n_epochs = n_epochs\n",
    "            \n",
    "        self.Theta, self.loss = self.batch_gradient_descent(self.X, self.y, self.learning_rate, self.n_epochs)   \n",
    "    \n",
    "    def predict(self, X):\n",
    "        X_scaled = self.scale(X)\n",
    "        X_scaled = np.c_[np.ones([len(X_scaled), 1]), X_scaled]\n",
    "        P = self.softmax_function(X_scaled, self.Theta)\n",
    "        return np.amax(P, axis=1)\n",
    "    \n",
    "    def plot_loss(self):\n",
    "        n_epocs_vector = np.arange(self.n_epochs)\n",
    "        loss_vector = self.loss\n",
    "        plt.plot(n_epocs_vector, loss_vector)\n",
    "        \n",
    "    def return_Theta(self):\n",
    "        return self.Theta"
   ]
  },
  {
   "cell_type": "code",
   "execution_count": 195,
   "id": "df49009a",
   "metadata": {},
   "outputs": [
    {
     "name": "stdout",
     "output_type": "stream",
     "text": [
      "0 1.767900645523398\n",
      "500 0.1809292958702448\n",
      "1000 0.13639240671497782\n",
      "1500 0.11786781596804172\n",
      "2000 0.1074136109096289\n",
      "2500 0.10059310880543518\n",
      "3000 0.09574767038675101\n",
      "3500 0.09210729165544891\n",
      "4000 0.08926222763445296\n",
      "4500 0.08697276587810962\n"
     ]
    },
    {
     "data": {
      "image/png": "[encoded data removed]",
      "text/plain": [
       "<Figure size 432x288 with 1 Axes>"
      ]
     },
     "metadata": {
      "needs_background": "light"
     },
     "output_type": "display_data"
    }
   ],
   "source": [
    "iris = datasets.load_iris()\n",
    "iris_target = iris[\"target\"]\n",
    "iris_data = iris[\"data\"][:, (2, 3)]\n",
    "\n",
    "reg_model = model_log_reg(iris_data, iris_target)\n",
    "reg_model.fit(learning_rate = 0.01, n_epochs=5000)\n",
    "reg_model.plot_loss()"
   ]
  },
  {
   "cell_type": "code",
   "execution_count": 196,
   "id": "44c09258",
   "metadata": {},
   "outputs": [
    {
     "data": {
      "text/plain": [
       "array([[-1.65680815,  3.18260765, -3.24328671],\n",
       "       [-3.597217  ,  0.52862985,  5.17525011],\n",
       "       [-3.80669277,  0.01062575,  5.96500872]])"
      ]
     },
     "execution_count": 196,
     "metadata": {},
     "output_type": "execute_result"
    }
   ],
   "source": [
    "reg_model.return_Theta()"
   ]
  }
 ],
 "metadata": {
  "kernelspec": {
   "display_name": "Python 3 (ipykernel)",
   "language": "python",
   "name": "python3"
  },
  "language_info": {
   "codemirror_mode": {
    "name": "ipython",
    "version": 3
   },
   "file_extension": ".py",
   "mimetype": "text/x-python",
   "name": "python",
   "nbconvert_exporter": "python",
   "pygments_lexer": "ipython3",
   "version": "3.8.10"
  }
 },
 "nbformat": 4,
 "nbformat_minor": 5
}
