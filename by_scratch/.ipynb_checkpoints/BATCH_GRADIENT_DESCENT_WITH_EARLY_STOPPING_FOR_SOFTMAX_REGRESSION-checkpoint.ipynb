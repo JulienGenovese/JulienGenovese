{
 "cells": [
  {
   "cell_type": "markdown",
   "id": "cecaff5c",
   "metadata": {},
   "source": [
    "# BATCH GRADIENT DESCENT WITH EARLY STOPPING FOR SOFTMAX REGRESSION"
   ]
  },
  {
   "cell_type": "markdown",
   "id": "7043095a",
   "metadata": {},
   "source": [
    "In this notebook we will implement a batch gradient descent with early stopping for softmax regression (ex 12 ch. 4 of \"**Hands-On Machine Learning with Scikit-Learn, Keras & Tensorflow**\" by Aurélien Géron3. \n",
    "\n",
    "We have to implement it by scratch without using scikit-learn implementation. \n",
    "\n",
    "We will try to formulate the problem in a more optimized way in order to obtain better speed results and a beatiful formulation."
   ]
  },
  {
   "cell_type": "markdown",
   "id": "eff6ba21",
   "metadata": {},
   "source": [
    "## Settings"
   ]
  },
  {
   "cell_type": "markdown",
   "id": "5f46c365",
   "metadata": {},
   "source": [
    "We start importing what we need."
   ]
  },
  {
   "cell_type": "code",
   "execution_count": 1,
   "id": "b1e1a606",
   "metadata": {},
   "outputs": [],
   "source": [
    "import numpy as np \n",
    "from sklearn import datasets\n",
    "import matplotlib.pyplot as plt\n",
    "from matplotlib.colors import ListedColormap"
   ]
  },
  {
   "cell_type": "markdown",
   "id": "448e187a",
   "metadata": {},
   "source": [
    "# Mathematical formulation of the problem"
   ]
  },
  {
   "cell_type": "markdown",
   "id": "df5eaf67",
   "metadata": {},
   "source": [
    "In this part we introduce the **softmax_score** for an instance $\\textbf{x}$ for class $k$ defined as:\n",
    "$$\n",
    "s_k(\\textbf{x}) = \\textbf{x}^T \\theta^{(k)}\n",
    "$$\n",
    "of dimension $(1,1)$.\n",
    "\n",
    "So, for a dataframe we have:\n",
    "\n",
    "$$\n",
    "s_k(\\textbf{X}) = \\textbf{X} \\theta^{(k)}\n",
    "$$\n",
    "of dimensions $(\\mbox{number of row of X}, 1)$.\n",
    "\n",
    "In general, for all classes: \n",
    "\n",
    "$$\n",
    "\\textbf{s}(\\textbf{X}) = (s_1(\\textbf{X}), s_2(\\textbf{X}), ..., s_k(\\textbf{X})) =  \\textbf{X} \\Theta = \\textbf{X} \\big[\\theta^1, \\theta^2, ... , \\theta^k\\big]\n",
    "$$\n",
    "of  $dim\\big(\\textbf{s}(\\textbf{X})\\big) = (\\mbox{number of row of X}, \\mbox{numer of classes K})$\n",
    "\n",
    "and $\\textit{dim}(\\Theta)= ({\\mbox{number of columns}, \\mbox{number of classes K}})$."
   ]
  },
  {
   "cell_type": "code",
   "execution_count": 2,
   "id": "21e19963",
   "metadata": {},
   "outputs": [],
   "source": [
    "def softmax_score(X, Theta):\n",
    "    score = np.matmul(X, Theta)\n",
    "    return score"
   ]
  },
  {
   "cell_type": "markdown",
   "id": "5bb74c94",
   "metadata": {},
   "source": [
    "The **softmax function** for the instance $\\textbf{x}$ is defined as:\n",
    "\n",
    "$$\n",
    "\\hat{p}_k(\\textbf{x}) = \\sigma(\\textbf{s}(\\textbf{x}))_k = \\dfrac{exp(s_k(\\textbf{x}))}{\\sum_{j = 1}^K exp(s_j(\\textbf{x}))}\n",
    "$$\n",
    "of dimension $(1,1)$.\n",
    "\n",
    "In general, for a dataframe we obtain:\n",
    "\\begin{align} \n",
    "\\hat{P}(\\textbf{X}) = \\begin{bmatrix}\n",
    "     \\dfrac{exp(s_1(\\textbf{x}_1))}{\\sum_{j = 1}^K exp(s_j(\\textbf{x}_1))}, ..., \\dfrac{exp(s_k(\\textbf{x}_1))}{\\sum_{j = 1}^K exp(s_j(\\textbf{x}_1))} \\\\\n",
    "    \\vdots \\\\\n",
    "     \\dfrac{exp(s_1(\\textbf{x}_n))}{\\sum_{j = 1}^K exp(s_j(\\textbf{x}_n))}, ..., \\dfrac{exp(s_k(\\textbf{x}_n))}{\\sum_{j = 1}^K exp(s_j(\\textbf{x}_n))} \\\\\n",
    "     \\end{bmatrix}\n",
    "\\end{align}\n",
    "\n",
    "of dimensions $(\\mbox{number of row of X},  \\mbox{numer of classes K})$.\n",
    "\n"
   ]
  },
  {
   "cell_type": "code",
   "execution_count": 3,
   "id": "751aa3cb",
   "metadata": {},
   "outputs": [],
   "source": [
    "def softmax_function(self, X, Theta):\n",
    "    P_not_normalized = np.exp(softmax_score(X, Theta)) \n",
    "    P = P_not_normalized / np.sum(P_not_normalized, axis=1, keepdims=True)\n",
    "    return P"
   ]
  },
  {
   "cell_type": "markdown",
   "id": "c881b644",
   "metadata": {},
   "source": [
    "Finally we introduce the **batch gradient descent** algorithm to optimize the weights.\n",
    "\n",
    "If we define the target variables in a one hot encoding way, as in \\begin{align} \n",
    "\\textbf{Y} =  \\begin{bmatrix}\n",
    "    y^{(1)} \\\\\n",
    "    y^{(2)} \\\\\n",
    "    \\vdots \\\\\n",
    "     y^{(\\textit{number of row})}  \\\\\n",
    "     \\end{bmatrix} = \\begin{bmatrix}\n",
    "    1, 0, 0, 0 \\\\\n",
    "    0, 1, 0, 0\\\\\n",
    "    \\vdots \\\\\n",
    "     0,0,0,1 \\\\\n",
    "     \\end{bmatrix}\n",
    "\\end{align}\n",
    "we have the loss:\n",
    "$$\n",
    "J(\\Theta) = -\\dfrac{1}{m}\\sum_{i=1}^m\\sum_{k=1}^K  y_k^{(i)}log\\big(\\hat{p}_k^{(i)}\\big) =  -\\dfrac{1}{m} \\mbox{trace}(\\textbf{Y}log(\\hat{P})^T) \n",
    "$$\n",
    "and the gradient of the loss:\n",
    "$$\n",
    "\\nabla_{\\theta^k}J(\\Theta)= \\frac{1}{m}\\sum_{i=1}^m \\big(\\hat{p}_k^{(i)} - y_k^{(i)}\\big)\\textbf{x}^{(i)}\n",
    "$$\n",
    "and defining the matrix:\n",
    "$$\n",
    "\\nabla_{\\Theta}J(\\Theta) = \\dfrac{1}{m}\\textbf{X}^T \\big[\\textbf{P}- \\textbf{Y}\\big]\n",
    "$$\n",
    "\n",
    "So the batch gradient descent is:\n",
    "$$\n",
    "\\Theta ^{i} = \\Theta^{i-1} - \\eta \\cdot \\dfrac{1}{m}\\textbf{X}^T \\big[\\textbf{P}- \\textbf{Y}\\big]\n",
    "$$\n",
    "where $i$ is the iteration (the epoch) and $\\eta$ is the learning rate."
   ]
  },
  {
   "cell_type": "code",
   "execution_count": 4,
   "id": "bf44a77a",
   "metadata": {},
   "outputs": [],
   "source": [
    "def to_one_hot_encoding(y):\n",
    "    Y = np.zeros((y.size, y.max()+1))\n",
    "    Y[np.arange(y.size),y] = 1\n",
    "    return Y"
   ]
  },
  {
   "cell_type": "code",
   "execution_count": 5,
   "id": "ed6ad5e9",
   "metadata": {},
   "outputs": [],
   "source": [
    "def loss_function(self, Y, P):\n",
    "        m = Y.shape[0]\n",
    "        epsilon = 1e-7\n",
    "        loss = -1/m * np.trace(np.matmul(Y, np.log(P+ epsilon).transpose()))\n",
    "        return loss"
   ]
  },
  {
   "cell_type": "code",
   "execution_count": 6,
   "id": "4231f396",
   "metadata": {},
   "outputs": [],
   "source": [
    " def batch_gradient_descent(self, X_training, y_training, X_validation, y_validation, learning_rate, n_epochs):\n",
    "            best_loss = np.infty\n",
    "            err_loss = 1e-5\n",
    "            dim_inputs = X_training.shape[1]\n",
    "            dim_outputs = len(np.unique(y_training))\n",
    "            Theta = np.random.randn(dim_inputs, dim_outputs)\n",
    "            m = y_training.shape[0]\n",
    "            # one-hot-encoding\n",
    "            Y_training = to_one_hot_encoding(y_training)\n",
    "            Y_validation = to_one_hot_encoding(y_validation)\n",
    "            loss_training = []     \n",
    "            loss_validation = []\n",
    "            \n",
    "            for iteration in range(n_epochs):\n",
    "                P =  self.softmax_function(X_training, Theta)\n",
    "                loss_value = self.loss_function(Y_training,P)\n",
    "                loss_training.append(loss_value)\n",
    "                \n",
    "                gradient = 1/m * np.matmul(X_training.transpose(), P - Y_training)\n",
    "                Theta = Theta - learning_rate * gradient\n",
    "                # early stopping \n",
    "                P_validation = self.softmax_function(X_validation, Theta)\n",
    "                loss_validation_value = self.loss_function(Y_validation, P_validation)\n",
    "                loss_validation.append(loss_validation_value)\n",
    "                predicted_y = np.argmax(P_validation, axis=1)\n",
    "                accuracy = np.mean(y_validation == predicted_y) \n",
    "                if iteration % 500 == 0:\n",
    "                    print(\"Loss value\")\n",
    "                    print(iteration, loss_value)\n",
    "                    print(\"Validation accuracy\")\n",
    "                    print(accuracy)\n",
    "                if loss_validation_value < best_loss - err_loss:\n",
    "                    best_loss = loss_validation_value\n",
    "                else:\n",
    "                    print(iteration - 1, best_loss)\n",
    "                    print(iteration, loss_validation_value, \"early stopping!\")\n",
    "                    break\n",
    "                \n",
    "            return Theta, loss_training, loss_validation, iteration"
   ]
  },
  {
   "cell_type": "markdown",
   "id": "defdd14f",
   "metadata": {},
   "source": [
    "We finally define our split for training and validation set manually."
   ]
  },
  {
   "cell_type": "code",
   "execution_count": 7,
   "id": "73c39067",
   "metadata": {
    "scrolled": true
   },
   "outputs": [],
   "source": [
    "def create_train_validation_set(X, y, perc_val, random_seed = 2042):\n",
    "    np.random.seed(random_seed)\n",
    "    m = X.shape[0]\n",
    "    training_rows = int(np.floor(m * (1 - perc_val)))\n",
    "    int_bool = np.random.randint(0, m, training_rows)\n",
    "    X = np.c_[X, np.repeat(False, repeats=X.shape[0])]\n",
    "    y = np.c_[y, np.repeat(False, repeats=X.shape[0])]\n",
    "    X[int_bool, X.shape[1] - 1] = True\n",
    "    y[int_bool, 1] = True\n",
    "\n",
    "    training_set_X = X[X[:, X.shape[1]- 1] == 0,:-1]\n",
    "    validation_set_X = X[X[:, X.shape[1]- 1] == 1,:-1]\n",
    "    \n",
    "    training_set_y = y[y[:, 1] == 0, 0]\n",
    "    validation_set_y = y[y[:, 1] == 1, 0]\n",
    "    return training_set_X, validation_set_X, training_set_y, validation_set_y"
   ]
  },
  {
   "cell_type": "markdown",
   "id": "d347b95f",
   "metadata": {},
   "source": [
    "We define a function to add a bias to our data."
   ]
  },
  {
   "cell_type": "code",
   "execution_count": 8,
   "id": "a90033f8",
   "metadata": {},
   "outputs": [],
   "source": [
    "def add_bias(X):\n",
    "    X_with_bias = np.c_[np.ones([len(X), 1]), X]\n",
    "    return X_with_bias"
   ]
  },
  {
   "cell_type": "markdown",
   "id": "6fefefc1",
   "metadata": {},
   "source": [
    "## CREATION OF THE MODEL"
   ]
  },
  {
   "cell_type": "markdown",
   "id": "8685ef96",
   "metadata": {},
   "source": [
    "We need a class to scale our data substracting mean a dividing by the standard deviation."
   ]
  },
  {
   "cell_type": "code",
   "execution_count": 9,
   "id": "d37dea7b",
   "metadata": {},
   "outputs": [],
   "source": [
    " class scale():\n",
    "        def __init__(self):\n",
    "            self.mean = None\n",
    "            self.std = None\n",
    "        def fit(self, X):\n",
    "            self.mean = np.mean(X, axis = 0)\n",
    "            self.std = np.std(X, axis = 0)\n",
    "        def transform(self, X):\n",
    "            X_meanZero = X - self.mean\n",
    "            X_normalized = X_meanZero / self.std\n",
    "            return X_normalized"
   ]
  },
  {
   "cell_type": "markdown",
   "id": "76f0ea87",
   "metadata": {},
   "source": [
    "We incapsulate all we saw in the previous cells in one class."
   ]
  },
  {
   "cell_type": "code",
   "execution_count": 10,
   "id": "f8db5c8d",
   "metadata": {},
   "outputs": [],
   "source": [
    "class model_log_reg():\n",
    "    def __init__(self, X_training, y_training, X_validation, y_validation, learning_rate=None, n_epochs=None):\n",
    "        self.X_training = X_training\n",
    "        self.y_training = y_training\n",
    "        self.X_validation = X_validation\n",
    "        self.y_validation = y_validation\n",
    "        \n",
    "    def softmax_function(self, X, Theta):\n",
    "        def softmax_score(X, Theta):\n",
    "            score = np.matmul(X, Theta)\n",
    "            return score\n",
    "        P_not_normalized = np.exp(softmax_score(X, Theta)) \n",
    "        P = P_not_normalized / np.sum(P_not_normalized, axis=1, keepdims=True)\n",
    "        return P\n",
    "    \n",
    "    def loss_function(self, Y, P):\n",
    "        m = Y.shape[0]\n",
    "        epsilon = 1e-7\n",
    "        loss = -1/m * np.trace(np.matmul(Y, np.log(P+ epsilon).transpose()))\n",
    "        return loss\n",
    "    \n",
    "    def batch_gradient_descent(self, X_training, y_training, X_validation, y_validation, learning_rate, n_epochs):\n",
    "            best_loss = np.infty\n",
    "            err_loss = 1e-5\n",
    "            dim_inputs = X_training.shape[1]\n",
    "            dim_outputs = len(np.unique(y_training))\n",
    "            Theta = np.random.randn(dim_inputs, dim_outputs)\n",
    "            m = y_training.shape[0]\n",
    "            # one-hot-encoding\n",
    "            Y_training = to_one_hot_encoding(y_training)\n",
    "            Y_validation = to_one_hot_encoding(y_validation)\n",
    "            loss_training = []     \n",
    "            loss_validation = []\n",
    "            \n",
    "            for iteration in range(n_epochs):\n",
    "                P =  self.softmax_function(X_training, Theta)\n",
    "                loss_value = self.loss_function(Y_training,P)\n",
    "                loss_training.append(loss_value)\n",
    "                \n",
    "                gradient = 1/m * np.matmul(X_training.transpose(), P - Y_training)\n",
    "                Theta = Theta - learning_rate * gradient\n",
    "                # early stopping \n",
    "                P_validation = self.softmax_function(X_validation, Theta)\n",
    "                loss_validation_value = self.loss_function(Y_validation, P_validation)\n",
    "                loss_validation.append(loss_validation_value)\n",
    "                predicted_y = np.argmax(P_validation, axis=1)\n",
    "                accuracy = np.mean(y_validation == predicted_y) \n",
    "                if iteration % 500 == 0:\n",
    "                    print(\"Loss value\")\n",
    "                    print(iteration, loss_value)\n",
    "                    print(\"Validation accuracy\")\n",
    "                    print(accuracy)\n",
    "                if loss_validation_value < best_loss - err_loss:\n",
    "                    best_loss = loss_validation_value\n",
    "                else:\n",
    "                    print(iteration - 1, best_loss)\n",
    "                    print(iteration, loss_validation_value, \"early stopping!\")\n",
    "                    break\n",
    "                \n",
    "            return Theta, loss_training, loss_validation, iteration\n",
    "        \n",
    "    def fit(self, learning_rate=None, n_epochs=None):\n",
    "        if learning_rate is None:\n",
    "            self.learning_rate = 0.01\n",
    "        else:\n",
    "            self.learning_rate = learning_rate\n",
    "        if n_epochs is None:\n",
    "            self.n_epochs = 100\n",
    "        else:\n",
    "            self.n_epochs = n_epochs\n",
    "            \n",
    "        self.Theta, self.loss_training, self.loss_validation, self.epochs_fitted = self.batch_gradient_descent(self.X_training,\n",
    "                                                            self.y_training, \n",
    "                                                            self.X_validation, \n",
    "                                                            self.y_validation, \n",
    "                                                            self.learning_rate,\n",
    "                                                            self.n_epochs)   \n",
    "    \n",
    "    def predict(self, X):\n",
    "        P = self.softmax_function(X, self.Theta)\n",
    "        return P, np.argmax(P, axis=1)\n",
    "    \n",
    "    def plot_loss(self):\n",
    "        n_epocs_vector = np.arange(self.epochs_fitted + 1)\n",
    "        plt.plot(n_epocs_vector, self.loss_training, label=\"training loss\")\n",
    "        plt.plot(n_epocs_vector, self.loss_validation, label=\"validation loss\")\n",
    "        plt.legend()\n",
    "        \n",
    "    def return_Theta(self):\n",
    "        return self.Theta"
   ]
  },
  {
   "cell_type": "markdown",
   "id": "cf956f45",
   "metadata": {},
   "source": [
    "Let's finally train our algorithm using the **iris dataset** using all the classes.\n",
    "\n",
    "We use a validation set of $20\\%$ of the total dataset."
   ]
  },
  {
   "cell_type": "code",
   "execution_count": 11,
   "id": "df49009a",
   "metadata": {},
   "outputs": [
    {
     "name": "stdout",
     "output_type": "stream",
     "text": [
      "Loss value\n",
      "0 1.5643051961492238\n",
      "Validation accuracy\n",
      "0.5517241379310345\n",
      "Loss value\n",
      "500 0.18174693720387508\n",
      "Validation accuracy\n",
      "0.9770114942528736\n",
      "Loss value\n",
      "1000 0.1395068920602833\n",
      "Validation accuracy\n",
      "0.9770114942528736\n",
      "Loss value\n",
      "1500 0.12319961159742254\n",
      "Validation accuracy\n",
      "0.9770114942528736\n",
      "Loss value\n",
      "2000 0.11441660436472158\n",
      "Validation accuracy\n",
      "0.9770114942528736\n",
      "2490 0.08842037129508677\n",
      "2491 0.08841037377061316 early stopping!\n"
     ]
    }
   ],
   "source": [
    "iris = datasets.load_iris()\n",
    "iris_target = iris[\"target\"]\n",
    "iris_data = iris[\"data\"][:, (2, 3)]\n",
    "perc_validation = 0.2\n",
    "training_X, testing_X, training_y, validation_y = create_train_validation_set(iris_data,iris_target, perc_validation)\n",
    "standard_scaler = scale()\n",
    "standard_scaler.fit(training_X)\n",
    "training_X = standard_scaler.transform(training_X)\n",
    "testing_X = standard_scaler.transform(testing_X)\n",
    "\n",
    "X_training_final = add_bias(training_X)\n",
    "X_test_final = add_bias(testing_X)\n",
    "\n",
    "reg_model = model_log_reg(X_training_final, training_y, X_test_final, validation_y)\n",
    "reg_model.fit(learning_rate = 0.1, n_epochs=40000)"
   ]
  },
  {
   "cell_type": "markdown",
   "id": "9639c1ab",
   "metadata": {},
   "source": [
    "We plot the loss and we see that the algorithm is learning after every iteration. \n",
    "\n",
    "We don't see difference between training and validation loss so we can say that we are not overfitting the training set. "
   ]
  },
  {
   "cell_type": "code",
   "execution_count": 12,
   "id": "6d740bd1",
   "metadata": {},
   "outputs": [
    {
     "data": {
      "image/png": "[encoded data removed]",
      "text/plain": [
       "<Figure size 432x288 with 1 Axes>"
      ]
     },
     "metadata": {
      "needs_background": "light"
     },
     "output_type": "display_data"
    }
   ],
   "source": [
    "reg_model.plot_loss()"
   ]
  },
  {
   "cell_type": "code",
   "execution_count": 13,
   "id": "44c09258",
   "metadata": {},
   "outputs": [
    {
     "data": {
      "text/plain": [
       "array([[-2.01434394,  2.68451543, -2.09857287],\n",
       "       [-4.09434501, -0.56365357,  3.54905169],\n",
       "       [-2.69921398, -0.10577809,  4.53317528]])"
      ]
     },
     "execution_count": 13,
     "metadata": {},
     "output_type": "execute_result"
    }
   ],
   "source": [
    "reg_model.return_Theta()"
   ]
  },
  {
   "cell_type": "markdown",
   "id": "c3edb157",
   "metadata": {},
   "source": [
    "Finally we can plot the contours of each class area."
   ]
  },
  {
   "cell_type": "code",
   "execution_count": 14,
   "id": "4ca9c9de",
   "metadata": {
    "scrolled": true
   },
   "outputs": [
    {
     "data": {
      "image/png": "[encoded data removed]",
      "text/plain": [
       "<Figure size 720x288 with 1 Axes>"
      ]
     },
     "metadata": {
      "needs_background": "light"
     },
     "output_type": "display_data"
    }
   ],
   "source": [
    "x0, x1 = np.meshgrid(\n",
    "        np.linspace(0, 8, 500).reshape(-1, 1),\n",
    "        np.linspace(0, 3.5, 200).reshape(-1, 1),\n",
    "    )\n",
    "\n",
    "X_new = np.c_[x0.ravel(), x1.ravel()]\n",
    "X_new = standard_scaler.transform(X_new)\n",
    "\n",
    "X_new_with_bias = np.c_[np.ones([len(X_new), 1]), X_new]\n",
    "Y_proba, y_predict = reg_model.predict(X_new_with_bias)\n",
    "\n",
    "zz1 = Y_proba[:, 1].reshape(x0.shape)\n",
    "zz = y_predict.reshape(x0.shape)\n",
    "\n",
    "plt.figure(figsize=(10, 4))\n",
    "X = iris[\"data\"][:, (2, 3)]  # petal length, petal width\n",
    "y = iris[\"target\"]\n",
    "plt.plot(X[y==2, 0], X[y==2, 1], \"g^\", label=\"Iris virginica\")\n",
    "plt.plot(X[y==1, 0], X[y==1, 1], \"bs\", label=\"Iris versicolor\")\n",
    "plt.plot(X[y==0, 0], X[y==0, 1], \"yo\", label=\"Iris setosa\")\n",
    "\n",
    "custom_cmap = ListedColormap(['#fafab0','#9898ff','#a0faa0'])\n",
    "plt.contourf(x0, x1, zz, cmap=custom_cmap)\n",
    "contour = plt.contour(x0, x1, zz1, cmap=plt.cm.brg)\n",
    "plt.clabel(contour, inline=1, fontsize=12)\n",
    "plt.xlabel(\"Petal length\", fontsize=14)\n",
    "plt.ylabel(\"Petal width\", fontsize=14)\n",
    "plt.legend(loc=\"upper left\", fontsize=14)\n",
    "plt.axis([0, 7, 0, 3.5])\n",
    "plt.show()"
   ]
  },
  {
   "cell_type": "markdown",
   "id": "b76977ce",
   "metadata": {},
   "source": [
    "From this last plot we can see that the results make sense and we are not overfitting as we said."
   ]
  }
 ],
 "metadata": {
  "kernelspec": {
   "display_name": "Python 3 (ipykernel)",
   "language": "python",
   "name": "python3"
  },
  "language_info": {
   "codemirror_mode": {
    "name": "ipython",
    "version": 3
   },
   "file_extension": ".py",
   "mimetype": "text/x-python",
   "name": "python",
   "nbconvert_exporter": "python",
   "pygments_lexer": "ipython3",
   "version": "3.8.10"
  }
 },
 "nbformat": 4,
 "nbformat_minor": 5
}
